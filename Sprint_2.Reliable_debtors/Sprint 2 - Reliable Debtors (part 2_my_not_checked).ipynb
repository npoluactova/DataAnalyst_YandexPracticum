{
 "cells": [
  {
   "cell_type": "markdown",
   "id": "c81daeeb",
   "metadata": {
    "deletable": false,
    "id": "c81daeeb"
   },
   "source": [
    "# Исследование надежности заемщиков\n"
   ]
  },
  {
   "cell_type": "markdown",
   "id": "827c20bf",
   "metadata": {
    "id": "827c20bf"
   },
   "source": [
    "Во второй части проекта вы выполните шаги 3 и 4. Их вручную проверит ревьюер.\n",
    "Чтобы вам не пришлось писать код заново для шагов 1 и 2, мы добавили авторские решения в ячейки с кодом. \n",
    "\n"
   ]
  },
  {
   "cell_type": "markdown",
   "id": "744d7639",
   "metadata": {
    "deletable": false,
    "id": "744d7639"
   },
   "source": [
    "## Откройте таблицу и изучите общую информацию о данных"
   ]
  },
  {
   "cell_type": "markdown",
   "id": "e7a14c31",
   "metadata": {
    "deletable": false,
    "id": "e7a14c31"
   },
   "source": [
    "**Задание 1. Импортируйте библиотеку pandas. Считайте данные из csv-файла в датафрейм и сохраните в переменную `data`. Путь к файлу:**\n",
    "\n",
    "`/datasets/data.csv`"
   ]
  },
  {
   "cell_type": "code",
   "execution_count": 1,
   "id": "7bcf75c9",
   "metadata": {
    "deletable": false,
    "id": "7bcf75c9"
   },
   "outputs": [],
   "source": [
    "import pandas as pd\n",
    "\n",
    "try:\n",
    "    data = pd.read_csv('/datasets/data.csv')\n",
    "except:\n",
    "    data = pd.read_csv('https://code.s3.yandex.net/datasets/data.csv')"
   ]
  },
  {
   "cell_type": "markdown",
   "id": "b8038fe3",
   "metadata": {
    "deletable": false,
    "id": "b8038fe3"
   },
   "source": [
    "**Задание 2. Выведите первые 20 строчек датафрейма `data` на экран.**"
   ]
  },
  {
   "cell_type": "code",
   "execution_count": 2,
   "id": "2a7cab99",
   "metadata": {
    "deletable": false,
    "id": "2a7cab99",
    "outputId": "1a8f3ef2-d323-4ec2-ddf7-89670b5944c4"
   },
   "outputs": [
    {
     "data": {
      "text/html": [
       "<div>\n",
       "<style scoped>\n",
       "    .dataframe tbody tr th:only-of-type {\n",
       "        vertical-align: middle;\n",
       "    }\n",
       "\n",
       "    .dataframe tbody tr th {\n",
       "        vertical-align: top;\n",
       "    }\n",
       "\n",
       "    .dataframe thead th {\n",
       "        text-align: right;\n",
       "    }\n",
       "</style>\n",
       "<table border=\"1\" class=\"dataframe\">\n",
       "  <thead>\n",
       "    <tr style=\"text-align: right;\">\n",
       "      <th></th>\n",
       "      <th>children</th>\n",
       "      <th>days_employed</th>\n",
       "      <th>dob_years</th>\n",
       "      <th>education</th>\n",
       "      <th>education_id</th>\n",
       "      <th>family_status</th>\n",
       "      <th>family_status_id</th>\n",
       "      <th>gender</th>\n",
       "      <th>income_type</th>\n",
       "      <th>debt</th>\n",
       "      <th>total_income</th>\n",
       "      <th>purpose</th>\n",
       "    </tr>\n",
       "  </thead>\n",
       "  <tbody>\n",
       "    <tr>\n",
       "      <th>0</th>\n",
       "      <td>1</td>\n",
       "      <td>-8437.673028</td>\n",
       "      <td>42</td>\n",
       "      <td>высшее</td>\n",
       "      <td>0</td>\n",
       "      <td>женат / замужем</td>\n",
       "      <td>0</td>\n",
       "      <td>F</td>\n",
       "      <td>сотрудник</td>\n",
       "      <td>0</td>\n",
       "      <td>253875.639453</td>\n",
       "      <td>покупка жилья</td>\n",
       "    </tr>\n",
       "    <tr>\n",
       "      <th>1</th>\n",
       "      <td>1</td>\n",
       "      <td>-4024.803754</td>\n",
       "      <td>36</td>\n",
       "      <td>среднее</td>\n",
       "      <td>1</td>\n",
       "      <td>женат / замужем</td>\n",
       "      <td>0</td>\n",
       "      <td>F</td>\n",
       "      <td>сотрудник</td>\n",
       "      <td>0</td>\n",
       "      <td>112080.014102</td>\n",
       "      <td>приобретение автомобиля</td>\n",
       "    </tr>\n",
       "    <tr>\n",
       "      <th>2</th>\n",
       "      <td>0</td>\n",
       "      <td>-5623.422610</td>\n",
       "      <td>33</td>\n",
       "      <td>Среднее</td>\n",
       "      <td>1</td>\n",
       "      <td>женат / замужем</td>\n",
       "      <td>0</td>\n",
       "      <td>M</td>\n",
       "      <td>сотрудник</td>\n",
       "      <td>0</td>\n",
       "      <td>145885.952297</td>\n",
       "      <td>покупка жилья</td>\n",
       "    </tr>\n",
       "    <tr>\n",
       "      <th>3</th>\n",
       "      <td>3</td>\n",
       "      <td>-4124.747207</td>\n",
       "      <td>32</td>\n",
       "      <td>среднее</td>\n",
       "      <td>1</td>\n",
       "      <td>женат / замужем</td>\n",
       "      <td>0</td>\n",
       "      <td>M</td>\n",
       "      <td>сотрудник</td>\n",
       "      <td>0</td>\n",
       "      <td>267628.550329</td>\n",
       "      <td>дополнительное образование</td>\n",
       "    </tr>\n",
       "    <tr>\n",
       "      <th>4</th>\n",
       "      <td>0</td>\n",
       "      <td>340266.072047</td>\n",
       "      <td>53</td>\n",
       "      <td>среднее</td>\n",
       "      <td>1</td>\n",
       "      <td>гражданский брак</td>\n",
       "      <td>1</td>\n",
       "      <td>F</td>\n",
       "      <td>пенсионер</td>\n",
       "      <td>0</td>\n",
       "      <td>158616.077870</td>\n",
       "      <td>сыграть свадьбу</td>\n",
       "    </tr>\n",
       "    <tr>\n",
       "      <th>5</th>\n",
       "      <td>0</td>\n",
       "      <td>-926.185831</td>\n",
       "      <td>27</td>\n",
       "      <td>высшее</td>\n",
       "      <td>0</td>\n",
       "      <td>гражданский брак</td>\n",
       "      <td>1</td>\n",
       "      <td>M</td>\n",
       "      <td>компаньон</td>\n",
       "      <td>0</td>\n",
       "      <td>255763.565419</td>\n",
       "      <td>покупка жилья</td>\n",
       "    </tr>\n",
       "    <tr>\n",
       "      <th>6</th>\n",
       "      <td>0</td>\n",
       "      <td>-2879.202052</td>\n",
       "      <td>43</td>\n",
       "      <td>высшее</td>\n",
       "      <td>0</td>\n",
       "      <td>женат / замужем</td>\n",
       "      <td>0</td>\n",
       "      <td>F</td>\n",
       "      <td>компаньон</td>\n",
       "      <td>0</td>\n",
       "      <td>240525.971920</td>\n",
       "      <td>операции с жильем</td>\n",
       "    </tr>\n",
       "    <tr>\n",
       "      <th>7</th>\n",
       "      <td>0</td>\n",
       "      <td>-152.779569</td>\n",
       "      <td>50</td>\n",
       "      <td>СРЕДНЕЕ</td>\n",
       "      <td>1</td>\n",
       "      <td>женат / замужем</td>\n",
       "      <td>0</td>\n",
       "      <td>M</td>\n",
       "      <td>сотрудник</td>\n",
       "      <td>0</td>\n",
       "      <td>135823.934197</td>\n",
       "      <td>образование</td>\n",
       "    </tr>\n",
       "    <tr>\n",
       "      <th>8</th>\n",
       "      <td>2</td>\n",
       "      <td>-6929.865299</td>\n",
       "      <td>35</td>\n",
       "      <td>ВЫСШЕЕ</td>\n",
       "      <td>0</td>\n",
       "      <td>гражданский брак</td>\n",
       "      <td>1</td>\n",
       "      <td>F</td>\n",
       "      <td>сотрудник</td>\n",
       "      <td>0</td>\n",
       "      <td>95856.832424</td>\n",
       "      <td>на проведение свадьбы</td>\n",
       "    </tr>\n",
       "    <tr>\n",
       "      <th>9</th>\n",
       "      <td>0</td>\n",
       "      <td>-2188.756445</td>\n",
       "      <td>41</td>\n",
       "      <td>среднее</td>\n",
       "      <td>1</td>\n",
       "      <td>женат / замужем</td>\n",
       "      <td>0</td>\n",
       "      <td>M</td>\n",
       "      <td>сотрудник</td>\n",
       "      <td>0</td>\n",
       "      <td>144425.938277</td>\n",
       "      <td>покупка жилья для семьи</td>\n",
       "    </tr>\n",
       "    <tr>\n",
       "      <th>10</th>\n",
       "      <td>2</td>\n",
       "      <td>-4171.483647</td>\n",
       "      <td>36</td>\n",
       "      <td>высшее</td>\n",
       "      <td>0</td>\n",
       "      <td>женат / замужем</td>\n",
       "      <td>0</td>\n",
       "      <td>M</td>\n",
       "      <td>компаньон</td>\n",
       "      <td>0</td>\n",
       "      <td>113943.491460</td>\n",
       "      <td>покупка недвижимости</td>\n",
       "    </tr>\n",
       "    <tr>\n",
       "      <th>11</th>\n",
       "      <td>0</td>\n",
       "      <td>-792.701887</td>\n",
       "      <td>40</td>\n",
       "      <td>среднее</td>\n",
       "      <td>1</td>\n",
       "      <td>женат / замужем</td>\n",
       "      <td>0</td>\n",
       "      <td>F</td>\n",
       "      <td>сотрудник</td>\n",
       "      <td>0</td>\n",
       "      <td>77069.234271</td>\n",
       "      <td>покупка коммерческой недвижимости</td>\n",
       "    </tr>\n",
       "    <tr>\n",
       "      <th>12</th>\n",
       "      <td>0</td>\n",
       "      <td>NaN</td>\n",
       "      <td>65</td>\n",
       "      <td>среднее</td>\n",
       "      <td>1</td>\n",
       "      <td>гражданский брак</td>\n",
       "      <td>1</td>\n",
       "      <td>M</td>\n",
       "      <td>пенсионер</td>\n",
       "      <td>0</td>\n",
       "      <td>NaN</td>\n",
       "      <td>сыграть свадьбу</td>\n",
       "    </tr>\n",
       "    <tr>\n",
       "      <th>13</th>\n",
       "      <td>0</td>\n",
       "      <td>-1846.641941</td>\n",
       "      <td>54</td>\n",
       "      <td>неоконченное высшее</td>\n",
       "      <td>2</td>\n",
       "      <td>женат / замужем</td>\n",
       "      <td>0</td>\n",
       "      <td>F</td>\n",
       "      <td>сотрудник</td>\n",
       "      <td>0</td>\n",
       "      <td>130458.228857</td>\n",
       "      <td>приобретение автомобиля</td>\n",
       "    </tr>\n",
       "    <tr>\n",
       "      <th>14</th>\n",
       "      <td>0</td>\n",
       "      <td>-1844.956182</td>\n",
       "      <td>56</td>\n",
       "      <td>высшее</td>\n",
       "      <td>0</td>\n",
       "      <td>гражданский брак</td>\n",
       "      <td>1</td>\n",
       "      <td>F</td>\n",
       "      <td>компаньон</td>\n",
       "      <td>1</td>\n",
       "      <td>165127.911772</td>\n",
       "      <td>покупка жилой недвижимости</td>\n",
       "    </tr>\n",
       "    <tr>\n",
       "      <th>15</th>\n",
       "      <td>1</td>\n",
       "      <td>-972.364419</td>\n",
       "      <td>26</td>\n",
       "      <td>среднее</td>\n",
       "      <td>1</td>\n",
       "      <td>женат / замужем</td>\n",
       "      <td>0</td>\n",
       "      <td>F</td>\n",
       "      <td>сотрудник</td>\n",
       "      <td>0</td>\n",
       "      <td>116820.904450</td>\n",
       "      <td>строительство собственной недвижимости</td>\n",
       "    </tr>\n",
       "    <tr>\n",
       "      <th>16</th>\n",
       "      <td>0</td>\n",
       "      <td>-1719.934226</td>\n",
       "      <td>35</td>\n",
       "      <td>среднее</td>\n",
       "      <td>1</td>\n",
       "      <td>женат / замужем</td>\n",
       "      <td>0</td>\n",
       "      <td>F</td>\n",
       "      <td>сотрудник</td>\n",
       "      <td>0</td>\n",
       "      <td>289202.704229</td>\n",
       "      <td>недвижимость</td>\n",
       "    </tr>\n",
       "    <tr>\n",
       "      <th>17</th>\n",
       "      <td>0</td>\n",
       "      <td>-2369.999720</td>\n",
       "      <td>33</td>\n",
       "      <td>высшее</td>\n",
       "      <td>0</td>\n",
       "      <td>гражданский брак</td>\n",
       "      <td>1</td>\n",
       "      <td>M</td>\n",
       "      <td>сотрудник</td>\n",
       "      <td>0</td>\n",
       "      <td>90410.586745</td>\n",
       "      <td>строительство недвижимости</td>\n",
       "    </tr>\n",
       "    <tr>\n",
       "      <th>18</th>\n",
       "      <td>0</td>\n",
       "      <td>400281.136913</td>\n",
       "      <td>53</td>\n",
       "      <td>среднее</td>\n",
       "      <td>1</td>\n",
       "      <td>вдовец / вдова</td>\n",
       "      <td>2</td>\n",
       "      <td>F</td>\n",
       "      <td>пенсионер</td>\n",
       "      <td>0</td>\n",
       "      <td>56823.777243</td>\n",
       "      <td>на покупку подержанного автомобиля</td>\n",
       "    </tr>\n",
       "    <tr>\n",
       "      <th>19</th>\n",
       "      <td>0</td>\n",
       "      <td>-10038.818549</td>\n",
       "      <td>48</td>\n",
       "      <td>СРЕДНЕЕ</td>\n",
       "      <td>1</td>\n",
       "      <td>в разводе</td>\n",
       "      <td>3</td>\n",
       "      <td>F</td>\n",
       "      <td>сотрудник</td>\n",
       "      <td>0</td>\n",
       "      <td>242831.107982</td>\n",
       "      <td>на покупку своего автомобиля</td>\n",
       "    </tr>\n",
       "  </tbody>\n",
       "</table>\n",
       "</div>"
      ],
      "text/plain": [
       "    children  days_employed  dob_years            education  education_id  \\\n",
       "0          1   -8437.673028         42               высшее             0   \n",
       "1          1   -4024.803754         36              среднее             1   \n",
       "2          0   -5623.422610         33              Среднее             1   \n",
       "3          3   -4124.747207         32              среднее             1   \n",
       "4          0  340266.072047         53              среднее             1   \n",
       "5          0    -926.185831         27               высшее             0   \n",
       "6          0   -2879.202052         43               высшее             0   \n",
       "7          0    -152.779569         50              СРЕДНЕЕ             1   \n",
       "8          2   -6929.865299         35               ВЫСШЕЕ             0   \n",
       "9          0   -2188.756445         41              среднее             1   \n",
       "10         2   -4171.483647         36               высшее             0   \n",
       "11         0    -792.701887         40              среднее             1   \n",
       "12         0            NaN         65              среднее             1   \n",
       "13         0   -1846.641941         54  неоконченное высшее             2   \n",
       "14         0   -1844.956182         56               высшее             0   \n",
       "15         1    -972.364419         26              среднее             1   \n",
       "16         0   -1719.934226         35              среднее             1   \n",
       "17         0   -2369.999720         33               высшее             0   \n",
       "18         0  400281.136913         53              среднее             1   \n",
       "19         0  -10038.818549         48              СРЕДНЕЕ             1   \n",
       "\n",
       "       family_status  family_status_id gender income_type  debt  \\\n",
       "0    женат / замужем                 0      F   сотрудник     0   \n",
       "1    женат / замужем                 0      F   сотрудник     0   \n",
       "2    женат / замужем                 0      M   сотрудник     0   \n",
       "3    женат / замужем                 0      M   сотрудник     0   \n",
       "4   гражданский брак                 1      F   пенсионер     0   \n",
       "5   гражданский брак                 1      M   компаньон     0   \n",
       "6    женат / замужем                 0      F   компаньон     0   \n",
       "7    женат / замужем                 0      M   сотрудник     0   \n",
       "8   гражданский брак                 1      F   сотрудник     0   \n",
       "9    женат / замужем                 0      M   сотрудник     0   \n",
       "10   женат / замужем                 0      M   компаньон     0   \n",
       "11   женат / замужем                 0      F   сотрудник     0   \n",
       "12  гражданский брак                 1      M   пенсионер     0   \n",
       "13   женат / замужем                 0      F   сотрудник     0   \n",
       "14  гражданский брак                 1      F   компаньон     1   \n",
       "15   женат / замужем                 0      F   сотрудник     0   \n",
       "16   женат / замужем                 0      F   сотрудник     0   \n",
       "17  гражданский брак                 1      M   сотрудник     0   \n",
       "18    вдовец / вдова                 2      F   пенсионер     0   \n",
       "19         в разводе                 3      F   сотрудник     0   \n",
       "\n",
       "     total_income                                 purpose  \n",
       "0   253875.639453                           покупка жилья  \n",
       "1   112080.014102                 приобретение автомобиля  \n",
       "2   145885.952297                           покупка жилья  \n",
       "3   267628.550329              дополнительное образование  \n",
       "4   158616.077870                         сыграть свадьбу  \n",
       "5   255763.565419                           покупка жилья  \n",
       "6   240525.971920                       операции с жильем  \n",
       "7   135823.934197                             образование  \n",
       "8    95856.832424                   на проведение свадьбы  \n",
       "9   144425.938277                 покупка жилья для семьи  \n",
       "10  113943.491460                    покупка недвижимости  \n",
       "11   77069.234271       покупка коммерческой недвижимости  \n",
       "12            NaN                         сыграть свадьбу  \n",
       "13  130458.228857                 приобретение автомобиля  \n",
       "14  165127.911772              покупка жилой недвижимости  \n",
       "15  116820.904450  строительство собственной недвижимости  \n",
       "16  289202.704229                            недвижимость  \n",
       "17   90410.586745              строительство недвижимости  \n",
       "18   56823.777243      на покупку подержанного автомобиля  \n",
       "19  242831.107982            на покупку своего автомобиля  "
      ]
     },
     "execution_count": 2,
     "metadata": {},
     "output_type": "execute_result"
    }
   ],
   "source": [
    "data.head(20)"
   ]
  },
  {
   "cell_type": "markdown",
   "id": "1c12e233",
   "metadata": {
    "deletable": false,
    "id": "1c12e233"
   },
   "source": [
    "**Задание 3. Выведите основную информацию о датафрейме с помощью метода `info()`.**"
   ]
  },
  {
   "cell_type": "code",
   "execution_count": 3,
   "id": "2b757bca",
   "metadata": {
    "deletable": false,
    "id": "2b757bca",
    "outputId": "15376089-8dad-46c9-b520-c05248d43158"
   },
   "outputs": [
    {
     "name": "stdout",
     "output_type": "stream",
     "text": [
      "<class 'pandas.core.frame.DataFrame'>\n",
      "RangeIndex: 21525 entries, 0 to 21524\n",
      "Data columns (total 12 columns):\n",
      " #   Column            Non-Null Count  Dtype  \n",
      "---  ------            --------------  -----  \n",
      " 0   children          21525 non-null  int64  \n",
      " 1   days_employed     19351 non-null  float64\n",
      " 2   dob_years         21525 non-null  int64  \n",
      " 3   education         21525 non-null  object \n",
      " 4   education_id      21525 non-null  int64  \n",
      " 5   family_status     21525 non-null  object \n",
      " 6   family_status_id  21525 non-null  int64  \n",
      " 7   gender            21525 non-null  object \n",
      " 8   income_type       21525 non-null  object \n",
      " 9   debt              21525 non-null  int64  \n",
      " 10  total_income      19351 non-null  float64\n",
      " 11  purpose           21525 non-null  object \n",
      "dtypes: float64(2), int64(5), object(5)\n",
      "memory usage: 2.0+ MB\n"
     ]
    }
   ],
   "source": [
    "data.info()"
   ]
  },
  {
   "cell_type": "markdown",
   "id": "333ec665",
   "metadata": {
    "deletable": false,
    "id": "333ec665"
   },
   "source": [
    "## Предобработка данных"
   ]
  },
  {
   "cell_type": "markdown",
   "id": "02d92d53",
   "metadata": {
    "deletable": false,
    "id": "02d92d53"
   },
   "source": [
    "### Удаление пропусков"
   ]
  },
  {
   "cell_type": "markdown",
   "id": "cd84967c",
   "metadata": {
    "deletable": false,
    "id": "cd84967c"
   },
   "source": [
    "**Задание 4. Выведите количество пропущенных значений для каждого столбца. Используйте комбинацию двух методов.**"
   ]
  },
  {
   "cell_type": "code",
   "execution_count": 4,
   "id": "7f9b2309",
   "metadata": {
    "deletable": false,
    "id": "7f9b2309",
    "outputId": "81f4d817-781c-465c-ed15-91ce4446810d"
   },
   "outputs": [
    {
     "data": {
      "text/plain": [
       "children               0\n",
       "days_employed       2174\n",
       "dob_years              0\n",
       "education              0\n",
       "education_id           0\n",
       "family_status          0\n",
       "family_status_id       0\n",
       "gender                 0\n",
       "income_type            0\n",
       "debt                   0\n",
       "total_income        2174\n",
       "purpose                0\n",
       "dtype: int64"
      ]
     },
     "execution_count": 4,
     "metadata": {},
     "output_type": "execute_result"
    }
   ],
   "source": [
    "data.isna().sum()"
   ]
  },
  {
   "cell_type": "markdown",
   "id": "db86e27b",
   "metadata": {
    "deletable": false,
    "id": "db86e27b"
   },
   "source": [
    "**Задание 5. В двух столбцах есть пропущенные значения. Один из них — `days_employed`. Пропуски в этом столбце вы обработаете на следующем этапе. Другой столбец с пропущенными значениями — `total_income` — хранит данные о доходах. На сумму дохода сильнее всего влияет тип занятости, поэтому заполнить пропуски в этом столбце нужно медианным значением по каждому типу из столбца `income_type`. Например, у человека с типом занятости `сотрудник` пропуск в столбце `total_income` должен быть заполнен медианным доходом среди всех записей с тем же типом.**"
   ]
  },
  {
   "cell_type": "code",
   "execution_count": 5,
   "id": "42006a93",
   "metadata": {
    "deletable": false,
    "id": "42006a93"
   },
   "outputs": [],
   "source": [
    "for t in data['income_type'].unique():\n",
    "    data.loc[(data['income_type'] == t) & (data['total_income'].isna()), 'total_income'] = \\\n",
    "    data.loc[(data['income_type'] == t), 'total_income'].median()"
   ]
  },
  {
   "cell_type": "markdown",
   "id": "89da5ece",
   "metadata": {
    "deletable": false,
    "id": "89da5ece"
   },
   "source": [
    "### Обработка аномальных значений"
   ]
  },
  {
   "cell_type": "markdown",
   "id": "57964554",
   "metadata": {
    "deletable": false,
    "id": "57964554"
   },
   "source": [
    "**Задание 6. В данных могут встречаться артефакты (аномалии) — значения, которые не отражают действительность и появились по какой-то ошибке. таким артефактом будет отрицательное количество дней трудового стажа в столбце `days_employed`. Для реальных данных это нормально. Обработайте значения в этом столбце: замените все отрицательные значения положительными с помощью метода `abs()`.**"
   ]
  },
  {
   "cell_type": "code",
   "execution_count": 6,
   "id": "f6f055bf",
   "metadata": {
    "deletable": false,
    "id": "f6f055bf"
   },
   "outputs": [],
   "source": [
    "data['days_employed'] = data['days_employed'].abs()"
   ]
  },
  {
   "cell_type": "markdown",
   "id": "6107dd2f",
   "metadata": {
    "deletable": false,
    "id": "6107dd2f"
   },
   "source": [
    "**Задание 7. Для каждого типа занятости выведите медианное значение трудового стажа `days_employed` в днях.**"
   ]
  },
  {
   "cell_type": "code",
   "execution_count": 7,
   "id": "85a5faf6",
   "metadata": {
    "deletable": false,
    "id": "85a5faf6",
    "outputId": "801ef80e-522b-4668-f34e-565af7432bcf"
   },
   "outputs": [
    {
     "data": {
      "text/plain": [
       "income_type\n",
       "безработный        366413.652744\n",
       "в декрете            3296.759962\n",
       "госслужащий          2689.368353\n",
       "компаньон            1547.382223\n",
       "пенсионер          365213.306266\n",
       "предприниматель       520.848083\n",
       "сотрудник            1574.202821\n",
       "студент               578.751554\n",
       "Name: days_employed, dtype: float64"
      ]
     },
     "execution_count": 7,
     "metadata": {},
     "output_type": "execute_result"
    }
   ],
   "source": [
    "data.groupby('income_type')['days_employed'].agg('median')"
   ]
  },
  {
   "cell_type": "markdown",
   "id": "38d1a030",
   "metadata": {
    "deletable": false,
    "id": "38d1a030"
   },
   "source": [
    "У двух типов (безработные и пенсионеры) получатся аномально большие значения. Исправить такие значения сложно, поэтому оставьте их как есть. Тем более этот столбец не понадобится вам для исследования."
   ]
  },
  {
   "cell_type": "markdown",
   "id": "d8a9f147",
   "metadata": {
    "deletable": false,
    "id": "d8a9f147"
   },
   "source": [
    "**Задание 8. Выведите перечень уникальных значений столбца `children`.**"
   ]
  },
  {
   "cell_type": "code",
   "execution_count": 8,
   "id": "ef5056eb",
   "metadata": {
    "deletable": false,
    "id": "ef5056eb",
    "outputId": "6975b15c-7f95-4697-d16d-a0c79b657b03"
   },
   "outputs": [
    {
     "data": {
      "text/plain": [
       "array([ 1,  0,  3,  2, -1,  4, 20,  5])"
      ]
     },
     "execution_count": 8,
     "metadata": {},
     "output_type": "execute_result"
    }
   ],
   "source": [
    "data['children'].unique()"
   ]
  },
  {
   "cell_type": "markdown",
   "id": "40b9ebf2",
   "metadata": {
    "deletable": false,
    "id": "40b9ebf2"
   },
   "source": [
    "**Задание 9. В столбце `children` есть два аномальных значения. Удалите строки, в которых встречаются такие аномальные значения из датафрейма `data`.**"
   ]
  },
  {
   "cell_type": "code",
   "execution_count": 9,
   "id": "3ff9801d",
   "metadata": {
    "deletable": false,
    "id": "3ff9801d"
   },
   "outputs": [],
   "source": [
    "data = data[(data['children'] != -1) & (data['children'] != 20)]"
   ]
  },
  {
   "cell_type": "markdown",
   "id": "bbc4d0ce",
   "metadata": {
    "deletable": false,
    "id": "bbc4d0ce"
   },
   "source": [
    "**Задание 10. Ещё раз выведите перечень уникальных значений столбца `children`, чтобы убедиться, что артефакты удалены.**"
   ]
  },
  {
   "cell_type": "code",
   "execution_count": 10,
   "id": "ad4fa8b7",
   "metadata": {
    "deletable": false,
    "id": "ad4fa8b7",
    "outputId": "b2097101-d49d-44d9-901b-32a65c9463d1"
   },
   "outputs": [
    {
     "data": {
      "text/plain": [
       "array([1, 0, 3, 2, 4, 5])"
      ]
     },
     "execution_count": 10,
     "metadata": {},
     "output_type": "execute_result"
    }
   ],
   "source": [
    "data['children'].unique()"
   ]
  },
  {
   "cell_type": "markdown",
   "id": "75440b63",
   "metadata": {
    "deletable": false,
    "id": "75440b63"
   },
   "source": [
    "### Удаление пропусков (продолжение)"
   ]
  },
  {
   "cell_type": "markdown",
   "id": "f4ea573f",
   "metadata": {
    "deletable": false,
    "id": "f4ea573f"
   },
   "source": [
    "**Задание 11. Заполните пропуски в столбце `days_employed` медианными значениями по каждого типа занятости `income_type`.**"
   ]
  },
  {
   "cell_type": "code",
   "execution_count": 11,
   "id": "af6b1a7e",
   "metadata": {
    "deletable": false,
    "id": "af6b1a7e"
   },
   "outputs": [],
   "source": [
    "for t in data['income_type'].unique():\n",
    "    data.loc[(data['income_type'] == t) & (data['days_employed'].isna()), 'days_employed'] = \\\n",
    "    data.loc[(data['income_type'] == t), 'days_employed'].median()"
   ]
  },
  {
   "cell_type": "markdown",
   "id": "2753f40d",
   "metadata": {
    "deletable": false,
    "id": "2753f40d"
   },
   "source": [
    "**Задание 12. Убедитесь, что все пропуски заполнены. Проверьте себя и ещё раз выведите количество пропущенных значений для каждого столбца с помощью двух методов.**"
   ]
  },
  {
   "cell_type": "code",
   "execution_count": 12,
   "id": "55f78bc2",
   "metadata": {
    "deletable": false,
    "id": "55f78bc2",
    "outputId": "8da1e4e1-358e-4e87-98c9-f261bce0a7b2"
   },
   "outputs": [
    {
     "data": {
      "text/plain": [
       "children            0\n",
       "days_employed       0\n",
       "dob_years           0\n",
       "education           0\n",
       "education_id        0\n",
       "family_status       0\n",
       "family_status_id    0\n",
       "gender              0\n",
       "income_type         0\n",
       "debt                0\n",
       "total_income        0\n",
       "purpose             0\n",
       "dtype: int64"
      ]
     },
     "execution_count": 12,
     "metadata": {},
     "output_type": "execute_result"
    }
   ],
   "source": [
    "data.isna().sum()"
   ]
  },
  {
   "cell_type": "markdown",
   "id": "ddc81e43",
   "metadata": {
    "deletable": false,
    "id": "ddc81e43"
   },
   "source": [
    "### Изменение типов данных"
   ]
  },
  {
   "cell_type": "markdown",
   "id": "42d19d24",
   "metadata": {
    "deletable": false,
    "id": "42d19d24"
   },
   "source": [
    "**Задание 13. Замените вещественный тип данных в столбце `total_income` на целочисленный с помощью метода `astype()`.**"
   ]
  },
  {
   "cell_type": "code",
   "execution_count": 13,
   "id": "920b65ad",
   "metadata": {
    "deletable": false,
    "id": "920b65ad"
   },
   "outputs": [],
   "source": [
    "data['total_income'] = data['total_income'].astype(int)"
   ]
  },
  {
   "cell_type": "markdown",
   "id": "80c420ba",
   "metadata": {
    "deletable": false,
    "id": "80c420ba"
   },
   "source": [
    "### Обработка дубликатов"
   ]
  },
  {
   "cell_type": "markdown",
   "id": "dc587695",
   "metadata": {
    "deletable": false,
    "id": "dc587695"
   },
   "source": [
    "**Задание 14. Выведите на экран количество строк-дубликатов в данных. Если такие строки присутствуют, удалите их.**"
   ]
  },
  {
   "cell_type": "code",
   "execution_count": 14,
   "id": "3ee445e4",
   "metadata": {
    "deletable": false,
    "id": "3ee445e4",
    "outputId": "9684deba-1934-42d1-99e1-cda61740f822"
   },
   "outputs": [
    {
     "data": {
      "text/plain": [
       "54"
      ]
     },
     "execution_count": 14,
     "metadata": {},
     "output_type": "execute_result"
    }
   ],
   "source": [
    "data.duplicated().sum()"
   ]
  },
  {
   "cell_type": "code",
   "execution_count": 15,
   "id": "8575fe05",
   "metadata": {
    "deletable": false,
    "id": "8575fe05"
   },
   "outputs": [],
   "source": [
    "data = data.drop_duplicates()"
   ]
  },
  {
   "cell_type": "markdown",
   "id": "9771a76c",
   "metadata": {
    "deletable": false,
    "id": "9771a76c"
   },
   "source": [
    "**Задание 15. Обработайте неявные дубликаты в столбце `education`. В этом столбце есть одни и те же значения, но записанные по-разному: с использованием заглавных и строчных букв. Приведите их к нижнему регистру. Проверьте остальные столбцы.**"
   ]
  },
  {
   "cell_type": "code",
   "execution_count": 16,
   "id": "a9f8e2bf",
   "metadata": {
    "deletable": false,
    "id": "a9f8e2bf"
   },
   "outputs": [],
   "source": [
    "data['education'] = data['education'].str.lower()"
   ]
  },
  {
   "cell_type": "markdown",
   "id": "9904cf55",
   "metadata": {
    "deletable": false,
    "id": "9904cf55"
   },
   "source": [
    "### Категоризация данных"
   ]
  },
  {
   "cell_type": "markdown",
   "id": "72fcc8a2",
   "metadata": {
    "deletable": false,
    "id": "72fcc8a2"
   },
   "source": [
    "**Задание 16. На основании диапазонов, указанных ниже, создайте в датафрейме `data` столбец `total_income_category` с категориями:**\n",
    "\n",
    "- 0–30000 — `'E'`;\n",
    "- 30001–50000 — `'D'`;\n",
    "- 50001–200000 — `'C'`;\n",
    "- 200001–1000000 — `'B'`;\n",
    "- 1000001 и выше — `'A'`.\n",
    "\n",
    "\n",
    "**Например, кредитополучателю с доходом 25000 нужно назначить категорию `'E'`, а клиенту, получающему 235000, — `'B'`. Используйте собственную функцию с именем `categorize_income()` и метод `apply()`.**"
   ]
  },
  {
   "cell_type": "code",
   "execution_count": 17,
   "id": "e1771346",
   "metadata": {
    "deletable": false,
    "id": "e1771346"
   },
   "outputs": [],
   "source": [
    "def categorize_income(income):\n",
    "    try:\n",
    "        if 0 <= income <= 30000:\n",
    "            return 'E'\n",
    "        elif 30001 <= income <= 50000:\n",
    "            return 'D'\n",
    "        elif 50001 <= income <= 200000:\n",
    "            return 'C'\n",
    "        elif 200001 <= income <= 1000000:\n",
    "            return 'B'\n",
    "        elif income >= 1000001:\n",
    "            return 'A'\n",
    "    except:\n",
    "        pass"
   ]
  },
  {
   "cell_type": "code",
   "execution_count": 18,
   "id": "d5f3586d",
   "metadata": {
    "deletable": false,
    "id": "d5f3586d"
   },
   "outputs": [],
   "source": [
    "data['total_income_category'] = data['total_income'].apply(categorize_income)"
   ]
  },
  {
   "cell_type": "markdown",
   "id": "dde49b5c",
   "metadata": {
    "deletable": false,
    "id": "dde49b5c"
   },
   "source": [
    "**Задание 17. Выведите на экран перечень уникальных целей взятия кредита из столбца `purpose`.**"
   ]
  },
  {
   "cell_type": "code",
   "execution_count": 19,
   "id": "f67ce9b3",
   "metadata": {
    "deletable": false,
    "id": "f67ce9b3",
    "outputId": "673c12d9-7d7e-4ae0-9812-c622c89dd244"
   },
   "outputs": [
    {
     "data": {
      "text/plain": [
       "array(['покупка жилья', 'приобретение автомобиля',\n",
       "       'дополнительное образование', 'сыграть свадьбу',\n",
       "       'операции с жильем', 'образование', 'на проведение свадьбы',\n",
       "       'покупка жилья для семьи', 'покупка недвижимости',\n",
       "       'покупка коммерческой недвижимости', 'покупка жилой недвижимости',\n",
       "       'строительство собственной недвижимости', 'недвижимость',\n",
       "       'строительство недвижимости', 'на покупку подержанного автомобиля',\n",
       "       'на покупку своего автомобиля',\n",
       "       'операции с коммерческой недвижимостью',\n",
       "       'строительство жилой недвижимости', 'жилье',\n",
       "       'операции со своей недвижимостью', 'автомобили',\n",
       "       'заняться образованием', 'сделка с подержанным автомобилем',\n",
       "       'получение образования', 'автомобиль', 'свадьба',\n",
       "       'получение дополнительного образования', 'покупка своего жилья',\n",
       "       'операции с недвижимостью', 'получение высшего образования',\n",
       "       'свой автомобиль', 'сделка с автомобилем',\n",
       "       'профильное образование', 'высшее образование',\n",
       "       'покупка жилья для сдачи', 'на покупку автомобиля', 'ремонт жилью',\n",
       "       'заняться высшим образованием'], dtype=object)"
      ]
     },
     "execution_count": 19,
     "metadata": {},
     "output_type": "execute_result"
    }
   ],
   "source": [
    "data['purpose'].unique()"
   ]
  },
  {
   "cell_type": "markdown",
   "id": "85d0aef0",
   "metadata": {
    "deletable": false,
    "id": "85d0aef0"
   },
   "source": [
    "**Задание 18. Создайте функцию, которая на основании данных из столбца `purpose` сформирует новый столбец `purpose_category`, в который войдут следующие категории:**\n",
    "\n",
    "- `'операции с автомобилем'`,\n",
    "- `'операции с недвижимостью'`,\n",
    "- `'проведение свадьбы'`,\n",
    "- `'получение образования'`.\n",
    "\n",
    "**Например, если в столбце `purpose` находится подстрока `'на покупку автомобиля'`, то в столбце `purpose_category` должна появиться строка `'операции с автомобилем'`.**\n",
    "\n",
    "**Используйте собственную функцию с именем `categorize_purpose()` и метод `apply()`. Изучите данные в столбце `purpose` и определите, какие подстроки помогут вам правильно определить категорию.**"
   ]
  },
  {
   "cell_type": "code",
   "execution_count": 20,
   "id": "e149fab4",
   "metadata": {
    "deletable": false,
    "id": "e149fab4"
   },
   "outputs": [],
   "source": [
    "def categorize_purpose(row):\n",
    "    try:\n",
    "        if 'автом' in row:\n",
    "            return 'операции с автомобилем'\n",
    "        elif 'жил' in row or 'недвиж' in row:\n",
    "            return 'операции с недвижимостью'\n",
    "        elif 'свад' in row:\n",
    "            return 'проведение свадьбы'\n",
    "        elif 'образов' in row:\n",
    "            return 'получение образования'\n",
    "    except:\n",
    "        return 'нет категории'"
   ]
  },
  {
   "cell_type": "code",
   "execution_count": 21,
   "id": "bf36e69b",
   "metadata": {
    "deletable": false,
    "id": "bf36e69b"
   },
   "outputs": [],
   "source": [
    "data['purpose_category'] = data['purpose'].apply(categorize_purpose)"
   ]
  },
  {
   "cell_type": "markdown",
   "id": "09b242bf",
   "metadata": {
    "deletable": false,
    "editable": false,
    "id": "09b242bf"
   },
   "source": [
    "## Исследуйте данные и ответьте на вопросы"
   ]
  },
  {
   "cell_type": "markdown",
   "id": "c5d66278",
   "metadata": {
    "deletable": false,
    "editable": false,
    "id": "c5d66278"
   },
   "source": [
    "**Задание 19. Есть ли зависимость между количеством детей и возвратом кредита в срок?**"
   ]
  },
  {
   "cell_type": "markdown",
   "id": "b50afd6b",
   "metadata": {
    "id": "2cacfc4a"
   },
   "source": [
    "Определим какое количество должников присутствует в каждой группе заемщиков в разрезе количества детей."
   ]
  },
  {
   "cell_type": "code",
   "execution_count": 22,
   "id": "d0caf4b9",
   "metadata": {},
   "outputs": [
    {
     "data": {
      "text/html": [
       "<div>\n",
       "<style scoped>\n",
       "    .dataframe tbody tr th:only-of-type {\n",
       "        vertical-align: middle;\n",
       "    }\n",
       "\n",
       "    .dataframe tbody tr th {\n",
       "        vertical-align: top;\n",
       "    }\n",
       "\n",
       "    .dataframe thead tr th {\n",
       "        text-align: left;\n",
       "    }\n",
       "\n",
       "    .dataframe thead tr:last-of-type th {\n",
       "        text-align: right;\n",
       "    }\n",
       "</style>\n",
       "<table border=\"1\" class=\"dataframe\">\n",
       "  <thead>\n",
       "    <tr>\n",
       "      <th></th>\n",
       "      <th colspan=\"3\" halign=\"left\">debt</th>\n",
       "    </tr>\n",
       "    <tr>\n",
       "      <th></th>\n",
       "      <th>sum</th>\n",
       "      <th>count</th>\n",
       "      <th>debt_percentage</th>\n",
       "    </tr>\n",
       "    <tr>\n",
       "      <th>children</th>\n",
       "      <th></th>\n",
       "      <th></th>\n",
       "      <th></th>\n",
       "    </tr>\n",
       "  </thead>\n",
       "  <tbody>\n",
       "    <tr>\n",
       "      <th>0</th>\n",
       "      <td>1063</td>\n",
       "      <td>14107</td>\n",
       "      <td>7.54</td>\n",
       "    </tr>\n",
       "    <tr>\n",
       "      <th>1</th>\n",
       "      <td>444</td>\n",
       "      <td>4809</td>\n",
       "      <td>9.23</td>\n",
       "    </tr>\n",
       "    <tr>\n",
       "      <th>2</th>\n",
       "      <td>194</td>\n",
       "      <td>2052</td>\n",
       "      <td>9.45</td>\n",
       "    </tr>\n",
       "    <tr>\n",
       "      <th>3</th>\n",
       "      <td>27</td>\n",
       "      <td>330</td>\n",
       "      <td>8.18</td>\n",
       "    </tr>\n",
       "    <tr>\n",
       "      <th>4</th>\n",
       "      <td>4</td>\n",
       "      <td>41</td>\n",
       "      <td>9.76</td>\n",
       "    </tr>\n",
       "    <tr>\n",
       "      <th>5</th>\n",
       "      <td>0</td>\n",
       "      <td>9</td>\n",
       "      <td>0.00</td>\n",
       "    </tr>\n",
       "  </tbody>\n",
       "</table>\n",
       "</div>"
      ],
      "text/plain": [
       "          debt                       \n",
       "           sum  count debt_percentage\n",
       "children                             \n",
       "0         1063  14107            7.54\n",
       "1          444   4809            9.23\n",
       "2          194   2052            9.45\n",
       "3           27    330            8.18\n",
       "4            4     41            9.76\n",
       "5            0      9            0.00"
      ]
     },
     "execution_count": 22,
     "metadata": {},
     "output_type": "execute_result"
    }
   ],
   "source": [
    "data_children_debt = data.groupby('children').agg({'debt':['sum', 'count']})\n",
    "#дополнительно рассчитаем процент должников для каждой группы\n",
    "data_children_debt[('debt', 'debt_percentage')] = round(data_children_debt['debt']['sum']/data_children_debt['debt']['count']*100, 2)\n",
    "data_children_debt"
   ]
  },
  {
   "cell_type": "markdown",
   "id": "babd9bf6",
   "metadata": {},
   "source": [
    "Среди тех, у кого нет детей, имеющих задолженность по кредиту больше всего. Тем не менее процент должников в этой группе самый низкий, т.е. большое количество должников объясняется тем, что группа заемщиков без детей - самая большая по численности.\n",
    "\n",
    "В группе заемщиков, у кого 5 детей, ни у кого нет задолженностей по кредиту. При этом в этой группе всего 9 заемщиков, т.е. данных недостаточно, чтобы формировать какой-то вывод по данной группе."
   ]
  },
  {
   "cell_type": "markdown",
   "id": "3a6b99ec",
   "metadata": {
    "deletable": false,
    "id": "3a6b99ec"
   },
   "source": [
    "**Вывод:** \n",
    "\n",
    "Полученные результаты позволяют сделать следующие выводы:\n",
    "- Доля должников среди заемщиков не зависит от количества детей, т.к. в каждой группе процент должников отличается незначительно (от 0,5-2%).\n",
    "\n",
    "- Отсутствие должников в группе заемщиков с 5 детьми объясняется очень маленьким размером этой группы - всего 9  человек. Появление хотя бы 1 заемщика с задолженностью приведет сразу к тем же показателям, что и в группах с другим количеством детей (~10% должников).\n",
    "\n",
    "Гипотеза о том, что есть зависимость между количеством детей и возвратом кредита в срок не подтвердилась."
   ]
  },
  {
   "cell_type": "markdown",
   "id": "97be82ca",
   "metadata": {
    "deletable": false,
    "editable": false,
    "id": "97be82ca"
   },
   "source": [
    "**Задание 20. Есть ли зависимость между семейным положением и возвратом кредита в срок?**"
   ]
  },
  {
   "cell_type": "markdown",
   "id": "6d2891ba",
   "metadata": {},
   "source": [
    "Определим какое количество должников присутствует в каждой группе заемщиков в разрезе семейного положения."
   ]
  },
  {
   "cell_type": "code",
   "execution_count": 23,
   "id": "dc3f7ee8",
   "metadata": {
    "id": "dc3f7ee8"
   },
   "outputs": [
    {
     "data": {
      "text/html": [
       "<div>\n",
       "<style scoped>\n",
       "    .dataframe tbody tr th:only-of-type {\n",
       "        vertical-align: middle;\n",
       "    }\n",
       "\n",
       "    .dataframe tbody tr th {\n",
       "        vertical-align: top;\n",
       "    }\n",
       "\n",
       "    .dataframe thead tr th {\n",
       "        text-align: left;\n",
       "    }\n",
       "\n",
       "    .dataframe thead tr:last-of-type th {\n",
       "        text-align: right;\n",
       "    }\n",
       "</style>\n",
       "<table border=\"1\" class=\"dataframe\">\n",
       "  <thead>\n",
       "    <tr>\n",
       "      <th></th>\n",
       "      <th>sum</th>\n",
       "      <th>count</th>\n",
       "      <th>debt_percentage</th>\n",
       "    </tr>\n",
       "    <tr>\n",
       "      <th></th>\n",
       "      <th>debt</th>\n",
       "      <th>debt</th>\n",
       "      <th>debt</th>\n",
       "    </tr>\n",
       "    <tr>\n",
       "      <th>family_status</th>\n",
       "      <th></th>\n",
       "      <th></th>\n",
       "      <th></th>\n",
       "    </tr>\n",
       "  </thead>\n",
       "  <tbody>\n",
       "    <tr>\n",
       "      <th>вдовец / вдова</th>\n",
       "      <td>63</td>\n",
       "      <td>951</td>\n",
       "      <td>6.62</td>\n",
       "    </tr>\n",
       "    <tr>\n",
       "      <th>в разводе</th>\n",
       "      <td>84</td>\n",
       "      <td>1189</td>\n",
       "      <td>7.06</td>\n",
       "    </tr>\n",
       "    <tr>\n",
       "      <th>женат / замужем</th>\n",
       "      <td>927</td>\n",
       "      <td>12266</td>\n",
       "      <td>7.56</td>\n",
       "    </tr>\n",
       "    <tr>\n",
       "      <th>гражданский брак</th>\n",
       "      <td>385</td>\n",
       "      <td>4146</td>\n",
       "      <td>9.29</td>\n",
       "    </tr>\n",
       "    <tr>\n",
       "      <th>Не женат / не замужем</th>\n",
       "      <td>273</td>\n",
       "      <td>2796</td>\n",
       "      <td>9.76</td>\n",
       "    </tr>\n",
       "  </tbody>\n",
       "</table>\n",
       "</div>"
      ],
      "text/plain": [
       "                       sum  count debt_percentage\n",
       "                      debt   debt            debt\n",
       "family_status                                    \n",
       "вдовец / вдова          63    951            6.62\n",
       "в разводе               84   1189            7.06\n",
       "женат / замужем        927  12266            7.56\n",
       "гражданский брак       385   4146            9.29\n",
       "Не женат / не замужем  273   2796            9.76"
      ]
     },
     "execution_count": 23,
     "metadata": {},
     "output_type": "execute_result"
    }
   ],
   "source": [
    "#в задании 19 использовалась групповая функция, в задания 20 решаю через pivot_table для разнообразия\n",
    "data_family_debt = data.pivot_table(index='family_status',values='debt',aggfunc=['sum','count'])\n",
    "data_family_debt[('debt_percentage', 'debt')] = round(data_family_debt[('sum', 'debt')]/data_family_debt[('count', 'debt')]*100, 2)\n",
    "data_family_debt.sort_values(by = ('debt_percentage', 'debt'))"
   ]
  },
  {
   "cell_type": "markdown",
   "id": "1cef7837",
   "metadata": {
    "deletable": false,
    "id": "1cef7837"
   },
   "source": [
    "**Вывод:** \n",
    "\n",
    "Чаще всего задолженность возникает у заемщиков, не состоящих в официальных отношениях (статусы: Не женат / не замужем, гражданский брак). \n",
    "\n",
    "Гипотеза подтвердилась."
   ]
  },
  {
   "cell_type": "markdown",
   "id": "1e8b2fca",
   "metadata": {
    "deletable": false,
    "editable": false,
    "id": "1e8b2fca"
   },
   "source": [
    "**Задание 21. Есть ли зависимость между уровнем дохода и возвратом кредита в срок?**"
   ]
  },
  {
   "cell_type": "markdown",
   "id": "73733755",
   "metadata": {},
   "source": [
    "Определим какое количество должников присутствует в каждой группе заемщиков в разрезе уровня дохода."
   ]
  },
  {
   "cell_type": "code",
   "execution_count": 24,
   "id": "cd7e3720",
   "metadata": {
    "id": "cd7e3720",
    "scrolled": true
   },
   "outputs": [
    {
     "data": {
      "text/html": [
       "<div>\n",
       "<style scoped>\n",
       "    .dataframe tbody tr th:only-of-type {\n",
       "        vertical-align: middle;\n",
       "    }\n",
       "\n",
       "    .dataframe tbody tr th {\n",
       "        vertical-align: top;\n",
       "    }\n",
       "\n",
       "    .dataframe thead tr th {\n",
       "        text-align: left;\n",
       "    }\n",
       "\n",
       "    .dataframe thead tr:last-of-type th {\n",
       "        text-align: right;\n",
       "    }\n",
       "</style>\n",
       "<table border=\"1\" class=\"dataframe\">\n",
       "  <thead>\n",
       "    <tr>\n",
       "      <th></th>\n",
       "      <th>sum</th>\n",
       "      <th>count</th>\n",
       "      <th>debt_percentage</th>\n",
       "    </tr>\n",
       "    <tr>\n",
       "      <th></th>\n",
       "      <th>debt</th>\n",
       "      <th>debt</th>\n",
       "      <th>debt</th>\n",
       "    </tr>\n",
       "    <tr>\n",
       "      <th>total_income_category</th>\n",
       "      <th></th>\n",
       "      <th></th>\n",
       "      <th></th>\n",
       "    </tr>\n",
       "  </thead>\n",
       "  <tbody>\n",
       "    <tr>\n",
       "      <th>A</th>\n",
       "      <td>2</td>\n",
       "      <td>25</td>\n",
       "      <td>8.00</td>\n",
       "    </tr>\n",
       "    <tr>\n",
       "      <th>B</th>\n",
       "      <td>354</td>\n",
       "      <td>5014</td>\n",
       "      <td>7.06</td>\n",
       "    </tr>\n",
       "    <tr>\n",
       "      <th>C</th>\n",
       "      <td>1353</td>\n",
       "      <td>15938</td>\n",
       "      <td>8.49</td>\n",
       "    </tr>\n",
       "    <tr>\n",
       "      <th>D</th>\n",
       "      <td>21</td>\n",
       "      <td>349</td>\n",
       "      <td>6.02</td>\n",
       "    </tr>\n",
       "    <tr>\n",
       "      <th>E</th>\n",
       "      <td>2</td>\n",
       "      <td>22</td>\n",
       "      <td>9.09</td>\n",
       "    </tr>\n",
       "  </tbody>\n",
       "</table>\n",
       "</div>"
      ],
      "text/plain": [
       "                        sum  count debt_percentage\n",
       "                       debt   debt            debt\n",
       "total_income_category                             \n",
       "A                         2     25            8.00\n",
       "B                       354   5014            7.06\n",
       "C                      1353  15938            8.49\n",
       "D                        21    349            6.02\n",
       "E                         2     22            9.09"
      ]
     },
     "execution_count": 24,
     "metadata": {},
     "output_type": "execute_result"
    }
   ],
   "source": [
    "data_income_debt = data.pivot_table(index='total_income_category',values='debt',aggfunc=['sum','count'])\n",
    "data_income_debt[('debt_percentage', 'debt')] = round(data_income_debt[('sum', 'debt')]/data_income_debt[('count', 'debt')]*100, 2)\n",
    "data_income_debt"
   ]
  },
  {
   "cell_type": "markdown",
   "id": "e8593def",
   "metadata": {
    "deletable": false,
    "id": "e8593def"
   },
   "source": [
    "**Вывод:** \n",
    "\n",
    "Зависимость между уровнем дохода и возвратом кредита в срок не обнаружена. Даже если пренебречь незначительным количеством заемщиков в категориях E (доход до 30000) и A (доход более 1 млн), то все равно явную зависимость не выделить.  \n",
    "Гипотеза не подтвердилась."
   ]
  },
  {
   "cell_type": "markdown",
   "id": "99ecbd1f",
   "metadata": {
    "deletable": false,
    "editable": false,
    "id": "99ecbd1f"
   },
   "source": [
    "**Задание 22. Как разные цели кредита влияют на его возврат в срок?**"
   ]
  },
  {
   "cell_type": "markdown",
   "id": "cb9ce7c7",
   "metadata": {},
   "source": [
    "Определим какое количество должников присутствует в каждой группе заемщиков в разрезе целей кредитования."
   ]
  },
  {
   "cell_type": "code",
   "execution_count": 25,
   "id": "2b687290",
   "metadata": {
    "id": "2b687290"
   },
   "outputs": [
    {
     "data": {
      "text/html": [
       "<div>\n",
       "<style scoped>\n",
       "    .dataframe tbody tr th:only-of-type {\n",
       "        vertical-align: middle;\n",
       "    }\n",
       "\n",
       "    .dataframe tbody tr th {\n",
       "        vertical-align: top;\n",
       "    }\n",
       "\n",
       "    .dataframe thead tr th {\n",
       "        text-align: left;\n",
       "    }\n",
       "\n",
       "    .dataframe thead tr:last-of-type th {\n",
       "        text-align: right;\n",
       "    }\n",
       "</style>\n",
       "<table border=\"1\" class=\"dataframe\">\n",
       "  <thead>\n",
       "    <tr>\n",
       "      <th></th>\n",
       "      <th>sum</th>\n",
       "      <th>count</th>\n",
       "      <th>debt_percentage</th>\n",
       "    </tr>\n",
       "    <tr>\n",
       "      <th></th>\n",
       "      <th>debt</th>\n",
       "      <th>debt</th>\n",
       "      <th>debt</th>\n",
       "    </tr>\n",
       "    <tr>\n",
       "      <th>purpose_category</th>\n",
       "      <th></th>\n",
       "      <th></th>\n",
       "      <th></th>\n",
       "    </tr>\n",
       "  </thead>\n",
       "  <tbody>\n",
       "    <tr>\n",
       "      <th>операции с недвижимостью</th>\n",
       "      <td>780</td>\n",
       "      <td>10754</td>\n",
       "      <td>7.25</td>\n",
       "    </tr>\n",
       "    <tr>\n",
       "      <th>проведение свадьбы</th>\n",
       "      <td>183</td>\n",
       "      <td>2324</td>\n",
       "      <td>7.87</td>\n",
       "    </tr>\n",
       "    <tr>\n",
       "      <th>получение образования</th>\n",
       "      <td>369</td>\n",
       "      <td>3989</td>\n",
       "      <td>9.25</td>\n",
       "    </tr>\n",
       "    <tr>\n",
       "      <th>операции с автомобилем</th>\n",
       "      <td>400</td>\n",
       "      <td>4281</td>\n",
       "      <td>9.34</td>\n",
       "    </tr>\n",
       "  </tbody>\n",
       "</table>\n",
       "</div>"
      ],
      "text/plain": [
       "                          sum  count debt_percentage\n",
       "                         debt   debt            debt\n",
       "purpose_category                                    \n",
       "операции с недвижимостью  780  10754            7.25\n",
       "проведение свадьбы        183   2324            7.87\n",
       "получение образования     369   3989            9.25\n",
       "операции с автомобилем    400   4281            9.34"
      ]
     },
     "execution_count": 25,
     "metadata": {},
     "output_type": "execute_result"
    }
   ],
   "source": [
    "data_purpose_debt = data.pivot_table(index='purpose_category',values='debt',aggfunc=['sum','count'])\n",
    "data_purpose_debt[('debt_percentage', 'debt')] = round(data_purpose_debt[('sum', 'debt')]/data_purpose_debt[('count', 'debt')]*100, 2)\n",
    "data_purpose_debt.sort_values(by = ('debt_percentage', 'debt'))"
   ]
  },
  {
   "cell_type": "markdown",
   "id": "b4bb2ce6",
   "metadata": {
    "deletable": false,
    "id": "b4bb2ce6"
   },
   "source": [
    "**Вывод:** \n",
    "\n",
    "Наибольшее количество просроченной задолженности возникает по кредитам, выданным на операции с автомобилями (9,34%) и на получение образования (9,25%)."
   ]
  },
  {
   "cell_type": "markdown",
   "id": "09c3ac4c",
   "metadata": {
    "deletable": false,
    "editable": false,
    "id": "09c3ac4c"
   },
   "source": [
    "**Задание 23. Приведите возможные причины появления пропусков в исходных данных.**"
   ]
  },
  {
   "cell_type": "markdown",
   "id": "9da2ceda",
   "metadata": {
    "deletable": false,
    "id": "9da2ceda"
   },
   "source": [
    "*Ответ:*   \n",
    "В исходных данных пропуски были в 2-х столбцах:  \n",
    "*days_employed (общий трудовой стаж в дня)       2174*  \n",
    "*total_income (ежемесячный доход)       2174*  \n",
    "\n",
    "Проверка пустых значений показала, что пропуски в полях days_employed и total_income присутствуют на одних и тех же строках.\n",
    "Это позволяет предположить технологическую ошибку в данных, т.к. маловероятно, что человек мог ошибиться сразу в двух столбцах и на одних и тех же строках.\n",
    "\n",
    "Тем не менее, полностью нельзя исключать вероятность ошибки из-за человеческого фактора. Например, в столбце 'education' уровень образования клиента заполнен в совершенно разных регистрах, т.е. это допускает возможность внесения некорретных данных пользователями."
   ]
  },
  {
   "cell_type": "markdown",
   "id": "7b0487d6",
   "metadata": {
    "deletable": false,
    "editable": false,
    "id": "7b0487d6"
   },
   "source": [
    "**Задание 24. Объясните, почему заполнить пропуски медианным значением — лучшее решение для количественных переменных.**"
   ]
  },
  {
   "cell_type": "markdown",
   "id": "7ecf2b8e",
   "metadata": {
    "deletable": false,
    "id": "7ecf2b8e"
   },
   "source": [
    "*Ответ:*   \n",
    "Заполнять пропуски в количественных данных медианным значением является лучшим решением, т.к. данное значение не приводит к аномалиям в данных и искажению исследования.\n",
    "\n",
    "Использовать среднее арифметическое для этих целей будет ошибкой из-за возможных выбросов в данных, из-за которых \"среднее\" на самом деле не будет отражать усредненное состояние на основе большинства данных. \n",
    "\n",
    "Так же для количественных данных обычно нельзя выделить некоторое значение по умолчанию, т.к. это может исказить результаты исследования. Например, если в текущей задаче все пропуски в столбце total_income заменили бы на 0, то проверка зависимости уровня дохода от возврата кредита могла бы привести к неожиданным некорректным результатам."
   ]
  },
  {
   "cell_type": "markdown",
   "id": "6db5255a",
   "metadata": {
    "deletable": false,
    "editable": false,
    "id": "6db5255a"
   },
   "source": [
    "## Общий вывод."
   ]
  },
  {
   "cell_type": "markdown",
   "id": "bad65432",
   "metadata": {
    "id": "bad65432"
   },
   "source": [
    "Для Заказчика (кредитного отдела банка) было проведено исследование платежеспособности клиентов для последующего учета результатов при построении модели кредитного скоринга.\n",
    "\n",
    "Были проверены следующие гипотезы:\n",
    "1. Наличие зависимости между количеством детей и возвратом кредита в срок.  \n",
    "Гипотеза не подтвердилась.\n",
    "2. Наличие зависимости между семейным положением и возвратом кредита в срок.  \n",
    "Гипотеза подтвердилась. Кредиты, выданные заемщикам, не состоящим в официальных отношениях (статусы: Не женат / не замужем, гражданский брак), чаще попадают в просрочку.\n",
    "3. Наличие зависимости между уровнем дохода и возвратом кредита в срок.  \n",
    "Гипотеза не подтвердилась.\n",
    "\n",
    "В результате анализа целей кредитования было выявлено, что кредиты, выданные на операции с автомобилями и на получение образования, чаще попадают в просрочку, чем остальные.\n",
    "\n",
    "При построении модели кредитного скоринга следует обратить внимание на следующие факторы:\n",
    "- Семейное положение заемщиков\n",
    "- Цели кредита (операции с автомобилями, получение образования)\n",
    "\n",
    "\n",
    "Дополнительно были приведены общие выводы о возможных причинах появления пропусков в данных и дано обоснование выбора значений, которыми были заполнены данные пропуски."
   ]
  }
 ],
 "metadata": {
  "ExecuteTimeLog": [
   {
    "duration": 669,
    "start_time": "2022-06-30T08:49:39.822Z"
   },
   {
    "duration": 37,
    "start_time": "2022-06-30T08:49:40.493Z"
   },
   {
    "duration": 26,
    "start_time": "2022-06-30T08:49:40.532Z"
   },
   {
    "duration": 18,
    "start_time": "2022-06-30T08:49:40.562Z"
   },
   {
    "duration": 90,
    "start_time": "2022-06-30T08:49:40.582Z"
   },
   {
    "duration": 10,
    "start_time": "2022-06-30T08:49:40.674Z"
   },
   {
    "duration": 26,
    "start_time": "2022-06-30T08:49:40.686Z"
   },
   {
    "duration": 5,
    "start_time": "2022-06-30T08:49:40.715Z"
   },
   {
    "duration": 24,
    "start_time": "2022-06-30T08:49:40.722Z"
   },
   {
    "duration": 9,
    "start_time": "2022-06-30T08:49:40.749Z"
   },
   {
    "duration": 60,
    "start_time": "2022-06-30T08:49:40.760Z"
   },
   {
    "duration": 16,
    "start_time": "2022-06-30T08:49:40.822Z"
   },
   {
    "duration": 9,
    "start_time": "2022-06-30T08:49:40.841Z"
   },
   {
    "duration": 32,
    "start_time": "2022-06-30T08:49:40.852Z"
   },
   {
    "duration": 24,
    "start_time": "2022-06-30T08:49:40.886Z"
   },
   {
    "duration": 15,
    "start_time": "2022-06-30T08:49:40.927Z"
   },
   {
    "duration": 10,
    "start_time": "2022-06-30T08:49:40.945Z"
   },
   {
    "duration": 17,
    "start_time": "2022-06-30T08:49:40.957Z"
   },
   {
    "duration": 13,
    "start_time": "2022-06-30T08:49:40.976Z"
   },
   {
    "duration": 5,
    "start_time": "2022-06-30T08:49:40.991Z"
   },
   {
    "duration": 40,
    "start_time": "2022-06-30T08:49:40.998Z"
   },
   {
    "duration": 18,
    "start_time": "2022-06-30T08:49:41.040Z"
   },
   {
    "duration": 25,
    "start_time": "2022-06-30T08:49:41.060Z"
   },
   {
    "duration": 10,
    "start_time": "2022-06-30T08:49:41.088Z"
   },
   {
    "duration": 9,
    "start_time": "2022-06-30T08:49:41.100Z"
   },
   {
    "duration": 122,
    "start_time": "2022-06-30T08:58:12.663Z"
   },
   {
    "duration": 72,
    "start_time": "2022-06-30T08:58:48.583Z"
   },
   {
    "duration": 4,
    "start_time": "2022-06-30T08:58:53.319Z"
   },
   {
    "duration": 6,
    "start_time": "2022-06-30T08:59:39.525Z"
   },
   {
    "duration": 11,
    "start_time": "2022-06-30T09:00:01.602Z"
   },
   {
    "duration": 14,
    "start_time": "2022-06-30T09:00:47.413Z"
   },
   {
    "duration": 11,
    "start_time": "2022-06-30T09:02:31.200Z"
   },
   {
    "duration": 9,
    "start_time": "2022-06-30T09:02:41.065Z"
   },
   {
    "duration": 16,
    "start_time": "2022-06-30T09:03:04.594Z"
   },
   {
    "duration": 63,
    "start_time": "2022-06-30T11:23:54.791Z"
   },
   {
    "duration": 47,
    "start_time": "2022-06-30T11:24:10.240Z"
   },
   {
    "duration": 44,
    "start_time": "2022-06-30T11:24:33.726Z"
   },
   {
    "duration": 515,
    "start_time": "2022-06-30T11:24:53.806Z"
   },
   {
    "duration": 21,
    "start_time": "2022-06-30T11:24:54.323Z"
   },
   {
    "duration": 13,
    "start_time": "2022-06-30T11:24:54.346Z"
   },
   {
    "duration": 10,
    "start_time": "2022-06-30T11:24:54.361Z"
   },
   {
    "duration": 52,
    "start_time": "2022-06-30T11:24:54.372Z"
   },
   {
    "duration": 3,
    "start_time": "2022-06-30T11:24:54.426Z"
   },
   {
    "duration": 10,
    "start_time": "2022-06-30T11:24:54.430Z"
   },
   {
    "duration": 5,
    "start_time": "2022-06-30T11:24:54.441Z"
   },
   {
    "duration": 9,
    "start_time": "2022-06-30T11:24:54.448Z"
   },
   {
    "duration": 3,
    "start_time": "2022-06-30T11:24:54.460Z"
   },
   {
    "duration": 32,
    "start_time": "2022-06-30T11:24:54.464Z"
   },
   {
    "duration": 30,
    "start_time": "2022-06-30T11:24:54.498Z"
   },
   {
    "duration": 6,
    "start_time": "2022-06-30T11:24:54.530Z"
   },
   {
    "duration": 19,
    "start_time": "2022-06-30T11:24:54.537Z"
   },
   {
    "duration": 14,
    "start_time": "2022-06-30T11:24:54.558Z"
   },
   {
    "duration": 11,
    "start_time": "2022-06-30T11:24:54.574Z"
   },
   {
    "duration": 6,
    "start_time": "2022-06-30T11:24:54.586Z"
   },
   {
    "duration": 32,
    "start_time": "2022-06-30T11:24:54.594Z"
   },
   {
    "duration": 5,
    "start_time": "2022-06-30T11:24:54.628Z"
   },
   {
    "duration": 6,
    "start_time": "2022-06-30T11:24:54.635Z"
   },
   {
    "duration": 11,
    "start_time": "2022-06-30T11:24:54.642Z"
   },
   {
    "duration": 80,
    "start_time": "2022-06-30T11:24:54.654Z"
   },
   {
    "duration": 0,
    "start_time": "2022-06-30T11:24:54.736Z"
   },
   {
    "duration": 1,
    "start_time": "2022-06-30T11:24:54.737Z"
   },
   {
    "duration": 0,
    "start_time": "2022-06-30T11:24:54.739Z"
   },
   {
    "duration": 14,
    "start_time": "2022-06-30T11:25:10.072Z"
   },
   {
    "duration": 12,
    "start_time": "2022-06-30T11:25:40.573Z"
   },
   {
    "duration": 57,
    "start_time": "2022-06-30T11:26:03.366Z"
   },
   {
    "duration": 12,
    "start_time": "2022-06-30T11:26:09.566Z"
   },
   {
    "duration": 52,
    "start_time": "2022-06-30T11:27:30.306Z"
   },
   {
    "duration": 54,
    "start_time": "2022-06-30T11:27:35.992Z"
   },
   {
    "duration": 10,
    "start_time": "2022-06-30T11:27:41.302Z"
   },
   {
    "duration": 1167,
    "start_time": "2022-06-30T11:27:53.471Z"
   },
   {
    "duration": 116,
    "start_time": "2022-06-30T11:28:19.016Z"
   },
   {
    "duration": 3,
    "start_time": "2022-06-30T11:30:59.617Z"
   },
   {
    "duration": 8,
    "start_time": "2022-06-30T11:31:23.072Z"
   },
   {
    "duration": 6,
    "start_time": "2022-06-30T11:31:28.594Z"
   },
   {
    "duration": 6,
    "start_time": "2022-06-30T11:35:02.919Z"
   },
   {
    "duration": 51,
    "start_time": "2022-06-30T11:37:50.962Z"
   },
   {
    "duration": 114,
    "start_time": "2022-06-30T11:45:24.354Z"
   },
   {
    "duration": 13,
    "start_time": "2022-06-30T11:52:12.750Z"
   },
   {
    "duration": 555,
    "start_time": "2022-06-30T11:52:32.319Z"
   },
   {
    "duration": 4,
    "start_time": "2022-06-30T11:52:44.608Z"
   },
   {
    "duration": 4,
    "start_time": "2022-06-30T11:52:52.367Z"
   },
   {
    "duration": 6,
    "start_time": "2022-06-30T11:53:04.390Z"
   },
   {
    "duration": 117,
    "start_time": "2022-06-30T12:04:37.084Z"
   },
   {
    "duration": 4,
    "start_time": "2022-06-30T12:08:11.342Z"
   },
   {
    "duration": 10,
    "start_time": "2022-06-30T12:09:30.700Z"
   },
   {
    "duration": 12,
    "start_time": "2022-06-30T12:10:03.440Z"
   },
   {
    "duration": 11,
    "start_time": "2022-06-30T12:10:10.402Z"
   },
   {
    "duration": 133,
    "start_time": "2022-06-30T12:11:36.811Z"
   },
   {
    "duration": 16,
    "start_time": "2022-06-30T12:20:09.306Z"
   },
   {
    "duration": 17,
    "start_time": "2022-06-30T12:20:23.602Z"
   },
   {
    "duration": 16,
    "start_time": "2022-06-30T12:21:16.122Z"
   },
   {
    "duration": 18,
    "start_time": "2022-06-30T12:21:49.771Z"
   },
   {
    "duration": 15,
    "start_time": "2022-06-30T12:24:34.244Z"
   },
   {
    "duration": 77,
    "start_time": "2022-06-30T12:27:46.373Z"
   },
   {
    "duration": 19,
    "start_time": "2022-06-30T12:27:49.542Z"
   },
   {
    "duration": 2111,
    "start_time": "2022-06-30T12:28:02.679Z"
   },
   {
    "duration": 23,
    "start_time": "2022-06-30T12:28:31.216Z"
   },
   {
    "duration": 3,
    "start_time": "2022-06-30T12:29:18.322Z"
   },
   {
    "duration": 30,
    "start_time": "2022-06-30T12:29:23.825Z"
   },
   {
    "duration": 24,
    "start_time": "2022-06-30T12:29:57.623Z"
   },
   {
    "duration": 4,
    "start_time": "2022-06-30T12:34:41.995Z"
   },
   {
    "duration": 20,
    "start_time": "2022-06-30T12:34:53.060Z"
   },
   {
    "duration": 2319,
    "start_time": "2022-06-30T12:36:55.998Z"
   },
   {
    "duration": 20,
    "start_time": "2022-06-30T12:37:06.988Z"
   },
   {
    "duration": 1193,
    "start_time": "2022-06-30T12:39:11.265Z"
   },
   {
    "duration": 20,
    "start_time": "2022-06-30T12:39:20.246Z"
   },
   {
    "duration": 28,
    "start_time": "2022-06-30T12:40:07.290Z"
   },
   {
    "duration": 32,
    "start_time": "2022-06-30T12:40:22.103Z"
   },
   {
    "duration": 22,
    "start_time": "2022-06-30T12:40:28.807Z"
   },
   {
    "duration": 26,
    "start_time": "2022-06-30T12:41:41.992Z"
   },
   {
    "duration": 1003,
    "start_time": "2022-06-30T12:42:25.238Z"
   },
   {
    "duration": 21,
    "start_time": "2022-06-30T12:42:45.290Z"
   },
   {
    "duration": 21,
    "start_time": "2022-06-30T12:42:51.168Z"
   },
   {
    "duration": 28,
    "start_time": "2022-06-30T12:43:04.081Z"
   },
   {
    "duration": 21,
    "start_time": "2022-06-30T12:44:40.588Z"
   },
   {
    "duration": 31,
    "start_time": "2022-06-30T12:44:51.915Z"
   },
   {
    "duration": 25,
    "start_time": "2022-06-30T12:45:06.440Z"
   },
   {
    "duration": 25,
    "start_time": "2022-06-30T12:46:17.237Z"
   },
   {
    "duration": 25,
    "start_time": "2022-06-30T12:46:32.550Z"
   },
   {
    "duration": 23,
    "start_time": "2022-06-30T12:47:00.669Z"
   },
   {
    "duration": 22,
    "start_time": "2022-06-30T13:01:16.064Z"
   },
   {
    "duration": 24,
    "start_time": "2022-06-30T13:02:06.442Z"
   },
   {
    "duration": 13,
    "start_time": "2022-06-30T13:04:48.203Z"
   },
   {
    "duration": 13,
    "start_time": "2022-06-30T13:05:12.508Z"
   },
   {
    "duration": 12,
    "start_time": "2022-06-30T13:05:59.659Z"
   },
   {
    "duration": 12,
    "start_time": "2022-06-30T13:06:23.899Z"
   },
   {
    "duration": 12,
    "start_time": "2022-06-30T13:07:23.700Z"
   },
   {
    "duration": 21,
    "start_time": "2022-06-30T13:21:34.749Z"
   },
   {
    "duration": 19,
    "start_time": "2022-06-30T13:21:41.235Z"
   },
   {
    "duration": 26,
    "start_time": "2022-06-30T13:22:42.215Z"
   },
   {
    "duration": 30,
    "start_time": "2022-06-30T13:23:19.313Z"
   },
   {
    "duration": 23,
    "start_time": "2022-06-30T13:23:37.939Z"
   },
   {
    "duration": 32,
    "start_time": "2022-06-30T13:24:29.945Z"
   },
   {
    "duration": 27,
    "start_time": "2022-06-30T13:24:57.131Z"
   },
   {
    "duration": 23,
    "start_time": "2022-06-30T13:25:33.651Z"
   },
   {
    "duration": 22,
    "start_time": "2022-06-30T13:25:56.866Z"
   },
   {
    "duration": 33,
    "start_time": "2022-06-30T13:27:20.613Z"
   },
   {
    "duration": 30,
    "start_time": "2022-06-30T13:27:25.627Z"
   },
   {
    "duration": 22,
    "start_time": "2022-06-30T13:27:30.556Z"
   },
   {
    "duration": 12,
    "start_time": "2022-06-30T13:28:17.654Z"
   },
   {
    "duration": 26,
    "start_time": "2022-06-30T13:44:27.634Z"
   },
   {
    "duration": 11,
    "start_time": "2022-06-30T13:44:56.665Z"
   },
   {
    "duration": 25,
    "start_time": "2022-06-30T13:45:24.875Z"
   },
   {
    "duration": 21,
    "start_time": "2022-06-30T13:46:14.622Z"
   },
   {
    "duration": 27,
    "start_time": "2022-06-30T13:47:04.786Z"
   },
   {
    "duration": 24,
    "start_time": "2022-06-30T13:47:10.650Z"
   },
   {
    "duration": 30,
    "start_time": "2022-06-30T13:47:50.317Z"
   },
   {
    "duration": 31,
    "start_time": "2022-06-30T13:48:12.604Z"
   },
   {
    "duration": 27,
    "start_time": "2022-06-30T13:49:55.550Z"
   },
   {
    "duration": 139,
    "start_time": "2022-06-30T13:50:03.126Z"
   },
   {
    "duration": 62,
    "start_time": "2022-06-30T13:51:53.982Z"
   },
   {
    "duration": 1177,
    "start_time": "2022-06-30T13:52:06.077Z"
   },
   {
    "duration": 24,
    "start_time": "2022-06-30T13:52:07.256Z"
   },
   {
    "duration": 21,
    "start_time": "2022-06-30T13:52:07.281Z"
   },
   {
    "duration": 23,
    "start_time": "2022-06-30T13:52:07.304Z"
   },
   {
    "duration": 36,
    "start_time": "2022-06-30T13:52:07.329Z"
   },
   {
    "duration": 4,
    "start_time": "2022-06-30T13:52:07.367Z"
   },
   {
    "duration": 17,
    "start_time": "2022-06-30T13:52:07.374Z"
   },
   {
    "duration": 30,
    "start_time": "2022-06-30T13:52:07.393Z"
   },
   {
    "duration": 7,
    "start_time": "2022-06-30T13:52:07.425Z"
   },
   {
    "duration": 4,
    "start_time": "2022-06-30T13:52:07.436Z"
   },
   {
    "duration": 50,
    "start_time": "2022-06-30T13:52:07.442Z"
   },
   {
    "duration": 38,
    "start_time": "2022-06-30T13:52:07.494Z"
   },
   {
    "duration": 4,
    "start_time": "2022-06-30T13:52:07.534Z"
   },
   {
    "duration": 27,
    "start_time": "2022-06-30T13:52:07.540Z"
   },
   {
    "duration": 19,
    "start_time": "2022-06-30T13:52:07.568Z"
   },
   {
    "duration": 11,
    "start_time": "2022-06-30T13:52:07.589Z"
   },
   {
    "duration": 3,
    "start_time": "2022-06-30T13:52:07.624Z"
   },
   {
    "duration": 19,
    "start_time": "2022-06-30T13:52:07.629Z"
   },
   {
    "duration": 12,
    "start_time": "2022-06-30T13:52:07.649Z"
   },
   {
    "duration": 8,
    "start_time": "2022-06-30T13:52:07.663Z"
   },
   {
    "duration": 16,
    "start_time": "2022-06-30T13:52:07.673Z"
   },
   {
    "duration": 17,
    "start_time": "2022-06-30T13:52:07.691Z"
   },
   {
    "duration": 30,
    "start_time": "2022-06-30T13:52:07.710Z"
   },
   {
    "duration": 148,
    "start_time": "2022-06-30T13:52:07.742Z"
   },
   {
    "duration": 4,
    "start_time": "2022-06-30T13:52:07.892Z"
   },
   {
    "duration": 21,
    "start_time": "2022-06-30T13:57:20.311Z"
   },
   {
    "duration": 20,
    "start_time": "2022-06-30T13:57:35.784Z"
   },
   {
    "duration": 24,
    "start_time": "2022-06-30T13:59:48.864Z"
   },
   {
    "duration": 26,
    "start_time": "2022-06-30T13:59:57.512Z"
   },
   {
    "duration": 14,
    "start_time": "2022-06-30T14:00:05.249Z"
   },
   {
    "duration": 26,
    "start_time": "2022-06-30T14:10:04.744Z"
   },
   {
    "duration": 113,
    "start_time": "2022-06-30T14:10:34.265Z"
   },
   {
    "duration": 27,
    "start_time": "2022-06-30T14:10:54.241Z"
   },
   {
    "duration": 23,
    "start_time": "2022-06-30T14:25:21.107Z"
   },
   {
    "duration": 76,
    "start_time": "2022-06-30T14:38:37.497Z"
   },
   {
    "duration": 16,
    "start_time": "2022-06-30T14:38:38.691Z"
   },
   {
    "duration": 14,
    "start_time": "2022-06-30T14:38:42.434Z"
   },
   {
    "duration": 10,
    "start_time": "2022-06-30T14:38:46.657Z"
   },
   {
    "duration": 495,
    "start_time": "2022-06-30T14:39:15.100Z"
   },
   {
    "duration": 22,
    "start_time": "2022-06-30T14:39:15.597Z"
   },
   {
    "duration": 15,
    "start_time": "2022-06-30T14:39:15.620Z"
   },
   {
    "duration": 9,
    "start_time": "2022-06-30T14:39:15.637Z"
   },
   {
    "duration": 35,
    "start_time": "2022-06-30T14:39:15.648Z"
   },
   {
    "duration": 4,
    "start_time": "2022-06-30T14:39:15.685Z"
   },
   {
    "duration": 13,
    "start_time": "2022-06-30T14:39:15.690Z"
   },
   {
    "duration": 20,
    "start_time": "2022-06-30T14:39:15.705Z"
   },
   {
    "duration": 10,
    "start_time": "2022-06-30T14:39:15.726Z"
   },
   {
    "duration": 5,
    "start_time": "2022-06-30T14:39:15.738Z"
   },
   {
    "duration": 36,
    "start_time": "2022-06-30T14:39:15.744Z"
   },
   {
    "duration": 9,
    "start_time": "2022-06-30T14:39:15.781Z"
   },
   {
    "duration": 4,
    "start_time": "2022-06-30T14:39:15.792Z"
   },
   {
    "duration": 41,
    "start_time": "2022-06-30T14:39:15.797Z"
   },
   {
    "duration": 16,
    "start_time": "2022-06-30T14:39:15.840Z"
   },
   {
    "duration": 11,
    "start_time": "2022-06-30T14:39:15.857Z"
   },
   {
    "duration": 13,
    "start_time": "2022-06-30T14:39:15.869Z"
   },
   {
    "duration": 15,
    "start_time": "2022-06-30T14:39:15.883Z"
   },
   {
    "duration": 5,
    "start_time": "2022-06-30T14:39:15.900Z"
   },
   {
    "duration": 4,
    "start_time": "2022-06-30T14:39:15.924Z"
   },
   {
    "duration": 12,
    "start_time": "2022-06-30T14:39:15.929Z"
   },
   {
    "duration": 21,
    "start_time": "2022-06-30T14:39:15.942Z"
   },
   {
    "duration": 28,
    "start_time": "2022-06-30T14:39:15.965Z"
   },
   {
    "duration": 46,
    "start_time": "2022-06-30T14:39:15.995Z"
   },
   {
    "duration": 25,
    "start_time": "2022-06-30T14:39:16.043Z"
   },
   {
    "duration": 25,
    "start_time": "2022-06-30T14:39:24.055Z"
   },
   {
    "duration": 13,
    "start_time": "2022-06-30T14:43:32.178Z"
   },
   {
    "duration": 63,
    "start_time": "2022-06-30T14:43:37.473Z"
   },
   {
    "duration": 11,
    "start_time": "2022-06-30T14:43:41.842Z"
   },
   {
    "duration": 32,
    "start_time": "2022-06-30T14:44:18.722Z"
   },
   {
    "duration": 14,
    "start_time": "2022-06-30T14:45:03.058Z"
   },
   {
    "duration": 19,
    "start_time": "2022-06-30T14:45:08.419Z"
   },
   {
    "duration": 17,
    "start_time": "2022-06-30T14:45:55.069Z"
   },
   {
    "duration": 467,
    "start_time": "2022-06-30T14:46:00.414Z"
   },
   {
    "duration": 23,
    "start_time": "2022-06-30T14:46:00.883Z"
   },
   {
    "duration": 36,
    "start_time": "2022-06-30T14:46:00.907Z"
   },
   {
    "duration": 17,
    "start_time": "2022-06-30T14:46:00.944Z"
   },
   {
    "duration": 44,
    "start_time": "2022-06-30T14:46:00.963Z"
   },
   {
    "duration": 4,
    "start_time": "2022-06-30T14:46:01.008Z"
   },
   {
    "duration": 32,
    "start_time": "2022-06-30T14:46:01.014Z"
   },
   {
    "duration": 23,
    "start_time": "2022-06-30T14:46:01.047Z"
   },
   {
    "duration": 29,
    "start_time": "2022-06-30T14:46:01.072Z"
   },
   {
    "duration": 67,
    "start_time": "2022-06-30T14:46:01.104Z"
   },
   {
    "duration": 52,
    "start_time": "2022-06-30T14:46:01.173Z"
   },
   {
    "duration": 10,
    "start_time": "2022-06-30T14:46:01.226Z"
   },
   {
    "duration": 17,
    "start_time": "2022-06-30T14:46:01.238Z"
   },
   {
    "duration": 34,
    "start_time": "2022-06-30T14:46:01.257Z"
   },
   {
    "duration": 16,
    "start_time": "2022-06-30T14:46:01.293Z"
   },
   {
    "duration": 12,
    "start_time": "2022-06-30T14:46:01.311Z"
   },
   {
    "duration": 56,
    "start_time": "2022-06-30T14:46:01.324Z"
   },
   {
    "duration": 80,
    "start_time": "2022-06-30T14:46:01.382Z"
   },
   {
    "duration": 74,
    "start_time": "2022-06-30T14:46:01.464Z"
   },
   {
    "duration": 14,
    "start_time": "2022-06-30T14:46:01.540Z"
   },
   {
    "duration": 48,
    "start_time": "2022-06-30T14:46:01.555Z"
   },
   {
    "duration": 35,
    "start_time": "2022-06-30T14:46:01.604Z"
   },
   {
    "duration": 31,
    "start_time": "2022-06-30T14:46:01.641Z"
   },
   {
    "duration": 24,
    "start_time": "2022-06-30T14:46:01.674Z"
   },
   {
    "duration": 43,
    "start_time": "2022-06-30T14:46:01.699Z"
   },
   {
    "duration": 74,
    "start_time": "2022-06-30T14:47:02.159Z"
   },
   {
    "duration": 120,
    "start_time": "2022-06-30T14:48:30.424Z"
   },
   {
    "duration": 59,
    "start_time": "2022-06-30T14:48:46.641Z"
   },
   {
    "duration": 77,
    "start_time": "2022-06-30T14:48:52.850Z"
   },
   {
    "duration": 66,
    "start_time": "2022-06-30T14:49:36.032Z"
   },
   {
    "duration": 66,
    "start_time": "2022-06-30T14:49:51.187Z"
   },
   {
    "duration": 77,
    "start_time": "2022-06-30T14:50:09.331Z"
   },
   {
    "duration": 69,
    "start_time": "2022-06-30T14:51:57.147Z"
   },
   {
    "duration": 59,
    "start_time": "2022-06-30T15:01:32.084Z"
   },
   {
    "duration": 78,
    "start_time": "2022-06-30T15:02:03.284Z"
   },
   {
    "duration": 64,
    "start_time": "2022-06-30T15:02:38.679Z"
   },
   {
    "duration": 67,
    "start_time": "2022-06-30T15:02:49.284Z"
   },
   {
    "duration": 495,
    "start_time": "2022-06-30T15:33:51.803Z"
   },
   {
    "duration": 23,
    "start_time": "2022-06-30T15:33:52.300Z"
   },
   {
    "duration": 16,
    "start_time": "2022-06-30T15:33:52.324Z"
   },
   {
    "duration": 12,
    "start_time": "2022-06-30T15:33:52.342Z"
   },
   {
    "duration": 42,
    "start_time": "2022-06-30T15:33:52.356Z"
   },
   {
    "duration": 4,
    "start_time": "2022-06-30T15:33:52.399Z"
   },
   {
    "duration": 8,
    "start_time": "2022-06-30T15:33:52.423Z"
   },
   {
    "duration": 6,
    "start_time": "2022-06-30T15:33:52.432Z"
   },
   {
    "duration": 16,
    "start_time": "2022-06-30T15:33:52.439Z"
   },
   {
    "duration": 7,
    "start_time": "2022-06-30T15:33:52.457Z"
   },
   {
    "duration": 38,
    "start_time": "2022-06-30T15:33:52.466Z"
   },
   {
    "duration": 11,
    "start_time": "2022-06-30T15:33:52.523Z"
   },
   {
    "duration": 14,
    "start_time": "2022-06-30T15:33:52.536Z"
   },
   {
    "duration": 35,
    "start_time": "2022-06-30T15:33:52.553Z"
   },
   {
    "duration": 35,
    "start_time": "2022-06-30T15:33:52.591Z"
   },
   {
    "duration": 14,
    "start_time": "2022-06-30T15:33:52.628Z"
   },
   {
    "duration": 12,
    "start_time": "2022-06-30T15:33:52.644Z"
   },
   {
    "duration": 31,
    "start_time": "2022-06-30T15:33:52.659Z"
   },
   {
    "duration": 13,
    "start_time": "2022-06-30T15:33:52.692Z"
   },
   {
    "duration": 15,
    "start_time": "2022-06-30T15:33:52.708Z"
   },
   {
    "duration": 19,
    "start_time": "2022-06-30T15:33:52.725Z"
   },
   {
    "duration": 47,
    "start_time": "2022-06-30T15:33:52.746Z"
   },
   {
    "duration": 40,
    "start_time": "2022-06-30T15:33:52.795Z"
   },
   {
    "duration": 25,
    "start_time": "2022-06-30T15:33:52.837Z"
   },
   {
    "duration": 27,
    "start_time": "2022-06-30T15:33:52.864Z"
   },
   {
    "duration": 56,
    "start_time": "2022-06-30T15:38:31.640Z"
   }
  ],
  "colab": {
   "name": "dpp_template_part2.ipynb",
   "provenance": []
  },
  "kernelspec": {
   "display_name": "Python 3.9.13 ('da_practicum_env')",
   "language": "python",
   "name": "python3"
  },
  "language_info": {
   "codemirror_mode": {
    "name": "ipython",
    "version": 3
   },
   "file_extension": ".py",
   "mimetype": "text/x-python",
   "name": "python",
   "nbconvert_exporter": "python",
   "pygments_lexer": "ipython3",
   "version": "3.9.13"
  },
  "toc": {
   "base_numbering": 1,
   "nav_menu": {},
   "number_sections": true,
   "sideBar": true,
   "skip_h1_title": true,
   "title_cell": "Table of Contents",
   "title_sidebar": "Contents",
   "toc_cell": false,
   "toc_position": {},
   "toc_section_display": true,
   "toc_window_display": false
  },
  "vscode": {
   "interpreter": {
    "hash": "ffc685dd12f3ab65fce6dfc95a6b41405c2923a9d004cdc29e2b21f2fc88e2f8"
   }
  }
 },
 "nbformat": 4,
 "nbformat_minor": 5
}
