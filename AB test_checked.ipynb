{
 "cells": [
  {
   "cell_type": "markdown",
   "metadata": {},
   "source": [
    "<div class=\"alert alert-success\">\n",
    "<b>Комментарий ревьюера v 2.0 ✔️:</b> Отлично, Наталия! Ты здорово поработала над всеми комментариями и теперь твой проект принят.\n",
    "    \n",
    "Спасибо за работу и успехов в следующих проектах!)"
   ]
  },
  {
   "cell_type": "markdown",
   "metadata": {},
   "source": [
    "<div style=\"border:solid green 2px; padding: 20px\">\n",
    "<b>Привет!</b>\n",
    "\n",
    "Меня зовут Михаленко Дмитрий, и я буду проверять твой проект. Предлагаю общаться на «ты» :) Но если это не удобно - дай знать, и мы перейдем на \"вы\". \n",
    "\n",
    "Моя основная цель — не указать на совершенные тобою ошибки, а поделиться своим опытом и помочь тебе стать аналитиком данных. Ты уже проделала большую работу над проектом, но давай сделаем его еще лучше. Ниже ты найдешь мои комментарии - **пожалуйста, не перемещай, не изменяй и не удаляй их**. Увидев у тебя ошибку, в первый раз я лишь укажу на ее наличие и дам тебе возможность самой найти и исправить ее. На реальной работе твой начальник будет поступать так же, а я пытаюсь подготовить тебя именно к работе аналитиком. Но если ты пока не справишься с такой задачей - при следующей проверке я дам более точную подсказку. Я буду использовать цветовую разметку:\n",
    "\n",
    "<div class=\"alert alert-danger\">\n",
    "<b>Комментарий ревьюера ❌:</b> Так выделены самые важные замечания. Без их отработки проект не будет принят. </div>\n",
    "\n",
    "<div class=\"alert alert-warning\">\n",
    "<b>Комментарий ревьюера ⚠️:</b> Так выделены небольшие замечания. Я надеюсь, что их ты тоже учтешь - твой проект от этого станет только лучше. Но настаивать на их отработке не буду.\n",
    "\n",
    "</div>\n",
    "\n",
    "<div class=\"alert alert-success\">\n",
    "<b>Комментарий ревьюера ✔️:</b> Так я выделяю все остальные комментарии.</div>\n",
    "\n",
    "Давай работать над проектом в диалоге: **если ты что-то меняешь в проекте или отвечаешь на мои комментарии — пиши об этом.** Мне будет легче отследить изменения, если ты выделишь свои комментарии:\n",
    "<div class=\"alert alert-info\"> <b>Комментарий студента:</b> Например, вот так.</div>\n",
    "\n",
    "Всё это поможет выполнить повторную проверку твоего проекта оперативнее. "
   ]
  },
  {
   "cell_type": "markdown",
   "metadata": {},
   "source": [
    "# Исследование способов увеличения выручки интернет-магазина"
   ]
  },
  {
   "cell_type": "markdown",
   "metadata": {},
   "source": [
    "Необходимо изучить подготовленный отделом маркетинга список гипотез для увеличения выручки. Среди гипотез должна быть выделена наиболее приоритетная, для проверки которой далее необходимо запустить A/B тест.\n",
    "\n",
    "Ход исследования:\n",
    "1. Изучить и приоритизировать гипотезы по по увеличению выручки интернет-магазина.\n",
    "2. Запустить A/B тест.\n",
    "3. Проанализировать результаты тестирования и по итогу принять решение об успешности или неуспешности проведенного тестирования."
   ]
  },
  {
   "cell_type": "markdown",
   "metadata": {},
   "source": [
    "<div class=\"alert alert-success\">\n",
    "<b>Комментарий ревьюера ✔️:</b> Коротко обозначила основную цель проекта и ход исследования</div>"
   ]
  },
  {
   "cell_type": "markdown",
   "metadata": {},
   "source": [
    "## Загрузка и подготовка данных к анализу"
   ]
  },
  {
   "cell_type": "code",
   "execution_count": 1,
   "metadata": {},
   "outputs": [],
   "source": [
    "import pandas as pd\n",
    "import datetime as dt\n",
    "import numpy as np\n",
    "import matplotlib.pyplot as plt\n",
    "from pandas.plotting import register_matplotlib_converters\n",
    "import warnings\n",
    "import scipy.stats as stats"
   ]
  },
  {
   "cell_type": "code",
   "execution_count": 2,
   "metadata": {},
   "outputs": [],
   "source": [
    "try:\n",
    "    hypothesis, orders, visitors = (\n",
    "        pd.read_csv('/datasets/hypothesis.csv'),  # гипотезы\n",
    "        pd.read_csv('/datasets/orders.csv'),  # заказы\n",
    "        pd.read_csv('/datasets/visitors.csv')  # посетители\n",
    ")\n",
    "except:\n",
    "    hypothesis, orders, visitors = (\n",
    "        pd.read_csv('https://code.s3.yandex.net/datasets/hypothesis.csv'),\n",
    "        pd.read_csv('https://code.s3.yandex.net/datasets/orders.csv'),\n",
    "        pd.read_csv('https://code.s3.yandex.net/datasets/visitors.csv')\n",
    "    )"
   ]
  },
  {
   "cell_type": "markdown",
   "metadata": {},
   "source": [
    "## Часть 1. Приоритизация гипотез"
   ]
  },
  {
   "cell_type": "code",
   "execution_count": 3,
   "metadata": {
    "scrolled": false
   },
   "outputs": [
    {
     "data": {
      "text/html": [
       "<div>\n",
       "<style scoped>\n",
       "    .dataframe tbody tr th:only-of-type {\n",
       "        vertical-align: middle;\n",
       "    }\n",
       "\n",
       "    .dataframe tbody tr th {\n",
       "        vertical-align: top;\n",
       "    }\n",
       "\n",
       "    .dataframe thead th {\n",
       "        text-align: right;\n",
       "    }\n",
       "</style>\n",
       "<table border=\"1\" class=\"dataframe\">\n",
       "  <thead>\n",
       "    <tr style=\"text-align: right;\">\n",
       "      <th></th>\n",
       "      <th>Hypothesis</th>\n",
       "      <th>Reach</th>\n",
       "      <th>Impact</th>\n",
       "      <th>Confidence</th>\n",
       "      <th>Efforts</th>\n",
       "    </tr>\n",
       "  </thead>\n",
       "  <tbody>\n",
       "    <tr>\n",
       "      <th>0</th>\n",
       "      <td>Добавить два новых канала привлечения трафика,...</td>\n",
       "      <td>3</td>\n",
       "      <td>10</td>\n",
       "      <td>8</td>\n",
       "      <td>6</td>\n",
       "    </tr>\n",
       "    <tr>\n",
       "      <th>1</th>\n",
       "      <td>Запустить собственную службу доставки, что сок...</td>\n",
       "      <td>2</td>\n",
       "      <td>5</td>\n",
       "      <td>4</td>\n",
       "      <td>10</td>\n",
       "    </tr>\n",
       "    <tr>\n",
       "      <th>2</th>\n",
       "      <td>Добавить блоки рекомендаций товаров на сайт ин...</td>\n",
       "      <td>8</td>\n",
       "      <td>3</td>\n",
       "      <td>7</td>\n",
       "      <td>3</td>\n",
       "    </tr>\n",
       "    <tr>\n",
       "      <th>3</th>\n",
       "      <td>Изменить структура категорий, что увеличит кон...</td>\n",
       "      <td>8</td>\n",
       "      <td>3</td>\n",
       "      <td>3</td>\n",
       "      <td>8</td>\n",
       "    </tr>\n",
       "    <tr>\n",
       "      <th>4</th>\n",
       "      <td>Изменить цвет фона главной страницы, чтобы уве...</td>\n",
       "      <td>3</td>\n",
       "      <td>1</td>\n",
       "      <td>1</td>\n",
       "      <td>1</td>\n",
       "    </tr>\n",
       "    <tr>\n",
       "      <th>5</th>\n",
       "      <td>Добавить страницу отзывов клиентов о магазине,...</td>\n",
       "      <td>3</td>\n",
       "      <td>2</td>\n",
       "      <td>2</td>\n",
       "      <td>3</td>\n",
       "    </tr>\n",
       "    <tr>\n",
       "      <th>6</th>\n",
       "      <td>Показать на главной странице баннеры с актуаль...</td>\n",
       "      <td>5</td>\n",
       "      <td>3</td>\n",
       "      <td>8</td>\n",
       "      <td>3</td>\n",
       "    </tr>\n",
       "    <tr>\n",
       "      <th>7</th>\n",
       "      <td>Добавить форму подписки на все основные страни...</td>\n",
       "      <td>10</td>\n",
       "      <td>7</td>\n",
       "      <td>8</td>\n",
       "      <td>5</td>\n",
       "    </tr>\n",
       "    <tr>\n",
       "      <th>8</th>\n",
       "      <td>Запустить акцию, дающую скидку на товар в день...</td>\n",
       "      <td>1</td>\n",
       "      <td>9</td>\n",
       "      <td>9</td>\n",
       "      <td>5</td>\n",
       "    </tr>\n",
       "  </tbody>\n",
       "</table>\n",
       "</div>"
      ],
      "text/plain": [
       "                                          Hypothesis  Reach  Impact  \\\n",
       "0  Добавить два новых канала привлечения трафика,...      3      10   \n",
       "1  Запустить собственную службу доставки, что сок...      2       5   \n",
       "2  Добавить блоки рекомендаций товаров на сайт ин...      8       3   \n",
       "3  Изменить структура категорий, что увеличит кон...      8       3   \n",
       "4  Изменить цвет фона главной страницы, чтобы уве...      3       1   \n",
       "5  Добавить страницу отзывов клиентов о магазине,...      3       2   \n",
       "6  Показать на главной странице баннеры с актуаль...      5       3   \n",
       "7  Добавить форму подписки на все основные страни...     10       7   \n",
       "8  Запустить акцию, дающую скидку на товар в день...      1       9   \n",
       "\n",
       "   Confidence  Efforts  \n",
       "0           8        6  \n",
       "1           4       10  \n",
       "2           7        3  \n",
       "3           3        8  \n",
       "4           1        1  \n",
       "5           2        3  \n",
       "6           8        3  \n",
       "7           8        5  \n",
       "8           9        5  "
      ]
     },
     "execution_count": 3,
     "metadata": {},
     "output_type": "execute_result"
    }
   ],
   "source": [
    "hypothesis"
   ]
  },
  {
   "cell_type": "code",
   "execution_count": 4,
   "metadata": {},
   "outputs": [],
   "source": [
    "hypothesis.columns = hypothesis.columns.str.replace(' ', '_').str.lower()"
   ]
  },
  {
   "cell_type": "markdown",
   "metadata": {},
   "source": [
    "Для приоритизации гипотез применим 2 популярных фреймворка, ICE и RICE, и сравним их результаты. Оба фреймворка позволяют количественно оценить идею на основе факторов, влияющих на ее реализацию.\n",
    "\n",
    "**ICE = Impact * Confidence / Effort**\n",
    "\n",
    "**RICE = Reach * Impact * Confidence / Effort**\n",
    "\n",
    "Reach — скольких пользователей затронет изменение, которое вы хотите внести; <br>\n",
    "Impact — насколько сильно изменение повлияет на пользователей, их опыт и удовлетворение от продукта; <br>\n",
    "Confidence — насколько вы уверены, что это изменение повлияет на пользователей именно так; <br>\n",
    "Efforts — сколько стоит протестировать эту гипотезу."
   ]
  },
  {
   "cell_type": "markdown",
   "metadata": {},
   "source": [
    "Применим фреймворк ICE для приоритизации гипотез."
   ]
  },
  {
   "cell_type": "code",
   "execution_count": 5,
   "metadata": {
    "scrolled": false
   },
   "outputs": [
    {
     "data": {
      "text/html": [
       "<style  type=\"text/css\" >\n",
       "#T_dfb52_row0_col0,#T_dfb52_row0_col1,#T_dfb52_row1_col0,#T_dfb52_row1_col1,#T_dfb52_row2_col0,#T_dfb52_row2_col1,#T_dfb52_row3_col0,#T_dfb52_row3_col1,#T_dfb52_row4_col0,#T_dfb52_row4_col1,#T_dfb52_row5_col0,#T_dfb52_row5_col1,#T_dfb52_row6_col0,#T_dfb52_row6_col1,#T_dfb52_row7_col0,#T_dfb52_row7_col1,#T_dfb52_row8_col0,#T_dfb52_row8_col1{\n",
       "            text-align:  left;\n",
       "        }</style><table id=\"T_dfb52_\" ><thead>    <tr>        <th class=\"blank level0\" ></th>        <th class=\"col_heading level0 col0\" >hypothesis</th>        <th class=\"col_heading level0 col1\" >ICE</th>    </tr></thead><tbody>\n",
       "                <tr>\n",
       "                        <th id=\"T_dfb52_level0_row0\" class=\"row_heading level0 row0\" >8</th>\n",
       "                        <td id=\"T_dfb52_row0_col0\" class=\"data row0 col0\" >Запустить акцию, дающую скидку на товар в день рождения</td>\n",
       "                        <td id=\"T_dfb52_row0_col1\" class=\"data row0 col1\" >16.20</td>\n",
       "            </tr>\n",
       "            <tr>\n",
       "                        <th id=\"T_dfb52_level0_row1\" class=\"row_heading level0 row1\" >0</th>\n",
       "                        <td id=\"T_dfb52_row1_col0\" class=\"data row1 col0\" >Добавить два новых канала привлечения трафика, что позволит привлекать на 30% больше пользователей</td>\n",
       "                        <td id=\"T_dfb52_row1_col1\" class=\"data row1 col1\" >13.33</td>\n",
       "            </tr>\n",
       "            <tr>\n",
       "                        <th id=\"T_dfb52_level0_row2\" class=\"row_heading level0 row2\" >7</th>\n",
       "                        <td id=\"T_dfb52_row2_col0\" class=\"data row2 col0\" >Добавить форму подписки на все основные страницы, чтобы собрать базу клиентов для email-рассылок</td>\n",
       "                        <td id=\"T_dfb52_row2_col1\" class=\"data row2 col1\" >11.20</td>\n",
       "            </tr>\n",
       "            <tr>\n",
       "                        <th id=\"T_dfb52_level0_row3\" class=\"row_heading level0 row3\" >6</th>\n",
       "                        <td id=\"T_dfb52_row3_col0\" class=\"data row3 col0\" >Показать на главной странице баннеры с актуальными акциями и распродажами, чтобы увеличить конверсию</td>\n",
       "                        <td id=\"T_dfb52_row3_col1\" class=\"data row3 col1\" >8.00</td>\n",
       "            </tr>\n",
       "            <tr>\n",
       "                        <th id=\"T_dfb52_level0_row4\" class=\"row_heading level0 row4\" >2</th>\n",
       "                        <td id=\"T_dfb52_row4_col0\" class=\"data row4 col0\" >Добавить блоки рекомендаций товаров на сайт интернет магазина, чтобы повысить конверсию и средний чек заказа</td>\n",
       "                        <td id=\"T_dfb52_row4_col1\" class=\"data row4 col1\" >7.00</td>\n",
       "            </tr>\n",
       "            <tr>\n",
       "                        <th id=\"T_dfb52_level0_row5\" class=\"row_heading level0 row5\" >1</th>\n",
       "                        <td id=\"T_dfb52_row5_col0\" class=\"data row5 col0\" >Запустить собственную службу доставки, что сократит срок доставки заказов</td>\n",
       "                        <td id=\"T_dfb52_row5_col1\" class=\"data row5 col1\" >2.00</td>\n",
       "            </tr>\n",
       "            <tr>\n",
       "                        <th id=\"T_dfb52_level0_row6\" class=\"row_heading level0 row6\" >5</th>\n",
       "                        <td id=\"T_dfb52_row6_col0\" class=\"data row6 col0\" >Добавить страницу отзывов клиентов о магазине, что позволит увеличить количество заказов</td>\n",
       "                        <td id=\"T_dfb52_row6_col1\" class=\"data row6 col1\" >1.33</td>\n",
       "            </tr>\n",
       "            <tr>\n",
       "                        <th id=\"T_dfb52_level0_row7\" class=\"row_heading level0 row7\" >3</th>\n",
       "                        <td id=\"T_dfb52_row7_col0\" class=\"data row7 col0\" >Изменить структура категорий, что увеличит конверсию, т.к. пользователи быстрее найдут нужный товар</td>\n",
       "                        <td id=\"T_dfb52_row7_col1\" class=\"data row7 col1\" >1.12</td>\n",
       "            </tr>\n",
       "            <tr>\n",
       "                        <th id=\"T_dfb52_level0_row8\" class=\"row_heading level0 row8\" >4</th>\n",
       "                        <td id=\"T_dfb52_row8_col0\" class=\"data row8 col0\" >Изменить цвет фона главной страницы, чтобы увеличить вовлеченность пользователей</td>\n",
       "                        <td id=\"T_dfb52_row8_col1\" class=\"data row8 col1\" >1.00</td>\n",
       "            </tr>\n",
       "    </tbody></table>"
      ],
      "text/plain": [
       "<pandas.io.formats.style.Styler at 0x7fc3d72f2640>"
      ]
     },
     "execution_count": 5,
     "metadata": {},
     "output_type": "execute_result"
    }
   ],
   "source": [
    "#ICE = (impact*confidence)/efforts\n",
    "hypothesis['ICE'] = round(hypothesis['impact']*hypothesis['confidence']/hypothesis['efforts'], 2)\n",
    "\n",
    "#Выведем только гипотезу и значение ICE, выравненные по левому краю\n",
    "hypothesis.loc[:, ['hypothesis', 'ICE']].sort_values(by = 'ICE', ascending=False).style.set_properties(**{'text-align': 'left'}).format({\"ICE\": \"{:.2f}\"})"
   ]
  },
  {
   "cell_type": "markdown",
   "metadata": {},
   "source": [
    "<div class=\"alert alert-success\">\n",
    "<b>Комментарий ревьюера ✔️:</b> Хорошо, что показываешь гипотезы целиком и в выводах указываешь их названия </div>"
   ]
  },
  {
   "cell_type": "markdown",
   "metadata": {},
   "source": [
    "<div class=\"alert alert-warning\">\n",
    "<b>Комментарий ревьюера ⚠️:</b> Но тут значения в ICE вполне можно округлить до второго знака"
   ]
  },
  {
   "cell_type": "markdown",
   "metadata": {},
   "source": [
    "<div class=\"alert alert-info\"> <b>Комментарий студента v1:</b> Привет! Спасибо за замечание, исправила. </div>"
   ]
  },
  {
   "cell_type": "markdown",
   "metadata": {},
   "source": [
    "<div class=\"alert alert-success\">\n",
    "<b>Комментарий ревьюера v 2.0 ✔️:</b> Хорошо)"
   ]
  },
  {
   "cell_type": "markdown",
   "metadata": {},
   "source": [
    "Наиболее перспективные гипотезы по ICE это:  <br>\n",
    "- (9-ая): \"Запустить акцию, дающую скидку на товар в день рождения\", <br>\n",
    "- (1-ая): \"Добавить два новых канала привлечения трафика, что позволит привлекать на 30% больше пользователей\",  <br>\n",
    "- (8-ая): \"Добавить форму подписки на все основные страницы, чтобы собрать базу клиентов для email-рассылок\"."
   ]
  },
  {
   "cell_type": "markdown",
   "metadata": {},
   "source": [
    "Применим фреймворк RICE для приоритизации гипотез."
   ]
  },
  {
   "cell_type": "code",
   "execution_count": 6,
   "metadata": {},
   "outputs": [
    {
     "data": {
      "text/html": [
       "<style  type=\"text/css\" >\n",
       "#T_0a2fb_row0_col0,#T_0a2fb_row0_col1,#T_0a2fb_row1_col0,#T_0a2fb_row1_col1,#T_0a2fb_row2_col0,#T_0a2fb_row2_col1,#T_0a2fb_row3_col0,#T_0a2fb_row3_col1,#T_0a2fb_row4_col0,#T_0a2fb_row4_col1,#T_0a2fb_row5_col0,#T_0a2fb_row5_col1,#T_0a2fb_row6_col0,#T_0a2fb_row6_col1,#T_0a2fb_row7_col0,#T_0a2fb_row7_col1,#T_0a2fb_row8_col0,#T_0a2fb_row8_col1{\n",
       "            text-align:  left;\n",
       "        }</style><table id=\"T_0a2fb_\" ><thead>    <tr>        <th class=\"blank level0\" ></th>        <th class=\"col_heading level0 col0\" >hypothesis</th>        <th class=\"col_heading level0 col1\" >RICE</th>    </tr></thead><tbody>\n",
       "                <tr>\n",
       "                        <th id=\"T_0a2fb_level0_row0\" class=\"row_heading level0 row0\" >7</th>\n",
       "                        <td id=\"T_0a2fb_row0_col0\" class=\"data row0 col0\" >Добавить форму подписки на все основные страницы, чтобы собрать базу клиентов для email-рассылок</td>\n",
       "                        <td id=\"T_0a2fb_row0_col1\" class=\"data row0 col1\" >112.00</td>\n",
       "            </tr>\n",
       "            <tr>\n",
       "                        <th id=\"T_0a2fb_level0_row1\" class=\"row_heading level0 row1\" >2</th>\n",
       "                        <td id=\"T_0a2fb_row1_col0\" class=\"data row1 col0\" >Добавить блоки рекомендаций товаров на сайт интернет магазина, чтобы повысить конверсию и средний чек заказа</td>\n",
       "                        <td id=\"T_0a2fb_row1_col1\" class=\"data row1 col1\" >56.00</td>\n",
       "            </tr>\n",
       "            <tr>\n",
       "                        <th id=\"T_0a2fb_level0_row2\" class=\"row_heading level0 row2\" >0</th>\n",
       "                        <td id=\"T_0a2fb_row2_col0\" class=\"data row2 col0\" >Добавить два новых канала привлечения трафика, что позволит привлекать на 30% больше пользователей</td>\n",
       "                        <td id=\"T_0a2fb_row2_col1\" class=\"data row2 col1\" >40.00</td>\n",
       "            </tr>\n",
       "            <tr>\n",
       "                        <th id=\"T_0a2fb_level0_row3\" class=\"row_heading level0 row3\" >6</th>\n",
       "                        <td id=\"T_0a2fb_row3_col0\" class=\"data row3 col0\" >Показать на главной странице баннеры с актуальными акциями и распродажами, чтобы увеличить конверсию</td>\n",
       "                        <td id=\"T_0a2fb_row3_col1\" class=\"data row3 col1\" >40.00</td>\n",
       "            </tr>\n",
       "            <tr>\n",
       "                        <th id=\"T_0a2fb_level0_row4\" class=\"row_heading level0 row4\" >8</th>\n",
       "                        <td id=\"T_0a2fb_row4_col0\" class=\"data row4 col0\" >Запустить акцию, дающую скидку на товар в день рождения</td>\n",
       "                        <td id=\"T_0a2fb_row4_col1\" class=\"data row4 col1\" >16.20</td>\n",
       "            </tr>\n",
       "            <tr>\n",
       "                        <th id=\"T_0a2fb_level0_row5\" class=\"row_heading level0 row5\" >3</th>\n",
       "                        <td id=\"T_0a2fb_row5_col0\" class=\"data row5 col0\" >Изменить структура категорий, что увеличит конверсию, т.к. пользователи быстрее найдут нужный товар</td>\n",
       "                        <td id=\"T_0a2fb_row5_col1\" class=\"data row5 col1\" >9.00</td>\n",
       "            </tr>\n",
       "            <tr>\n",
       "                        <th id=\"T_0a2fb_level0_row6\" class=\"row_heading level0 row6\" >1</th>\n",
       "                        <td id=\"T_0a2fb_row6_col0\" class=\"data row6 col0\" >Запустить собственную службу доставки, что сократит срок доставки заказов</td>\n",
       "                        <td id=\"T_0a2fb_row6_col1\" class=\"data row6 col1\" >4.00</td>\n",
       "            </tr>\n",
       "            <tr>\n",
       "                        <th id=\"T_0a2fb_level0_row7\" class=\"row_heading level0 row7\" >5</th>\n",
       "                        <td id=\"T_0a2fb_row7_col0\" class=\"data row7 col0\" >Добавить страницу отзывов клиентов о магазине, что позволит увеличить количество заказов</td>\n",
       "                        <td id=\"T_0a2fb_row7_col1\" class=\"data row7 col1\" >4.00</td>\n",
       "            </tr>\n",
       "            <tr>\n",
       "                        <th id=\"T_0a2fb_level0_row8\" class=\"row_heading level0 row8\" >4</th>\n",
       "                        <td id=\"T_0a2fb_row8_col0\" class=\"data row8 col0\" >Изменить цвет фона главной страницы, чтобы увеличить вовлеченность пользователей</td>\n",
       "                        <td id=\"T_0a2fb_row8_col1\" class=\"data row8 col1\" >3.00</td>\n",
       "            </tr>\n",
       "    </tbody></table>"
      ],
      "text/plain": [
       "<pandas.io.formats.style.Styler at 0x7fc3d74e8430>"
      ]
     },
     "execution_count": 6,
     "metadata": {},
     "output_type": "execute_result"
    }
   ],
   "source": [
    "#RICE = (reach*impact*confidence)/efforts\n",
    "hypothesis['RICE'] = round(hypothesis['reach']*hypothesis['impact']*hypothesis['confidence']/hypothesis['efforts'], 2)\n",
    "\n",
    "#Выведем только гипотезу и значение RICE, выравненные по левому краю\n",
    "hypothesis.loc[:, ['hypothesis', 'RICE']].sort_values(by = 'RICE', ascending=False).style.set_properties(**{'text-align': 'left'}).format({\"RICE\": \"{:.2f}\"})"
   ]
  },
  {
   "cell_type": "markdown",
   "metadata": {},
   "source": [
    "<div class=\"alert alert-warning\">\n",
    "<b>Комментарий ревьюера ⚠️:</b> Также RICE вполне можно округлить"
   ]
  },
  {
   "cell_type": "markdown",
   "metadata": {},
   "source": [
    "<div class=\"alert alert-info\"> <b>Комментарий студента v1:</b> Исправлено. </div>"
   ]
  },
  {
   "cell_type": "markdown",
   "metadata": {},
   "source": [
    "<div class=\"alert alert-success\">\n",
    "<b>Комментарий ревьюера v 2.0 ✔️:</b> Округления добавлены"
   ]
  },
  {
   "cell_type": "markdown",
   "metadata": {},
   "source": [
    "Наиболее перспективные гипотезы по RICE это:  <br>\n",
    "- (8-ая): \"Добавить форму подписки на все основные страницы, чтобы собрать базу клиентов для email-рассылок\", <br>\n",
    "- (3-ая): \"Добавить блоки рекомендаций товаров на сайт интернет магазина, чтобы повысить конверсию и средний чек заказа\", <br>\n",
    "- (1-ая): \"Добавить два новых канала привлечения трафика, что позволит привлекать на 30% больше пользователей\"."
   ]
  },
  {
   "cell_type": "markdown",
   "metadata": {},
   "source": [
    "Оба фреймворка показали, что 1-ая и 8-ая гипотезы входят в топ-3 наиболее приоритетных гипотез. <br>\n",
    "Однако, 8-ая гипотеза **\"Добавить форму подписки на все основные страницы, чтобы собрать базу клиентов для email-рассылок\"** вышла на первое место по методу RICE, т.к. у нее наибольшее значение reach (=10), т.е. наибольшихй охват пользователей. В первую очередь следует начать с проверки именно этой гипотезы."
   ]
  },
  {
   "cell_type": "markdown",
   "metadata": {},
   "source": [
    "<div class=\"alert alert-success\">\n",
    "<b>Комментарий ревьюера ✔️:</b> Все здорово </div>"
   ]
  },
  {
   "cell_type": "markdown",
   "metadata": {},
   "source": [
    "<div class=\"alert alert-warning\">\n",
    "<b>Комментарий ревьюера ⚠️:</b>  Еще порекомендую в вводной части указать, что в целом означают фреймворки"
   ]
  },
  {
   "cell_type": "markdown",
   "metadata": {},
   "source": [
    "<div class=\"alert alert-info\"> <b>Комментарий студента v1:</b> Добавила. </div>"
   ]
  },
  {
   "cell_type": "markdown",
   "metadata": {},
   "source": [
    "<div class=\"alert alert-success\">\n",
    "<b>Комментарий ревьюера v 2.0 ✔️:</b> Молодец!"
   ]
  },
  {
   "cell_type": "markdown",
   "metadata": {},
   "source": [
    "## Часть 2. Анализ A/B-теста"
   ]
  },
  {
   "cell_type": "markdown",
   "metadata": {},
   "source": [
    "Изучим данные с результатами A/B-теста. Проверим, нет ли в данных ошибок."
   ]
  },
  {
   "cell_type": "code",
   "execution_count": 7,
   "metadata": {
    "scrolled": true
   },
   "outputs": [
    {
     "name": "stdout",
     "output_type": "stream",
     "text": [
      "<class 'pandas.core.frame.DataFrame'>\n",
      "RangeIndex: 1197 entries, 0 to 1196\n",
      "Data columns (total 5 columns):\n",
      " #   Column         Non-Null Count  Dtype \n",
      "---  ------         --------------  ----- \n",
      " 0   transactionId  1197 non-null   int64 \n",
      " 1   visitorId      1197 non-null   int64 \n",
      " 2   date           1197 non-null   object\n",
      " 3   revenue        1197 non-null   int64 \n",
      " 4   group          1197 non-null   object\n",
      "dtypes: int64(3), object(2)\n",
      "memory usage: 46.9+ KB\n"
     ]
    }
   ],
   "source": [
    "orders.info()"
   ]
  },
  {
   "cell_type": "code",
   "execution_count": 8,
   "metadata": {
    "scrolled": false
   },
   "outputs": [
    {
     "name": "stdout",
     "output_type": "stream",
     "text": [
      "<class 'pandas.core.frame.DataFrame'>\n",
      "RangeIndex: 62 entries, 0 to 61\n",
      "Data columns (total 3 columns):\n",
      " #   Column    Non-Null Count  Dtype \n",
      "---  ------    --------------  ----- \n",
      " 0   date      62 non-null     object\n",
      " 1   group     62 non-null     object\n",
      " 2   visitors  62 non-null     int64 \n",
      "dtypes: int64(1), object(2)\n",
      "memory usage: 1.6+ KB\n"
     ]
    }
   ],
   "source": [
    "visitors.info()"
   ]
  },
  {
   "cell_type": "markdown",
   "metadata": {},
   "source": [
    "Пропусков в данных нет. Для удобства переименуем столбцы и приведем даты к формату даты. Так же проверим наличие дублей в обеих таблицах."
   ]
  },
  {
   "cell_type": "code",
   "execution_count": 9,
   "metadata": {},
   "outputs": [],
   "source": [
    "orders.columns = orders.columns.str.replace(' ', '_').str.lower()\n",
    "visitors.columns = visitors.columns.str.replace(' ', '_').str.lower()\n",
    "orders.columns = ['transaction_id', 'visitor_id', 'date', 'revenue', 'group']\n",
    "orders['date'] = orders['date'].map(lambda x: dt.datetime.strptime(x, '%Y-%m-%d'))\n",
    "visitors['date'] = visitors['date'].map(lambda x: dt.datetime.strptime(x, '%Y-%m-%d'))"
   ]
  },
  {
   "cell_type": "code",
   "execution_count": 10,
   "metadata": {},
   "outputs": [
    {
     "data": {
      "text/plain": [
       "0"
      ]
     },
     "metadata": {},
     "output_type": "display_data"
    },
    {
     "data": {
      "text/plain": [
       "0"
      ]
     },
     "metadata": {},
     "output_type": "display_data"
    }
   ],
   "source": [
    "display(orders.duplicated().sum(), visitors.duplicated().sum())"
   ]
  },
  {
   "cell_type": "code",
   "execution_count": 11,
   "metadata": {},
   "outputs": [
    {
     "data": {
      "text/plain": [
       "Timestamp('2019-08-01 00:00:00')"
      ]
     },
     "metadata": {},
     "output_type": "display_data"
    },
    {
     "data": {
      "text/plain": [
       "Timestamp('2019-08-31 00:00:00')"
      ]
     },
     "metadata": {},
     "output_type": "display_data"
    }
   ],
   "source": [
    "display(orders['date'].min(), orders['date'].max())"
   ]
  },
  {
   "cell_type": "code",
   "execution_count": 12,
   "metadata": {
    "scrolled": true
   },
   "outputs": [
    {
     "data": {
      "text/plain": [
       "Timestamp('2019-08-01 00:00:00')"
      ]
     },
     "metadata": {},
     "output_type": "display_data"
    },
    {
     "data": {
      "text/plain": [
       "Timestamp('2019-08-31 00:00:00')"
      ]
     },
     "metadata": {},
     "output_type": "display_data"
    }
   ],
   "source": [
    "display(visitors['date'].min(), visitors['date'].max())"
   ]
  },
  {
   "cell_type": "markdown",
   "metadata": {},
   "source": [
    "<div class=\"alert alert-success\">\n",
    "<b>Комментарий ревьюера ✔️:</b> Классная обработка  и последовательное отображение данных </div>"
   ]
  },
  {
   "cell_type": "code",
   "execution_count": 13,
   "metadata": {},
   "outputs": [
    {
     "data": {
      "text/html": [
       "<div>\n",
       "<style scoped>\n",
       "    .dataframe tbody tr th:only-of-type {\n",
       "        vertical-align: middle;\n",
       "    }\n",
       "\n",
       "    .dataframe tbody tr th {\n",
       "        vertical-align: top;\n",
       "    }\n",
       "\n",
       "    .dataframe thead th {\n",
       "        text-align: right;\n",
       "    }\n",
       "</style>\n",
       "<table border=\"1\" class=\"dataframe\">\n",
       "  <thead>\n",
       "    <tr style=\"text-align: right;\">\n",
       "      <th></th>\n",
       "      <th>transaction_id</th>\n",
       "      <th>visitor_id</th>\n",
       "      <th>date</th>\n",
       "      <th>revenue</th>\n",
       "      <th>group</th>\n",
       "    </tr>\n",
       "  </thead>\n",
       "  <tbody>\n",
       "    <tr>\n",
       "      <th>0</th>\n",
       "      <td>3667963787</td>\n",
       "      <td>3312258926</td>\n",
       "      <td>2019-08-15</td>\n",
       "      <td>1650</td>\n",
       "      <td>B</td>\n",
       "    </tr>\n",
       "    <tr>\n",
       "      <th>1</th>\n",
       "      <td>2804400009</td>\n",
       "      <td>3642806036</td>\n",
       "      <td>2019-08-15</td>\n",
       "      <td>730</td>\n",
       "      <td>B</td>\n",
       "    </tr>\n",
       "    <tr>\n",
       "      <th>2</th>\n",
       "      <td>2961555356</td>\n",
       "      <td>4069496402</td>\n",
       "      <td>2019-08-15</td>\n",
       "      <td>400</td>\n",
       "      <td>A</td>\n",
       "    </tr>\n",
       "    <tr>\n",
       "      <th>3</th>\n",
       "      <td>3797467345</td>\n",
       "      <td>1196621759</td>\n",
       "      <td>2019-08-15</td>\n",
       "      <td>9759</td>\n",
       "      <td>B</td>\n",
       "    </tr>\n",
       "    <tr>\n",
       "      <th>4</th>\n",
       "      <td>2282983706</td>\n",
       "      <td>2322279887</td>\n",
       "      <td>2019-08-15</td>\n",
       "      <td>2308</td>\n",
       "      <td>B</td>\n",
       "    </tr>\n",
       "  </tbody>\n",
       "</table>\n",
       "</div>"
      ],
      "text/plain": [
       "   transaction_id  visitor_id       date  revenue group\n",
       "0      3667963787  3312258926 2019-08-15     1650     B\n",
       "1      2804400009  3642806036 2019-08-15      730     B\n",
       "2      2961555356  4069496402 2019-08-15      400     A\n",
       "3      3797467345  1196621759 2019-08-15     9759     B\n",
       "4      2282983706  2322279887 2019-08-15     2308     B"
      ]
     },
     "execution_count": 13,
     "metadata": {},
     "output_type": "execute_result"
    }
   ],
   "source": [
    "orders.head()"
   ]
  },
  {
   "cell_type": "code",
   "execution_count": 14,
   "metadata": {},
   "outputs": [
    {
     "data": {
      "text/html": [
       "<div>\n",
       "<style scoped>\n",
       "    .dataframe tbody tr th:only-of-type {\n",
       "        vertical-align: middle;\n",
       "    }\n",
       "\n",
       "    .dataframe tbody tr th {\n",
       "        vertical-align: top;\n",
       "    }\n",
       "\n",
       "    .dataframe thead th {\n",
       "        text-align: right;\n",
       "    }\n",
       "</style>\n",
       "<table border=\"1\" class=\"dataframe\">\n",
       "  <thead>\n",
       "    <tr style=\"text-align: right;\">\n",
       "      <th></th>\n",
       "      <th>date</th>\n",
       "      <th>group</th>\n",
       "      <th>visitors</th>\n",
       "    </tr>\n",
       "  </thead>\n",
       "  <tbody>\n",
       "    <tr>\n",
       "      <th>0</th>\n",
       "      <td>2019-08-01</td>\n",
       "      <td>A</td>\n",
       "      <td>719</td>\n",
       "    </tr>\n",
       "    <tr>\n",
       "      <th>1</th>\n",
       "      <td>2019-08-02</td>\n",
       "      <td>A</td>\n",
       "      <td>619</td>\n",
       "    </tr>\n",
       "    <tr>\n",
       "      <th>2</th>\n",
       "      <td>2019-08-03</td>\n",
       "      <td>A</td>\n",
       "      <td>507</td>\n",
       "    </tr>\n",
       "    <tr>\n",
       "      <th>3</th>\n",
       "      <td>2019-08-04</td>\n",
       "      <td>A</td>\n",
       "      <td>717</td>\n",
       "    </tr>\n",
       "    <tr>\n",
       "      <th>4</th>\n",
       "      <td>2019-08-05</td>\n",
       "      <td>A</td>\n",
       "      <td>756</td>\n",
       "    </tr>\n",
       "  </tbody>\n",
       "</table>\n",
       "</div>"
      ],
      "text/plain": [
       "        date group  visitors\n",
       "0 2019-08-01     A       719\n",
       "1 2019-08-02     A       619\n",
       "2 2019-08-03     A       507\n",
       "3 2019-08-04     A       717\n",
       "4 2019-08-05     A       756"
      ]
     },
     "execution_count": 14,
     "metadata": {},
     "output_type": "execute_result"
    }
   ],
   "source": [
    "visitors.head()"
   ]
  },
  {
   "cell_type": "markdown",
   "metadata": {},
   "source": [
    "Проверим наличие пользователей, которые оказались в обеих группах в таблице orders."
   ]
  },
  {
   "cell_type": "code",
   "execution_count": 15,
   "metadata": {
    "scrolled": false
   },
   "outputs": [
    {
     "data": {
      "text/plain": [
       "58"
      ]
     },
     "execution_count": 15,
     "metadata": {},
     "output_type": "execute_result"
    }
   ],
   "source": [
    "#Сколько пользователей входят в обе группы\n",
    "visitor_groups = orders.groupby('visitor_id', as_index = False).agg({'group':'nunique'})\n",
    "visitor_groups.query('group == 2')['visitor_id'].count()"
   ]
  },
  {
   "cell_type": "markdown",
   "metadata": {},
   "source": [
    "<div class=\"alert alert-success\">\n",
    "<b>Комментарий ревьюера ✔️:</b> Отличная проверка </div>"
   ]
  },
  {
   "cell_type": "code",
   "execution_count": 16,
   "metadata": {},
   "outputs": [
    {
     "data": {
      "text/plain": [
       "(181, 5)"
      ]
     },
     "execution_count": 16,
     "metadata": {},
     "output_type": "execute_result"
    }
   ],
   "source": [
    "#Сколько всего заказов у таких пользователей\n",
    "orders[orders['visitor_id'].isin(visitor_groups.query('group == 2')['visitor_id'])].shape"
   ]
  },
  {
   "cell_type": "markdown",
   "metadata": {},
   "source": [
    "58 пользователей входят и в группу A и в группу B. Эти пользователи совершили 181 заказ. Наличие таких пользователей в данных указывает, что при проведении A/B теста были допущены ошибки. Это может исказить результат исследования."
   ]
  },
  {
   "cell_type": "markdown",
   "metadata": {},
   "source": [
    "### Анализ кумулятивных метрик"
   ]
  },
  {
   "cell_type": "markdown",
   "metadata": {},
   "source": [
    "Построим **график кумулятивной выручки по группам**."
   ]
  },
  {
   "cell_type": "code",
   "execution_count": 17,
   "metadata": {},
   "outputs": [],
   "source": [
    "#Создаем массив уникальных пар значений дат и групп теста\n",
    "dates_groups = orders[['date','group']].drop_duplicates() "
   ]
  },
  {
   "cell_type": "code",
   "execution_count": 18,
   "metadata": {},
   "outputs": [
    {
     "data": {
      "text/html": [
       "<div>\n",
       "<style scoped>\n",
       "    .dataframe tbody tr th:only-of-type {\n",
       "        vertical-align: middle;\n",
       "    }\n",
       "\n",
       "    .dataframe tbody tr th {\n",
       "        vertical-align: top;\n",
       "    }\n",
       "\n",
       "    .dataframe thead th {\n",
       "        text-align: right;\n",
       "    }\n",
       "</style>\n",
       "<table border=\"1\" class=\"dataframe\">\n",
       "  <thead>\n",
       "    <tr style=\"text-align: right;\">\n",
       "      <th></th>\n",
       "      <th>date</th>\n",
       "      <th>group</th>\n",
       "      <th>transaction_id</th>\n",
       "      <th>visitor_id</th>\n",
       "      <th>revenue</th>\n",
       "    </tr>\n",
       "  </thead>\n",
       "  <tbody>\n",
       "    <tr>\n",
       "      <th>0</th>\n",
       "      <td>2019-08-01</td>\n",
       "      <td>A</td>\n",
       "      <td>24</td>\n",
       "      <td>20</td>\n",
       "      <td>148579</td>\n",
       "    </tr>\n",
       "    <tr>\n",
       "      <th>1</th>\n",
       "      <td>2019-08-01</td>\n",
       "      <td>B</td>\n",
       "      <td>21</td>\n",
       "      <td>20</td>\n",
       "      <td>101217</td>\n",
       "    </tr>\n",
       "    <tr>\n",
       "      <th>2</th>\n",
       "      <td>2019-08-02</td>\n",
       "      <td>A</td>\n",
       "      <td>44</td>\n",
       "      <td>38</td>\n",
       "      <td>242401</td>\n",
       "    </tr>\n",
       "    <tr>\n",
       "      <th>3</th>\n",
       "      <td>2019-08-02</td>\n",
       "      <td>B</td>\n",
       "      <td>45</td>\n",
       "      <td>43</td>\n",
       "      <td>266748</td>\n",
       "    </tr>\n",
       "    <tr>\n",
       "      <th>4</th>\n",
       "      <td>2019-08-03</td>\n",
       "      <td>A</td>\n",
       "      <td>68</td>\n",
       "      <td>62</td>\n",
       "      <td>354874</td>\n",
       "    </tr>\n",
       "    <tr>\n",
       "      <th>...</th>\n",
       "      <td>...</td>\n",
       "      <td>...</td>\n",
       "      <td>...</td>\n",
       "      <td>...</td>\n",
       "      <td>...</td>\n",
       "    </tr>\n",
       "    <tr>\n",
       "      <th>57</th>\n",
       "      <td>2019-08-29</td>\n",
       "      <td>B</td>\n",
       "      <td>596</td>\n",
       "      <td>544</td>\n",
       "      <td>5559398</td>\n",
       "    </tr>\n",
       "    <tr>\n",
       "      <th>58</th>\n",
       "      <td>2019-08-30</td>\n",
       "      <td>A</td>\n",
       "      <td>545</td>\n",
       "      <td>493</td>\n",
       "      <td>4022970</td>\n",
       "    </tr>\n",
       "    <tr>\n",
       "      <th>59</th>\n",
       "      <td>2019-08-30</td>\n",
       "      <td>B</td>\n",
       "      <td>620</td>\n",
       "      <td>567</td>\n",
       "      <td>5774631</td>\n",
       "    </tr>\n",
       "    <tr>\n",
       "      <th>60</th>\n",
       "      <td>2019-08-31</td>\n",
       "      <td>A</td>\n",
       "      <td>557</td>\n",
       "      <td>503</td>\n",
       "      <td>4084803</td>\n",
       "    </tr>\n",
       "    <tr>\n",
       "      <th>61</th>\n",
       "      <td>2019-08-31</td>\n",
       "      <td>B</td>\n",
       "      <td>640</td>\n",
       "      <td>586</td>\n",
       "      <td>5907760</td>\n",
       "    </tr>\n",
       "  </tbody>\n",
       "</table>\n",
       "<p>62 rows × 5 columns</p>\n",
       "</div>"
      ],
      "text/plain": [
       "         date group  transaction_id  visitor_id  revenue\n",
       "0  2019-08-01     A              24          20   148579\n",
       "1  2019-08-01     B              21          20   101217\n",
       "2  2019-08-02     A              44          38   242401\n",
       "3  2019-08-02     B              45          43   266748\n",
       "4  2019-08-03     A              68          62   354874\n",
       "..        ...   ...             ...         ...      ...\n",
       "57 2019-08-29     B             596         544  5559398\n",
       "58 2019-08-30     A             545         493  4022970\n",
       "59 2019-08-30     B             620         567  5774631\n",
       "60 2019-08-31     A             557         503  4084803\n",
       "61 2019-08-31     B             640         586  5907760\n",
       "\n",
       "[62 rows x 5 columns]"
      ]
     },
     "execution_count": 18,
     "metadata": {},
     "output_type": "execute_result"
    }
   ],
   "source": [
    "#Получаем агрегированные кумулятивные по дням данные о заказах \n",
    "\n",
    "#Решение из тренажера:\n",
    "#orders_aggregated = dates_groups.apply(lambda x: orders[np.logical_and(orders['date'] <= x['date'], orders['group'] == x['group'])].agg({'date' : 'max', 'group' : 'max', 'transaction_id' : 'nunique', 'visitor_id' : 'nunique', 'revenue' : 'sum'}), axis=1).sort_values(by=['date','group'])\n",
    "#Ниже привожу альтернативный вариант получения кумулятивных данных, чтобы не просто копипастить решение из тренажера. Результаты идентичны.\n",
    "\n",
    "orders_aggregated = (\n",
    "    pd.merge(dates_groups, orders, on='group', suffixes=('_group', '_order')) #merge по группе\n",
    "    .query('date_order <= date_group').groupby(['date_group', 'group']) #оставляем только строки с датами заказов ДО текущей даты в группе\n",
    "    .agg({'transaction_id':'nunique', 'visitor_id':'nunique', 'revenue':'sum'}) #накопленная сумма, накопленные уник. пользователи, накопл. заказы \n",
    "    .reset_index()\n",
    "    .rename(columns={'date_group': 'date'})\n",
    "    .sort_values(by=['date','group'])\n",
    "                    )\n",
    "orders_aggregated"
   ]
  },
  {
   "cell_type": "code",
   "execution_count": 19,
   "metadata": {
    "scrolled": true
   },
   "outputs": [
    {
     "data": {
      "text/html": [
       "<div>\n",
       "<style scoped>\n",
       "    .dataframe tbody tr th:only-of-type {\n",
       "        vertical-align: middle;\n",
       "    }\n",
       "\n",
       "    .dataframe tbody tr th {\n",
       "        vertical-align: top;\n",
       "    }\n",
       "\n",
       "    .dataframe thead th {\n",
       "        text-align: right;\n",
       "    }\n",
       "</style>\n",
       "<table border=\"1\" class=\"dataframe\">\n",
       "  <thead>\n",
       "    <tr style=\"text-align: right;\">\n",
       "      <th></th>\n",
       "      <th>date</th>\n",
       "      <th>group</th>\n",
       "      <th>visitors</th>\n",
       "    </tr>\n",
       "  </thead>\n",
       "  <tbody>\n",
       "    <tr>\n",
       "      <th>0</th>\n",
       "      <td>2019-08-01</td>\n",
       "      <td>A</td>\n",
       "      <td>719</td>\n",
       "    </tr>\n",
       "    <tr>\n",
       "      <th>1</th>\n",
       "      <td>2019-08-01</td>\n",
       "      <td>B</td>\n",
       "      <td>713</td>\n",
       "    </tr>\n",
       "    <tr>\n",
       "      <th>2</th>\n",
       "      <td>2019-08-02</td>\n",
       "      <td>A</td>\n",
       "      <td>1338</td>\n",
       "    </tr>\n",
       "    <tr>\n",
       "      <th>3</th>\n",
       "      <td>2019-08-02</td>\n",
       "      <td>B</td>\n",
       "      <td>1294</td>\n",
       "    </tr>\n",
       "    <tr>\n",
       "      <th>4</th>\n",
       "      <td>2019-08-03</td>\n",
       "      <td>A</td>\n",
       "      <td>1845</td>\n",
       "    </tr>\n",
       "    <tr>\n",
       "      <th>...</th>\n",
       "      <td>...</td>\n",
       "      <td>...</td>\n",
       "      <td>...</td>\n",
       "    </tr>\n",
       "    <tr>\n",
       "      <th>57</th>\n",
       "      <td>2019-08-29</td>\n",
       "      <td>B</td>\n",
       "      <td>17708</td>\n",
       "    </tr>\n",
       "    <tr>\n",
       "      <th>58</th>\n",
       "      <td>2019-08-30</td>\n",
       "      <td>A</td>\n",
       "      <td>18037</td>\n",
       "    </tr>\n",
       "    <tr>\n",
       "      <th>59</th>\n",
       "      <td>2019-08-30</td>\n",
       "      <td>B</td>\n",
       "      <td>18198</td>\n",
       "    </tr>\n",
       "    <tr>\n",
       "      <th>60</th>\n",
       "      <td>2019-08-31</td>\n",
       "      <td>A</td>\n",
       "      <td>18736</td>\n",
       "    </tr>\n",
       "    <tr>\n",
       "      <th>61</th>\n",
       "      <td>2019-08-31</td>\n",
       "      <td>B</td>\n",
       "      <td>18916</td>\n",
       "    </tr>\n",
       "  </tbody>\n",
       "</table>\n",
       "<p>62 rows × 3 columns</p>\n",
       "</div>"
      ],
      "text/plain": [
       "         date group  visitors\n",
       "0  2019-08-01     A       719\n",
       "1  2019-08-01     B       713\n",
       "2  2019-08-02     A      1338\n",
       "3  2019-08-02     B      1294\n",
       "4  2019-08-03     A      1845\n",
       "..        ...   ...       ...\n",
       "57 2019-08-29     B     17708\n",
       "58 2019-08-30     A     18037\n",
       "59 2019-08-30     B     18198\n",
       "60 2019-08-31     A     18736\n",
       "61 2019-08-31     B     18916\n",
       "\n",
       "[62 rows x 3 columns]"
      ]
     },
     "execution_count": 19,
     "metadata": {},
     "output_type": "execute_result"
    }
   ],
   "source": [
    "visitors_aggregated = (\n",
    "    pd.merge(dates_groups, visitors, on='group', suffixes=('_group', '_visitor')) #merge по группе\n",
    "    .query('date_visitor <= date_group').groupby(['date_group', 'group']) #оставляем только строки с датами посещений ДО текущей даты в группе\n",
    "    .agg({'visitors':'sum'}) #накопленное кол-во пользователей\n",
    "    .reset_index()\n",
    "    .rename(columns={'date_group': 'date'})\n",
    "    .sort_values(by=['date','group'])\n",
    "                    )\n",
    "visitors_aggregated"
   ]
  },
  {
   "cell_type": "markdown",
   "metadata": {},
   "source": [
    "<div class=\"alert alert-success\">\n",
    "<b>Комментарий ревьюера ✔️:</b> Уникальные пары сформированы, получены агрегированные данные, молодец!</div>"
   ]
  },
  {
   "cell_type": "code",
   "execution_count": 20,
   "metadata": {
    "scrolled": true
   },
   "outputs": [],
   "source": [
    "# объединяем кумулятивные данные по дням в одной таблице\n",
    "cumulative_data = pd.merge(orders_aggregated, visitors_aggregated, on=['date', 'group'])\n",
    "#переименовываем столбцы\n",
    "cumulative_data.columns = ['date', 'group', 'orders', 'buyers', 'revenue', 'visitors']\n",
    "# датафрейм с кумулятивными данными по дням в группе А\n",
    "cumulative_data_A = cumulative_data[cumulative_data['group']=='A']\n",
    "# датафрейм с кумулятивными данными по дням в группе B\n",
    "cumulative_data_B = cumulative_data[cumulative_data['group']=='B']"
   ]
  },
  {
   "cell_type": "code",
   "execution_count": 21,
   "metadata": {
    "scrolled": true
   },
   "outputs": [
    {
     "data": {
      "image/png": "[encoded data removed]",
      "text/plain": [
       "<Figure size 864x432 with 1 Axes>"
      ]
     },
     "metadata": {
      "needs_background": "light"
     },
     "output_type": "display_data"
    }
   ],
   "source": [
    "#Построим графики выручки по группам\n",
    "plt.figure(figsize=(12, 6))\n",
    "plt.plot(cumulative_data_A['date'], cumulative_data_A['revenue'], label='A')\n",
    "plt.plot(cumulative_data_B['date'], cumulative_data_B['revenue'], label='B')\n",
    "plt.ylabel('Выручка')\n",
    "plt.title('Кумулятивная выручка по дням в группах A и B')\n",
    "plt.grid(True)\n",
    "plt.legend();"
   ]
  },
  {
   "cell_type": "markdown",
   "metadata": {},
   "source": [
    "Из графика видно, что в середине теста группа B вырвалась вперед по показателям и сохранила разрыв вплоть до завершения тестирования. Велика вероятность, что в данных по заказам есть аномальные заказы (по сумме или количеству), которые влияют на полученный результат."
   ]
  },
  {
   "cell_type": "markdown",
   "metadata": {},
   "source": [
    "<div class=\"alert alert-success\">\n",
    "<b>Комментарий ревьюера ✔️:</b> Аномалии хорошо зафиксированы и молодец, что предлагаешь возможные причины их возникновения.</div>"
   ]
  },
  {
   "cell_type": "markdown",
   "metadata": {},
   "source": [
    "Построим **график кумулятивного среднего чека по группам**."
   ]
  },
  {
   "cell_type": "code",
   "execution_count": 22,
   "metadata": {},
   "outputs": [
    {
     "data": {
      "image/png": "[encoded data removed]",
      "text/plain": [
       "<Figure size 864x432 with 1 Axes>"
      ]
     },
     "metadata": {
      "needs_background": "light"
     },
     "output_type": "display_data"
    }
   ],
   "source": [
    "#Построим графики среднего чека по группам — разделим кумулятивную выручку на кумулятивное число заказов\n",
    "plt.figure(figsize=(12, 6))\n",
    "plt.plot(cumulative_data_A['date'], cumulative_data_A['revenue']/cumulative_data_A['orders'], label='A')\n",
    "plt.plot(cumulative_data_B['date'], cumulative_data_B['revenue']/cumulative_data_B['orders'], label='B')\n",
    "plt.ylabel('Средний чек')\n",
    "plt.title('Кумулятивный средний чек по дням в группах A и B')\n",
    "plt.grid(True)\n",
    "plt.legend();"
   ]
  },
  {
   "cell_type": "markdown",
   "metadata": {},
   "source": [
    "Кумулятивное значение среднего чека по сегментам сильно колеблется. Отчетливо заметен скачок показателей для группы B во второй половине теста. Это еще один довод в пользу дополнительного анализа выбросов, которые могут искажать средний чек."
   ]
  },
  {
   "cell_type": "markdown",
   "metadata": {},
   "source": [
    "<div class=\"alert alert-success\">\n",
    "<b>Комментарий ревьюера ✔️:</b> Вполне логично. Очевидно, здесь есть влияние выбросов</div>"
   ]
  },
  {
   "cell_type": "markdown",
   "metadata": {},
   "source": [
    "Построим **график относительного изменения кумулятивного среднего чека группы B к группе A**."
   ]
  },
  {
   "cell_type": "code",
   "execution_count": 23,
   "metadata": {},
   "outputs": [],
   "source": [
    "#формируем общий датафрейм для обеих групп\n",
    "merged_cumulative_data = pd.merge(cumulative_data_A, cumulative_data_B, on='date', how='left', suffixes=['A', 'B'])"
   ]
  },
  {
   "cell_type": "code",
   "execution_count": 24,
   "metadata": {},
   "outputs": [
    {
     "data": {
      "image/png": "[encoded data removed]",
      "text/plain": [
       "<Figure size 864x432 with 1 Axes>"
      ]
     },
     "metadata": {
      "needs_background": "light"
     },
     "output_type": "display_data"
    }
   ],
   "source": [
    "plt.figure(figsize=(12, 6))\n",
    "#кумулятивная метрика группы B / кумулятивная метрика группы A - 1\n",
    "plt.plot(merged_cumulative_data['date'], (merged_cumulative_data['revenueB']/merged_cumulative_data['ordersB'])/(merged_cumulative_data['revenueA']/merged_cumulative_data['ordersA'])-1)\n",
    "plt.title('Относительное изменение среднего чека группы B к A')\n",
    "plt.grid(True)\n",
    "# добавляем ось X\n",
    "plt.axhline(y=0, color='black', linestyle='--');"
   ]
  },
  {
   "cell_type": "markdown",
   "metadata": {},
   "source": [
    "По графику относительного изменения заметны резкие скачки в значениях средних чеков по группам. Можно предположить, что в эти даты происходили аномальные заказы."
   ]
  },
  {
   "cell_type": "markdown",
   "metadata": {},
   "source": [
    "<div class=\"alert alert-success\">\n",
    "<b>Комментарий ревьюера ✔️:</b> Отлично, отдельно отмечу отображение оси X, она повышает наглядность</div>"
   ]
  },
  {
   "cell_type": "markdown",
   "metadata": {},
   "source": [
    "Построим **график кумулятивного среднего количества заказов по группам**."
   ]
  },
  {
   "cell_type": "code",
   "execution_count": 25,
   "metadata": {
    "scrolled": true
   },
   "outputs": [
    {
     "data": {
      "image/png": "[encoded data removed]",
      "text/plain": [
       "<Figure size 864x432 with 1 Axes>"
      ]
     },
     "metadata": {
      "needs_background": "light"
     },
     "output_type": "display_data"
    }
   ],
   "source": [
    "#Построим графики среднего количества заказов по группам — разделим число заказов на количество поситетелей\n",
    "plt.figure(figsize=(12, 6))\n",
    "plt.plot(cumulative_data_A['date'], cumulative_data_A['orders']/cumulative_data_A['visitors'], label='A')\n",
    "plt.plot(cumulative_data_B['date'], cumulative_data_B['orders']/cumulative_data_B['visitors'], label='B')\n",
    "plt.ylabel('Средний количество заказов')\n",
    "plt.title('Кумулятивное среднее количество заказов по дням в группах A и B')\n",
    "plt.grid(True)\n",
    "# задаем масштаб осей\n",
    "plt.axis([dt.datetime(2019, 8, 1), dt.datetime(2019, 8, 31), 0, 0.06])\n",
    "plt.legend();"
   ]
  },
  {
   "cell_type": "markdown",
   "metadata": {},
   "source": [
    "В начале теста заметны колебания конверсии групп A и B, но к концу теста значения выровнялись около своего среднего."
   ]
  },
  {
   "cell_type": "markdown",
   "metadata": {},
   "source": [
    "<div class=\"alert alert-success\">\n",
    "<b>Комментарий ревьюера ✔️:</b> Согласен, после всплеска группы шли достаточно ровно</div>"
   ]
  },
  {
   "cell_type": "markdown",
   "metadata": {},
   "source": [
    "Построим **график относительного изменения кумулятивного среднего количества заказов группы B к группе A**."
   ]
  },
  {
   "cell_type": "code",
   "execution_count": 26,
   "metadata": {},
   "outputs": [
    {
     "data": {
      "image/png": "[encoded data removed]",
      "text/plain": [
       "<Figure size 864x432 with 1 Axes>"
      ]
     },
     "metadata": {
      "needs_background": "light"
     },
     "output_type": "display_data"
    }
   ],
   "source": [
    "plt.figure(figsize=(12, 6))\n",
    "#кумулятивная метрика группы B / кумулятивная метрика группы A - 1\n",
    "plt.plot(merged_cumulative_data['date'], (merged_cumulative_data['ordersB']/merged_cumulative_data['visitorsB'])/(merged_cumulative_data['ordersA']/merged_cumulative_data['visitorsA'])-1)\n",
    "plt.title('Относительное изменение среднего количества заказов группы B к A')\n",
    "plt.grid(True)\n",
    "# добавляем ось X\n",
    "plt.axhline(y=0, color='black', linestyle='--')\n",
    "plt.axhline(y=0.15, color='grey', linestyle='--')\n",
    "plt.axis([dt.datetime(2019, 8, 1), dt.datetime(2019, 8, 31), -0.15, 0.25] );"
   ]
  },
  {
   "cell_type": "markdown",
   "metadata": {},
   "source": [
    "С самого начала показатели конверсии группы B лидируют над показателями группы A. Значение прироста конверсии группы B относительно группы A колеблется около 15%."
   ]
  },
  {
   "cell_type": "markdown",
   "metadata": {},
   "source": [
    "<div class=\"alert alert-success\">\n",
    "<b>Комментарий ревьюера ✔️:</b> Здорово, также удобные для восприятия горизонтальные линии</div>"
   ]
  },
  {
   "cell_type": "markdown",
   "metadata": {},
   "source": [
    "<div class=\"alert alert-success\">\n",
    "<b>Комментарий ревьюера ✔️:</b> В этой части ты здорово разобралась с кумулятивными метриками - их расчетом и интерпретацией; действительно, нам нужно проверить данные на аномальные значения (кстати, в реальных проектах рекомендую проверять аномалии на стадии знакомства с данными - это позволит избежать невынужденных ошибок при их изучении).</div>"
   ]
  },
  {
   "cell_type": "markdown",
   "metadata": {},
   "source": [
    "<div class=\"alert alert-info\"> <b>Комментарий студента v1:</b> Поняла, спасибо за совет! </div>"
   ]
  },
  {
   "cell_type": "markdown",
   "metadata": {},
   "source": [
    "### Проверка данных на аномалии"
   ]
  },
  {
   "cell_type": "markdown",
   "metadata": {},
   "source": [
    "Построим **точечный график количества заказов по пользователям**."
   ]
  },
  {
   "cell_type": "markdown",
   "metadata": {},
   "source": [
    "Для наглядности построим гистограмму и диаграмму рассеяния, по которым поймем, есть ли в данных аномалии. Для этого рассчитаем какое количество заказов совершил каждый пользователь."
   ]
  },
  {
   "cell_type": "code",
   "execution_count": 27,
   "metadata": {
    "scrolled": true
   },
   "outputs": [],
   "source": [
    "orders_by_visitors = orders.groupby('visitor_id').agg({'transaction_id': 'nunique'}).reset_index()\n",
    "orders_by_visitors.columns = ['visitor_id', 'orders']"
   ]
  },
  {
   "cell_type": "code",
   "execution_count": 28,
   "metadata": {},
   "outputs": [
    {
     "data": {
      "image/png": "[encoded data removed]",
      "text/plain": [
       "<Figure size 720x360 with 1 Axes>"
      ]
     },
     "metadata": {
      "needs_background": "light"
     },
     "output_type": "display_data"
    }
   ],
   "source": [
    "plt.figure(figsize=(10, 5))\n",
    "orders_by_visitors['orders'].hist()\n",
    "plt.title('Гистограмма количества заказов по пользователям')\n",
    "plt.ylabel('Количество пользователей')\n",
    "plt.xlabel('Количество заказов')\n",
    "plt.grid(True);"
   ]
  },
  {
   "cell_type": "markdown",
   "metadata": {},
   "source": [
    "Большинство пользователей оформляют 1 заказ."
   ]
  },
  {
   "cell_type": "markdown",
   "metadata": {},
   "source": [
    "<div class=\"alert alert-success\">\n",
    "<b>Комментарий ревьюера ✔️:</b> Хорошо</div>"
   ]
  },
  {
   "cell_type": "code",
   "execution_count": 29,
   "metadata": {},
   "outputs": [
    {
     "data": {
      "image/png": "[encoded data removed]",
      "text/plain": [
       "<Figure size 720x360 with 1 Axes>"
      ]
     },
     "metadata": {
      "needs_background": "light"
     },
     "output_type": "display_data"
    }
   ],
   "source": [
    "# серия из чисел от 0 до количества наблюдений в orders_by_visitor\n",
    "x_values = pd.Series(range(0, len(orders_by_visitors)))\n",
    "plt.figure(figsize=(10, 5))\n",
    "plt.scatter(x_values, orders_by_visitors['orders'])\n",
    "plt.title('Диаграмма рассеяния количества заказов по пользователям')\n",
    "plt.ylabel('Количество заказов')\n",
    "plt.grid(True);"
   ]
  },
  {
   "cell_type": "markdown",
   "metadata": {},
   "source": [
    "Как видим, мало пользователей оформляют более 2-х заказов. Данные по пользователям, совершившим более 2-х заказов, могут попадать под определение аномалии. Для проверки этой гипотезы рассчитаем 95-й и 99-й перцентили количества заказов по пользователям."
   ]
  },
  {
   "cell_type": "markdown",
   "metadata": {},
   "source": [
    "<div class=\"alert alert-success\">\n",
    "<b>Комментарий ревьюера ✔️:</b> Совершенно верно, перцентили тут помогут</div>"
   ]
  },
  {
   "cell_type": "code",
   "execution_count": 30,
   "metadata": {},
   "outputs": [
    {
     "data": {
      "text/plain": [
       "array([2., 4.])"
      ]
     },
     "execution_count": 30,
     "metadata": {},
     "output_type": "execute_result"
    }
   ],
   "source": [
    "# Метод np.percentile('column', [percentile1, percentile2, percentile3]) находит перцентили.\n",
    "orders_percentile = np.percentile(orders_by_visitors['orders'], [95, 99])\n",
    "orders_percentile"
   ]
  },
  {
   "cell_type": "markdown",
   "metadata": {},
   "source": [
    "Как видим, не более 1% пользователей совершали более 4-х заказов и не более 5% пользователей совершали более 2-х заказов. "
   ]
  },
  {
   "cell_type": "markdown",
   "metadata": {},
   "source": [
    "<div class=\"alert alert-success\">\n",
    "<b>Комментарий ревьюера ✔️:</b> Корректная интерпретация</div>"
   ]
  },
  {
   "cell_type": "markdown",
   "metadata": {},
   "source": [
    "Построим **точечный график стоимостей заказов**. "
   ]
  },
  {
   "cell_type": "markdown",
   "metadata": {},
   "source": [
    "Аналогично построим гистограмму и диаграмму рассеяния, по которым поймем, есть ли в данных аномалии."
   ]
  },
  {
   "cell_type": "code",
   "execution_count": 31,
   "metadata": {
    "scrolled": true
   },
   "outputs": [
    {
     "data": {
      "image/png": "[encoded data removed]",
      "text/plain": [
       "<Figure size 720x360 with 1 Axes>"
      ]
     },
     "metadata": {
      "needs_background": "light"
     },
     "output_type": "display_data"
    }
   ],
   "source": [
    "plt.figure(figsize=(10, 5))\n",
    "orders['revenue'].hist()\n",
    "plt.title('Гистограмма распределения стоимостей заказов')\n",
    "plt.ylabel('Заказы')\n",
    "plt.xlabel('Стоимость заказа')\n",
    "plt.grid(True);"
   ]
  },
  {
   "cell_type": "code",
   "execution_count": 32,
   "metadata": {},
   "outputs": [
    {
     "data": {
      "image/png": "[encoded data removed]",
      "text/plain": [
       "<Figure size 720x360 with 1 Axes>"
      ]
     },
     "metadata": {
      "needs_background": "light"
     },
     "output_type": "display_data"
    }
   ],
   "source": [
    "x_values = pd.Series(range(0, len(orders['revenue'])))\n",
    "plt.figure(figsize=(10, 5))\n",
    "plt.scatter(x_values, orders['revenue'])\n",
    "plt.title('Диаграмма рассеяния стоимостей заказов')\n",
    "plt.ylabel('Стоимость заказа')\n",
    "plt.grid(True);"
   ]
  },
  {
   "cell_type": "markdown",
   "metadata": {},
   "source": [
    "Большинство заказов по стоимости не превышают 50 тыс. руб. Так же видим явную аномалию в виде заказа на сумму >1 млн. руб. \n",
    "Рассчитаем 95-й и 99-й перцентили стоимости заказов."
   ]
  },
  {
   "cell_type": "markdown",
   "metadata": {},
   "source": [
    "<div class=\"alert alert-success\">\n",
    "<b>Комментарий ревьюера ✔️:</b> Да, тут есть аномалии</div>"
   ]
  },
  {
   "cell_type": "code",
   "execution_count": 33,
   "metadata": {},
   "outputs": [
    {
     "data": {
      "text/plain": [
       "array([28000. , 58233.2])"
      ]
     },
     "execution_count": 33,
     "metadata": {},
     "output_type": "execute_result"
    }
   ],
   "source": [
    "revenue_percentile = np.percentile(orders['revenue'], [95, 99])\n",
    "revenue_percentile"
   ]
  },
  {
   "cell_type": "markdown",
   "metadata": {},
   "source": [
    "Не более 1% заказов приходятся на сумму более 58 тыс. руб. и не более 5% заказов превышают 28 тыс. руб."
   ]
  },
  {
   "cell_type": "markdown",
   "metadata": {},
   "source": [
    "Примем за **аномальных пользователей** тех, кто совершил более 2-х заказов или совершил заказ на сумму свыше 28 000 рублей."
   ]
  },
  {
   "cell_type": "markdown",
   "metadata": {},
   "source": [
    "<div class=\"alert alert-success\">\n",
    "<b>Комментарий ревьюера ✔️:</b> Вполне оправданно</div>"
   ]
  },
  {
   "cell_type": "markdown",
   "metadata": {},
   "source": [
    "### Расчет статистической значимости"
   ]
  },
  {
   "cell_type": "markdown",
   "metadata": {},
   "source": [
    "Посчитаем **статистическую значимость различий в среднем количестве заказов между группами**, пока не удаляя аномальных пользователей.\n",
    "\n",
    "Сформулируем гипотезы. <br>\n",
    "Нулевая гипотеза H0: различий в среднем количестве заказов между группами нет. Альтернативная H1: различия в среднем между группами есть.\n",
    "Уровень значимости = 0.05."
   ]
  },
  {
   "cell_type": "markdown",
   "metadata": {},
   "source": [
    "<div class=\"alert alert-success\">\n",
    "<b>Комментарий ревьюера ✔️:</b> Гипотезы сформулированы</div>"
   ]
  },
  {
   "cell_type": "code",
   "execution_count": 34,
   "metadata": {},
   "outputs": [],
   "source": [
    "#Вычисляем какое количество заказов совершил каждый пользователь\n",
    "orders_by_visitors_A = (\n",
    "    orders[orders['group'] == 'A']\n",
    "    .groupby('visitor_id', as_index=False)\n",
    "    .agg({'transaction_id': 'nunique'})\n",
    ")\n",
    "orders_by_visitors_A.columns = ['visitor_id', 'orders']\n",
    "\n",
    "orders_by_visitors_B = (\n",
    "    orders[orders['group'] == 'B']\n",
    "    .groupby('visitor_id', as_index=False)\n",
    "    .agg({'transaction_id': 'nunique'})\n",
    ")\n",
    "orders_by_visitors_B.columns = ['visitor_id', 'orders']"
   ]
  },
  {
   "cell_type": "code",
   "execution_count": 35,
   "metadata": {},
   "outputs": [],
   "source": [
    "#Получим последовательность, которая будет содержать количество заказов, совершенных каждым пользователем. \n",
    "#Для остальных пользователей (посетителей) на месте суммы будет 0\n",
    "sample_A = (\n",
    "    pd.concat([orders_by_visitors_A['orders'], \n",
    "               pd.Series(0, index=np.arange(visitors[visitors['group']=='A']['visitors'].sum() - len(orders_by_visitors_A['orders'])),\n",
    "                         name='orders')],axis=0)\n",
    "           )\n",
    "\n",
    "sample_B = (\n",
    "    pd.concat([orders_by_visitors_B['orders'], \n",
    "               pd.Series(0, index=np.arange(visitors[visitors['group']=='B']['visitors'].sum() - len(orders_by_visitors_B['orders'])),\n",
    "                         name='orders')],axis=0)\n",
    "           )"
   ]
  },
  {
   "cell_type": "markdown",
   "metadata": {},
   "source": [
    "Для проверки гипотезы проведем тест Манна-Уитни, т.к. исходные данные распределены не нормально и в них много выбросов (аномальное количество заказов, аномальные суммы заказов и т.д.)."
   ]
  },
  {
   "cell_type": "code",
   "execution_count": 36,
   "metadata": {},
   "outputs": [
    {
     "name": "stdout",
     "output_type": "stream",
     "text": [
      "p_value: 0.02\n"
     ]
    }
   ],
   "source": [
    "print(\"p_value:\", round(stats.mannwhitneyu(sample_A, sample_B)[1], 2))"
   ]
  },
  {
   "cell_type": "code",
   "execution_count": 37,
   "metadata": {
    "scrolled": true
   },
   "outputs": [
    {
     "data": {
      "text/plain": [
       "13.81"
      ]
     },
     "execution_count": 37,
     "metadata": {},
     "output_type": "execute_result"
    }
   ],
   "source": [
    "#относительный прирост среднего числа заказов группы B\n",
    "round((sample_B.mean() / sample_A.mean() - 1)*100, 2)"
   ]
  },
  {
   "cell_type": "markdown",
   "metadata": {},
   "source": [
    "P_value меньше уровня значимости, поэтому нулевую гипотезу отвергаем. Это говорит о том, что в среднем количестве заказов между группами есть статистически значимые различия. Относительный прирост среднего количества заказов группы B к конверсии группы A равен 13.8%."
   ]
  },
  {
   "cell_type": "markdown",
   "metadata": {},
   "source": [
    "<div class=\"alert alert-success\">\n",
    "<b>Комментарий ревьюера ✔️:</b> Тест проводишь как надо, хорошо</div>"
   ]
  },
  {
   "cell_type": "markdown",
   "metadata": {},
   "source": [
    "Посчитаем **статистическую значимость различий в среднем чеке заказа между группами**, не удаляя аномальных пользователей.\n",
    "\n",
    "Сформулируем гипотезы. <br>\n",
    "Нулевая гипотеза H0: различий в среднем чеке между группами нет. Альтернативная H1: различия в среднем между группами есть.\n",
    "Уровень значимости = 0.05. Применим так же тест Манна-Уитни."
   ]
  },
  {
   "cell_type": "markdown",
   "metadata": {},
   "source": [
    "<div class=\"alert alert-success\">\n",
    "<b>Комментарий ревьюера ✔️:</b> Гипотезы также определены</div>"
   ]
  },
  {
   "cell_type": "code",
   "execution_count": 38,
   "metadata": {},
   "outputs": [
    {
     "name": "stdout",
     "output_type": "stream",
     "text": [
      "p_value: 0.73\n"
     ]
    }
   ],
   "source": [
    "print(\"p_value:\", round(stats.mannwhitneyu(orders[orders['group']=='A']['revenue'], orders[orders['group']=='B']['revenue'])[1], 2))"
   ]
  },
  {
   "cell_type": "code",
   "execution_count": 39,
   "metadata": {},
   "outputs": [
    {
     "data": {
      "text/plain": [
       "25.87"
      ]
     },
     "execution_count": 39,
     "metadata": {},
     "output_type": "execute_result"
    }
   ],
   "source": [
    "#относительный прирост среднего чека группы B\n",
    "round((orders[orders['group']=='B']['revenue'].mean() / orders[orders['group']=='A']['revenue'].mean() - 1)*100, 2)"
   ]
  },
  {
   "cell_type": "markdown",
   "metadata": {},
   "source": [
    "P-value больше уровня значимости, нулевую гипотезу отвернуть не удалось. Это говорит о том, что нет оснований считать, что в среднем чеке есть различия между группами. Различия между рассчитанными средними чеками групп A и B получены случайным образом."
   ]
  },
  {
   "cell_type": "markdown",
   "metadata": {},
   "source": [
    "<div class=\"alert alert-block alert-danger\">\n",
    "    \n",
    "<b>Комментарий ревьюера ❌:</b> Наталия, обрати, пожалуйста, внимание на выводы: `P-value значительно больше уровня значимости, нулевую гипотезу отвернуть не удалось. Это говорит о том, что нет оснований считать, что в среднем чеке есть различия между группами.` - тут вывод верный, но мы не знаем, значительно больше p-value или нет, оно просто больше, т.е. корректнее писать `P-value 0.73 больше 0.05, значит...`. Мы ведь фактически не можем сказать с какого момента настало это \"значительно\"\n",
    "    \n",
    "Хорошо - идем дальше, в выводе выше мы говорим, что различий нет, т.е. стат. значимых различий между выборками нет. Но, дальше: `При этом средний чек группы B на 25% превышает сердний чек группы A.`. Стоп, нет, это не так. Если `p-value > alpha` значит  Средний чек группы B <b>равен</b> среднему чеку группы A (или не отличается или различия получены случайным образом) и он не может <b>превышать</b> средний чек группы A.\n",
    "    \n",
    "</div>"
   ]
  },
  {
   "cell_type": "markdown",
   "metadata": {},
   "source": [
    "<div class=\"alert alert-info\"> <b>Комментарий студента v1:</b> Поняла, спасибо, скорректировала вывод.  </div>"
   ]
  },
  {
   "cell_type": "markdown",
   "metadata": {},
   "source": [
    "<div class=\"alert alert-success\">\n",
    "<b>Комментарий ревьюера v 2.0 ✔️:</b> Теперь по выводу все безупречно"
   ]
  },
  {
   "cell_type": "markdown",
   "metadata": {},
   "source": [
    "Повторим эти же тесты с тем же уровнем значимости, но уже на очищенных от аномалий данных. \n",
    "\n",
    "Ранее определили, что за аномальных пользователей примем тех, кто совершил более 2-х заказов или совершил заказ на сумму свыше 28 000 рублей. Проверим сколько таких пользователей."
   ]
  },
  {
   "cell_type": "code",
   "execution_count": 40,
   "metadata": {
    "scrolled": true
   },
   "outputs": [
    {
     "data": {
      "text/plain": [
       "74"
      ]
     },
     "execution_count": 40,
     "metadata": {},
     "output_type": "execute_result"
    }
   ],
   "source": [
    "pd.concat([orders_by_visitors_A[orders_by_visitors_A['orders'] > orders_percentile[0]]['visitor_id'], \n",
    "           orders_by_visitors_B[orders_by_visitors_B['orders'] > orders_percentile[0]]['visitor_id'], \n",
    "           orders[orders['revenue'] > revenue_percentile[0]]['visitor_id']], axis=0).nunique()"
   ]
  },
  {
   "cell_type": "markdown",
   "metadata": {},
   "source": [
    "Всего 74 аномальных пользователя."
   ]
  },
  {
   "cell_type": "markdown",
   "metadata": {},
   "source": [
    "<div class=\"alert alert-warning\">\n",
    "<b>Комментарий ревьюера ⚠️:</b> Лучше не указывать числа напрямую, а обращаться к ним через переменную или перцентиль. В таком случае, если данные изменятся нам не нужно будет корректировать код"
   ]
  },
  {
   "cell_type": "markdown",
   "metadata": {},
   "source": [
    "<div class=\"alert alert-info\"> <b>Комментарий студента v1:</b> Исправила. </div>"
   ]
  },
  {
   "cell_type": "markdown",
   "metadata": {},
   "source": [
    "<div class=\"alert alert-success\">\n",
    "<b>Комментарий ревьюера v 2.0 ✔️:</b> Хорошо)"
   ]
  },
  {
   "cell_type": "code",
   "execution_count": 41,
   "metadata": {},
   "outputs": [],
   "source": [
    "abnormal_visitors = pd.concat([orders_by_visitors_A[orders_by_visitors_A['orders'] > orders_percentile[0]]['visitor_id'], \n",
    "                               orders_by_visitors_B[orders_by_visitors_B['orders'] > orders_percentile[0]]['visitor_id'], \n",
    "                               orders[orders['revenue'] > revenue_percentile[0]]['visitor_id']]\n",
    "                              , axis=0).drop_duplicates()"
   ]
  },
  {
   "cell_type": "markdown",
   "metadata": {},
   "source": [
    "Посчитаем **статистическую значимость различия среднего количества заказов после удаления аномальных пользователей**.\n",
    "\n",
    "Нулевая гипотеза H0: различий в среднем количестве заказов между группами нет. Альтернативная H1: различия в среднем между группами есть. Уровень значимости = 0.05."
   ]
  },
  {
   "cell_type": "markdown",
   "metadata": {},
   "source": [
    "<div class=\"alert alert-warning\">\n",
    "<b>Комментарий ревьюера ⚠️:</b> Все же стоило бы указать гипотезы еще раз"
   ]
  },
  {
   "cell_type": "markdown",
   "metadata": {},
   "source": [
    "<div class=\"alert alert-info\"> <b>Комментарий студента v1:</b> Указала. </div>"
   ]
  },
  {
   "cell_type": "markdown",
   "metadata": {},
   "source": [
    "<div class=\"alert alert-success\">\n",
    "<b>Комментарий ревьюера v 2.0 ✔️:</b> Отлично!"
   ]
  },
  {
   "cell_type": "code",
   "execution_count": 42,
   "metadata": {},
   "outputs": [],
   "source": [
    "#Получим последовательность, которая будет содержать количество заказов, совершенных каждым пользователем. \n",
    "#Для остальных пользователей (посетителей) на месте суммы будет 0\n",
    "sample_A_filtered = (\n",
    "    pd.concat([orders_by_visitors_A.query('visitor_id not in @abnormal_visitors')['orders'], \n",
    "               pd.Series(0, index=np.arange(visitors[visitors['group']=='A']['visitors'].sum() - len(orders_by_visitors_A['orders'])),\n",
    "                         name='orders')],axis=0)\n",
    "           )\n",
    "\n",
    "sample_B_filtered = (\n",
    "    pd.concat([orders_by_visitors_B.query('visitor_id not in @abnormal_visitors')['orders'], \n",
    "               pd.Series(0, index=np.arange(visitors[visitors['group']=='B']['visitors'].sum() - len(orders_by_visitors_B['orders'])),\n",
    "                         name='orders')],axis=0)\n",
    "           )"
   ]
  },
  {
   "cell_type": "code",
   "execution_count": 43,
   "metadata": {},
   "outputs": [
    {
     "name": "stdout",
     "output_type": "stream",
     "text": [
      "p_value: 0.01\n"
     ]
    }
   ],
   "source": [
    "print(\"p_value:\", round(stats.mannwhitneyu(sample_A_filtered, sample_B_filtered)[1], 2))"
   ]
  },
  {
   "cell_type": "code",
   "execution_count": 44,
   "metadata": {},
   "outputs": [
    {
     "data": {
      "text/plain": [
       "17.27"
      ]
     },
     "execution_count": 44,
     "metadata": {},
     "output_type": "execute_result"
    }
   ],
   "source": [
    "#относительный прирост среднего числа заказов группы B\n",
    "round((sample_B_filtered.mean() / sample_A_filtered.mean() - 1)*100, 2)"
   ]
  },
  {
   "cell_type": "markdown",
   "metadata": {},
   "source": [
    "P_value все так же меньше уровня значимости, поэтому нулевую гипотезу отвергаем. Значит, в среднем количестве заказов между группами A и B все же есть различия, причем показатели группы B значительно лучше группы A: относительный прирост среднего количества заказов группы B к конверсии группы A равен 17.3%."
   ]
  },
  {
   "cell_type": "markdown",
   "metadata": {},
   "source": [
    "<div class=\"alert alert-success\">\n",
    "<b>Комментарий ревьюера ✔️:</b> Отлично, все верно</div>"
   ]
  },
  {
   "cell_type": "markdown",
   "metadata": {},
   "source": [
    "Посчитаем **статистическую значимость различия среднего чека после удаления аномальных пользователей**.\n",
    "\n",
    "Нулевая гипотеза H0: различий в среднем чеке между группами нет. Альтернативная H1: различия в среднем между группами есть.\n",
    "Уровень значимости = 0.05."
   ]
  },
  {
   "cell_type": "code",
   "execution_count": 45,
   "metadata": {},
   "outputs": [
    {
     "name": "stdout",
     "output_type": "stream",
     "text": [
      "p_value: 0.74\n"
     ]
    }
   ],
   "source": [
    "print(\"p_value:\", round(stats.mannwhitneyu(orders.query('visitor_id not in @abnormal_visitors & group == \"A\"')['revenue'], orders.query('visitor_id not in @abnormal_visitors & group == \"B\"')['revenue'])[1], 2))"
   ]
  },
  {
   "cell_type": "code",
   "execution_count": 46,
   "metadata": {},
   "outputs": [
    {
     "data": {
      "text/plain": [
       "-1.96"
      ]
     },
     "execution_count": 46,
     "metadata": {},
     "output_type": "execute_result"
    }
   ],
   "source": [
    "#относительный прирост среднего чека группы B\n",
    "round((orders.query('visitor_id not in @abnormal_visitors & group == \"B\"')['revenue'].mean() / orders.query('visitor_id not in @abnormal_visitors & group == \"A\"')['revenue'].mean() - 1)*100, 2)"
   ]
  },
  {
   "cell_type": "markdown",
   "metadata": {},
   "source": [
    "P-value остался почти без изменений, все так же подтверждая гипотезу, что нет различий в средних чеках между группами."
   ]
  },
  {
   "cell_type": "markdown",
   "metadata": {},
   "source": [
    "<div class=\"alert alert-warning\">\n",
    "<b>Комментарий ревьюера ⚠️:</b> В целом, так гораздо корректнее, но лучше все же сделать упор на том, что статистикой потдвержено, что различия в группах получены случайным образом"
   ]
  },
  {
   "cell_type": "markdown",
   "metadata": {},
   "source": [
    "<div class=\"alert alert-info\"> <b>Комментарий студента v1:</b> Понятно, удалила лишнее в выводе. </div>"
   ]
  },
  {
   "cell_type": "markdown",
   "metadata": {},
   "source": [
    "<div class=\"alert alert-success\">\n",
    "<b>Комментарий ревьюера v 2.0 ✔️:</b> Все верно)"
   ]
  },
  {
   "cell_type": "markdown",
   "metadata": {},
   "source": [
    "Построим графики относительного изменения конверсии и среднего чека группы B к группе A на очищенных данных."
   ]
  },
  {
   "cell_type": "code",
   "execution_count": 47,
   "metadata": {},
   "outputs": [],
   "source": [
    "orders_aggregated_filtered = (\n",
    "    pd.merge(dates_groups, orders.query('visitor_id not in @abnormal_visitors'), on='group', suffixes=('_group', '_order')) #merge по группе\n",
    "    .query('date_order <= date_group').groupby(['date_group', 'group']) #оставляем только строки с датами заказов ДО текущей даты в группе\n",
    "    .agg({'transaction_id':'nunique', 'visitor_id':'nunique', 'revenue':'sum'}) #накопленная сумма, накопленные уник. пользователи, накопл. заказы \n",
    "    .reset_index()\n",
    "    .rename(columns={'date_group': 'date'})\n",
    "    .sort_values(by=['date','group'])\n",
    "                    )\n",
    "visitors_aggregated_filtered = (\n",
    "    pd.merge(dates_groups, visitors, on='group', suffixes=('_group', '_visitor')) #merge по группе\n",
    "    .query('date_visitor <= date_group').groupby(['date_group', 'group']) #оставляем только строки с датами посещений ДО текущей даты в группе\n",
    "    .agg({'visitors':'sum'}) #накопленное кол-во пользователей\n",
    "    .reset_index()\n",
    "    .rename(columns={'date_group': 'date'})\n",
    "    .sort_values(by=['date','group'])\n",
    "                    )\n",
    "# объединяем кумулятивные данные по дням в одной таблице\n",
    "cumulative_data_filtered = pd.merge(orders_aggregated_filtered, visitors_aggregated_filtered, on=['date', 'group'])\n",
    "#переименовываем столбцы\n",
    "cumulative_data_filtered.columns = ['date', 'group', 'orders', 'buyers', 'revenue', 'visitors']\n",
    "# датафрейм с кумулятивными данными по дням в группе А\n",
    "cumulative_data_A_filtered = cumulative_data_filtered[cumulative_data_filtered['group']=='A']\n",
    "# датафрейм с кумулятивными данными по дням в группе B\n",
    "cumulative_data_B_filtered = cumulative_data_filtered[cumulative_data_filtered['group']=='B']\n",
    "#формируем общий датафрейм для обеих групп\n",
    "merged_cumulative_data_filtered = pd.merge(cumulative_data_A_filtered, cumulative_data_B_filtered, on='date', how='left', suffixes=['A', 'B'])"
   ]
  },
  {
   "cell_type": "code",
   "execution_count": 48,
   "metadata": {},
   "outputs": [
    {
     "data": {
      "image/png": "[encoded data removed]",
      "text/plain": [
       "<Figure size 864x432 with 1 Axes>"
      ]
     },
     "metadata": {
      "needs_background": "light"
     },
     "output_type": "display_data"
    }
   ],
   "source": [
    "plt.figure(figsize=(12, 6))\n",
    "#кумулятивная метрика группы B / кумулятивная метрика группы A - 1\n",
    "plt.plot(merged_cumulative_data_filtered['date'], (merged_cumulative_data_filtered['ordersB']/merged_cumulative_data_filtered['visitorsB'])/(merged_cumulative_data_filtered['ordersA']/merged_cumulative_data_filtered['visitorsA'])-1)\n",
    "plt.title('Относительное изменение среднего количества заказов группы B к A по очищенным данным')\n",
    "plt.grid(True)\n",
    "# добавляем ось X\n",
    "plt.axhline(y=0, color='black', linestyle='--')\n",
    "plt.axhline(y=0.15, color='grey', linestyle='--')\n",
    "plt.axis([dt.datetime(2019, 8, 1), dt.datetime(2019, 8, 31), -0.15, 0.25] );"
   ]
  },
  {
   "cell_type": "code",
   "execution_count": 49,
   "metadata": {},
   "outputs": [
    {
     "data": {
      "image/png": "[encoded data removed]",
      "text/plain": [
       "<Figure size 864x432 with 1 Axes>"
      ]
     },
     "metadata": {
      "needs_background": "light"
     },
     "output_type": "display_data"
    }
   ],
   "source": [
    "plt.figure(figsize=(12, 6))\n",
    "#кумулятивная метрика группы B / кумулятивная метрика группы A - 1\n",
    "plt.plot(merged_cumulative_data_filtered['date'], (merged_cumulative_data_filtered['revenueB']/merged_cumulative_data_filtered['ordersB'])/(merged_cumulative_data_filtered['revenueA']/merged_cumulative_data_filtered['ordersA'])-1)\n",
    "plt.title('Относительное изменение среднего чека группы B к A по очищенным данным')\n",
    "plt.grid(True)\n",
    "# добавляем ось X\n",
    "plt.axhline(y=0, color='black', linestyle='--');"
   ]
  },
  {
   "cell_type": "markdown",
   "metadata": {},
   "source": [
    "<div class=\"alert alert-success\">\n",
    "<b>Комментарий ревьюера ✔️:</b> Молодец, что построила дополнительные графики</div>"
   ]
  },
  {
   "cell_type": "markdown",
   "metadata": {},
   "source": [
    "Конверсия группы B стабильно выше конверсии группы A на 15%, средний чек группы B к концу эксперимента приближается к значению среднего чека группы A."
   ]
  },
  {
   "cell_type": "markdown",
   "metadata": {},
   "source": [
    "## Выводы"
   ]
  },
  {
   "cell_type": "markdown",
   "metadata": {},
   "source": [
    "1. Есть статистически значимое различие по конверсии между группами, это видно и по неочищенным, и по очищенным данным. Конверсия группы B стабильно выше конверсии группы A на 15%\n",
    "2. Нет статистически значимого различия по среднему чеку между группами ни по неочищенным, ни по данным после фильтрации аномалий.\n",
    "3. Тест следует остановить и признать его успешным. Исходная гипотеза подтвердилась, можно приступать к ее реализации."
   ]
  },
  {
   "cell_type": "markdown",
   "metadata": {},
   "source": [
    "<div class=\"alert alert-success\">\n",
    "<b>Комментарий ревьюера ✔️:</b> Общий вывод сформулирован классно. Все по пунктам и есть решение по самому результату проведения</div>"
   ]
  },
  {
   "cell_type": "markdown",
   "metadata": {},
   "source": [
    "<div class=\"alert alert-success\">\n",
    "<b>Комментарий ревьюера ✔️:</b> Наталия, проект отличный! У тебя сильные аналитические навыки, владение инструментами для проведения исследования, понимание статистики и навыки продуктовой аналитики. Но всё же в проекте есть буквально одно критическое замечание и я попрошу тебя исправить его, чтобы проект стал еще лучше!</div>"
   ]
  },
  {
   "cell_type": "markdown",
   "metadata": {},
   "source": [
    "<div class=\"alert alert-info\"> <b>Комментарий студента v1:</b> Спасибо! Надеюсь, все исправила корректно :) </div>"
   ]
  },
  {
   "cell_type": "markdown",
   "metadata": {},
   "source": [
    "<div class=\"alert alert-success\">\n",
    "<b>Комментарий ревьюера v 2.0 ✔️:</b> Да, классно дополнила проект"
   ]
  }
 ],
 "metadata": {
  "ExecuteTimeLog": [
   {
    "duration": 762,
    "start_time": "2022-10-11T18:11:55.624Z"
   },
   {
    "duration": 65,
    "start_time": "2022-10-11T18:15:25.534Z"
   },
   {
    "duration": 65,
    "start_time": "2022-10-11T18:15:28.824Z"
   },
   {
    "duration": 12,
    "start_time": "2022-10-11T18:15:31.333Z"
   },
   {
    "duration": 7,
    "start_time": "2022-10-11T18:16:26.597Z"
   },
   {
    "duration": 3,
    "start_time": "2022-10-11T18:17:29.648Z"
   },
   {
    "duration": 11,
    "start_time": "2022-10-11T18:18:11.072Z"
   },
   {
    "duration": 9,
    "start_time": "2022-10-11T18:18:16.733Z"
   },
   {
    "duration": 8,
    "start_time": "2022-10-11T18:18:46.866Z"
   },
   {
    "duration": 8,
    "start_time": "2022-10-11T18:19:24.616Z"
   },
   {
    "duration": 8,
    "start_time": "2022-10-11T18:19:38.831Z"
   },
   {
    "duration": 4,
    "start_time": "2022-10-11T18:20:41.841Z"
   },
   {
    "duration": 7,
    "start_time": "2022-10-11T18:20:55.273Z"
   },
   {
    "duration": 7,
    "start_time": "2022-10-11T18:22:16.835Z"
   },
   {
    "duration": 3,
    "start_time": "2022-10-11T18:22:27.083Z"
   },
   {
    "duration": 3,
    "start_time": "2022-10-11T18:22:28.883Z"
   },
   {
    "duration": 6,
    "start_time": "2022-10-11T18:22:33.124Z"
   },
   {
    "duration": 3,
    "start_time": "2022-10-11T18:23:53.404Z"
   },
   {
    "duration": 6,
    "start_time": "2022-10-11T18:23:55.532Z"
   },
   {
    "duration": 6,
    "start_time": "2022-10-11T18:23:58.333Z"
   },
   {
    "duration": 6,
    "start_time": "2022-10-11T18:24:59.573Z"
   },
   {
    "duration": 6,
    "start_time": "2022-10-11T18:25:02.869Z"
   },
   {
    "duration": 10,
    "start_time": "2022-10-11T18:25:34.805Z"
   },
   {
    "duration": 10,
    "start_time": "2022-10-11T18:27:22.463Z"
   },
   {
    "duration": 10,
    "start_time": "2022-10-11T18:27:27.524Z"
   },
   {
    "duration": 8,
    "start_time": "2022-10-11T18:30:49.982Z"
   },
   {
    "duration": 11,
    "start_time": "2022-10-11T18:30:57.377Z"
   },
   {
    "duration": 2,
    "start_time": "2022-10-11T18:33:21.267Z"
   },
   {
    "duration": 44,
    "start_time": "2022-10-11T18:34:03.499Z"
   },
   {
    "duration": 12,
    "start_time": "2022-10-11T18:34:19.035Z"
   },
   {
    "duration": 11,
    "start_time": "2022-10-11T18:34:28.731Z"
   },
   {
    "duration": 26,
    "start_time": "2022-10-11T18:43:19.860Z"
   },
   {
    "duration": 4,
    "start_time": "2022-10-11T18:43:21.275Z"
   },
   {
    "duration": 138,
    "start_time": "2022-10-11T18:45:34.237Z"
   },
   {
    "duration": 10,
    "start_time": "2022-10-11T18:45:36.933Z"
   },
   {
    "duration": 4,
    "start_time": "2022-10-11T18:45:42.332Z"
   },
   {
    "duration": 11,
    "start_time": "2022-10-11T18:45:43.173Z"
   },
   {
    "duration": 13,
    "start_time": "2022-10-11T18:45:45.788Z"
   },
   {
    "duration": 12,
    "start_time": "2022-10-11T18:48:44.325Z"
   },
   {
    "duration": 9,
    "start_time": "2022-10-11T18:48:46.925Z"
   },
   {
    "duration": 8,
    "start_time": "2022-10-11T18:48:50.572Z"
   },
   {
    "duration": 4,
    "start_time": "2022-10-11T18:49:24.044Z"
   },
   {
    "duration": 7,
    "start_time": "2022-10-11T18:49:26.492Z"
   },
   {
    "duration": 8,
    "start_time": "2022-10-11T18:49:28.268Z"
   },
   {
    "duration": 577,
    "start_time": "2022-10-11T18:49:42.496Z"
   },
   {
    "duration": 71,
    "start_time": "2022-10-11T18:49:43.075Z"
   },
   {
    "duration": 12,
    "start_time": "2022-10-11T18:49:43.148Z"
   },
   {
    "duration": 5,
    "start_time": "2022-10-11T18:49:43.162Z"
   },
   {
    "duration": 46,
    "start_time": "2022-10-11T18:49:43.169Z"
   },
   {
    "duration": 11,
    "start_time": "2022-10-11T18:49:43.216Z"
   },
   {
    "duration": 9,
    "start_time": "2022-10-11T18:49:43.229Z"
   },
   {
    "duration": 9,
    "start_time": "2022-10-11T18:49:43.239Z"
   },
   {
    "duration": 6,
    "start_time": "2022-10-11T18:49:43.250Z"
   },
   {
    "duration": 3,
    "start_time": "2022-10-11T18:50:57.566Z"
   },
   {
    "duration": 69,
    "start_time": "2022-10-11T18:50:59.901Z"
   },
   {
    "duration": 637,
    "start_time": "2022-10-11T18:51:05.650Z"
   },
   {
    "duration": 68,
    "start_time": "2022-10-11T18:51:06.289Z"
   },
   {
    "duration": 10,
    "start_time": "2022-10-11T18:51:06.359Z"
   },
   {
    "duration": 8,
    "start_time": "2022-10-11T18:51:06.371Z"
   },
   {
    "duration": 53,
    "start_time": "2022-10-11T18:51:06.381Z"
   },
   {
    "duration": 10,
    "start_time": "2022-10-11T18:51:06.436Z"
   },
   {
    "duration": 20,
    "start_time": "2022-10-11T18:51:06.447Z"
   },
   {
    "duration": 18,
    "start_time": "2022-10-11T18:51:06.468Z"
   },
   {
    "duration": 6,
    "start_time": "2022-10-11T18:51:06.489Z"
   },
   {
    "duration": 7,
    "start_time": "2022-10-11T18:51:17.789Z"
   },
   {
    "duration": 7,
    "start_time": "2022-10-11T18:51:19.430Z"
   },
   {
    "duration": 4,
    "start_time": "2022-10-11T18:51:27.917Z"
   },
   {
    "duration": 70,
    "start_time": "2022-10-11T18:51:32.045Z"
   },
   {
    "duration": 5,
    "start_time": "2022-10-11T18:51:36.125Z"
   },
   {
    "duration": 4,
    "start_time": "2022-10-11T18:51:50.517Z"
   },
   {
    "duration": 4,
    "start_time": "2022-10-11T18:51:54.478Z"
   },
   {
    "duration": 8,
    "start_time": "2022-10-11T18:51:59.077Z"
   },
   {
    "duration": 7,
    "start_time": "2022-10-11T18:52:05.774Z"
   },
   {
    "duration": 4,
    "start_time": "2022-10-11T18:52:34.470Z"
   },
   {
    "duration": 3,
    "start_time": "2022-10-11T18:52:37.174Z"
   },
   {
    "duration": 4,
    "start_time": "2022-10-11T18:52:43.981Z"
   },
   {
    "duration": 4,
    "start_time": "2022-10-11T18:53:02.878Z"
   },
   {
    "duration": 9,
    "start_time": "2022-10-11T18:53:06.846Z"
   },
   {
    "duration": 7,
    "start_time": "2022-10-11T18:53:08.693Z"
   },
   {
    "duration": 10,
    "start_time": "2022-10-11T18:53:20.918Z"
   },
   {
    "duration": 10,
    "start_time": "2022-10-11T18:53:40.414Z"
   },
   {
    "duration": 10,
    "start_time": "2022-10-11T18:53:58.477Z"
   },
   {
    "duration": 10,
    "start_time": "2022-10-11T18:54:07.510Z"
   },
   {
    "duration": 566,
    "start_time": "2022-10-11T18:54:14.832Z"
   },
   {
    "duration": 69,
    "start_time": "2022-10-11T18:54:15.400Z"
   },
   {
    "duration": 11,
    "start_time": "2022-10-11T18:54:15.470Z"
   },
   {
    "duration": 19,
    "start_time": "2022-10-11T18:54:15.482Z"
   },
   {
    "duration": 52,
    "start_time": "2022-10-11T18:54:15.503Z"
   },
   {
    "duration": 12,
    "start_time": "2022-10-11T18:54:15.556Z"
   },
   {
    "duration": 28,
    "start_time": "2022-10-11T18:54:15.569Z"
   },
   {
    "duration": 14,
    "start_time": "2022-10-11T18:54:15.598Z"
   },
   {
    "duration": 34,
    "start_time": "2022-10-11T18:54:15.613Z"
   },
   {
    "duration": 27,
    "start_time": "2022-10-11T18:54:15.649Z"
   },
   {
    "duration": 25,
    "start_time": "2022-10-11T18:54:15.677Z"
   },
   {
    "duration": 35,
    "start_time": "2022-10-11T18:54:15.704Z"
   },
   {
    "duration": 10,
    "start_time": "2022-10-11T18:57:57.086Z"
   },
   {
    "duration": 9,
    "start_time": "2022-10-11T19:02:07.763Z"
   },
   {
    "duration": 93,
    "start_time": "2022-10-11T19:03:30.107Z"
   },
   {
    "duration": 10,
    "start_time": "2022-10-11T19:03:39.811Z"
   },
   {
    "duration": 10,
    "start_time": "2022-10-11T19:03:49.380Z"
   },
   {
    "duration": 8,
    "start_time": "2022-10-11T19:04:04.115Z"
   },
   {
    "duration": 13,
    "start_time": "2022-10-11T19:04:49.531Z"
   },
   {
    "duration": 13,
    "start_time": "2022-10-11T19:04:57.011Z"
   },
   {
    "duration": 16,
    "start_time": "2022-10-11T19:05:02.579Z"
   },
   {
    "duration": 9,
    "start_time": "2022-10-11T19:05:18.483Z"
   },
   {
    "duration": 9,
    "start_time": "2022-10-11T19:05:22.802Z"
   },
   {
    "duration": 10,
    "start_time": "2022-10-11T19:05:33.691Z"
   },
   {
    "duration": 15,
    "start_time": "2022-10-11T19:10:12.962Z"
   },
   {
    "duration": 9,
    "start_time": "2022-10-11T19:10:32.081Z"
   },
   {
    "duration": 68,
    "start_time": "2022-10-11T19:12:04.799Z"
   },
   {
    "duration": 13,
    "start_time": "2022-10-11T19:13:21.153Z"
   },
   {
    "duration": 13,
    "start_time": "2022-10-11T19:13:54.066Z"
   },
   {
    "duration": 14,
    "start_time": "2022-10-11T19:14:31.610Z"
   },
   {
    "duration": 9,
    "start_time": "2022-10-11T19:14:43.289Z"
   },
   {
    "duration": 14,
    "start_time": "2022-10-11T19:14:48.987Z"
   },
   {
    "duration": 72,
    "start_time": "2022-10-11T19:14:52.289Z"
   },
   {
    "duration": 10,
    "start_time": "2022-10-11T19:14:54.457Z"
   },
   {
    "duration": 6,
    "start_time": "2022-10-11T19:14:57.513Z"
   },
   {
    "duration": 14,
    "start_time": "2022-10-11T19:16:08.257Z"
   },
   {
    "duration": 14,
    "start_time": "2022-10-11T19:16:10.457Z"
   },
   {
    "duration": 14,
    "start_time": "2022-10-11T19:16:19.529Z"
   },
   {
    "duration": 10,
    "start_time": "2022-10-11T19:16:23.792Z"
   },
   {
    "duration": 15,
    "start_time": "2022-10-11T19:16:27.145Z"
   },
   {
    "duration": 16,
    "start_time": "2022-10-11T19:16:29.081Z"
   },
   {
    "duration": 10,
    "start_time": "2022-10-11T19:16:46.505Z"
   },
   {
    "duration": 8,
    "start_time": "2022-10-11T19:16:52.801Z"
   },
   {
    "duration": 10,
    "start_time": "2022-10-11T19:16:54.632Z"
   },
   {
    "duration": 7,
    "start_time": "2022-10-11T19:16:59.889Z"
   },
   {
    "duration": 16,
    "start_time": "2022-10-11T19:17:29.074Z"
   },
   {
    "duration": 8,
    "start_time": "2022-10-11T19:17:36.065Z"
   },
   {
    "duration": 8,
    "start_time": "2022-10-11T19:17:38.377Z"
   },
   {
    "duration": 13,
    "start_time": "2022-10-11T19:17:40.385Z"
   },
   {
    "duration": 15,
    "start_time": "2022-10-11T19:17:45.289Z"
   },
   {
    "duration": 6,
    "start_time": "2022-10-11T19:17:51.778Z"
   },
   {
    "duration": 9,
    "start_time": "2022-10-11T19:17:56.377Z"
   },
   {
    "duration": 69,
    "start_time": "2022-10-11T19:22:35.968Z"
   },
   {
    "duration": 5,
    "start_time": "2022-10-11T19:23:31.344Z"
   },
   {
    "duration": 8,
    "start_time": "2022-10-11T19:23:48.319Z"
   },
   {
    "duration": 7,
    "start_time": "2022-10-11T19:23:53.056Z"
   },
   {
    "duration": 28,
    "start_time": "2022-10-11T19:23:57.104Z"
   },
   {
    "duration": 8,
    "start_time": "2022-10-11T19:24:55.631Z"
   },
   {
    "duration": 8,
    "start_time": "2022-10-11T19:25:11.176Z"
   },
   {
    "duration": 7,
    "start_time": "2022-10-11T19:25:30.472Z"
   },
   {
    "duration": 16,
    "start_time": "2022-10-11T19:25:33.168Z"
   },
   {
    "duration": 8,
    "start_time": "2022-10-11T19:25:48.000Z"
   },
   {
    "duration": 9,
    "start_time": "2022-10-11T19:26:03.512Z"
   },
   {
    "duration": 9,
    "start_time": "2022-10-11T19:26:11.151Z"
   },
   {
    "duration": 7,
    "start_time": "2022-10-11T19:27:22.271Z"
   },
   {
    "duration": 12,
    "start_time": "2022-10-11T19:27:28.455Z"
   },
   {
    "duration": 14,
    "start_time": "2022-10-11T19:27:50.215Z"
   },
   {
    "duration": 8,
    "start_time": "2022-10-11T19:28:31.192Z"
   },
   {
    "duration": 8,
    "start_time": "2022-10-11T19:28:45.567Z"
   },
   {
    "duration": 9,
    "start_time": "2022-10-11T19:28:48.527Z"
   },
   {
    "duration": 14,
    "start_time": "2022-10-11T19:29:13.815Z"
   },
   {
    "duration": 18,
    "start_time": "2022-10-11T19:29:20.542Z"
   },
   {
    "duration": 19,
    "start_time": "2022-10-11T19:29:38.343Z"
   },
   {
    "duration": 27,
    "start_time": "2022-10-11T19:30:36.990Z"
   },
   {
    "duration": 7,
    "start_time": "2022-10-11T19:45:03.541Z"
   },
   {
    "duration": 287,
    "start_time": "2022-10-11T19:54:29.180Z"
   },
   {
    "duration": 318,
    "start_time": "2022-10-11T19:55:07.404Z"
   },
   {
    "duration": 395,
    "start_time": "2022-10-11T19:55:21.400Z"
   },
   {
    "duration": 16,
    "start_time": "2022-10-11T19:55:28.475Z"
   },
   {
    "duration": 8,
    "start_time": "2022-10-11T19:55:31.139Z"
   },
   {
    "duration": 8,
    "start_time": "2022-10-11T19:55:32.387Z"
   },
   {
    "duration": 8,
    "start_time": "2022-10-11T19:55:34.163Z"
   },
   {
    "duration": 176,
    "start_time": "2022-10-11T19:58:56.322Z"
   },
   {
    "duration": 9,
    "start_time": "2022-10-11T20:04:23.540Z"
   },
   {
    "duration": 1307,
    "start_time": "2022-10-11T20:06:48.643Z"
   },
   {
    "duration": 1237,
    "start_time": "2022-10-11T20:06:57.586Z"
   },
   {
    "duration": 9,
    "start_time": "2022-10-11T20:07:44.980Z"
   },
   {
    "duration": 9,
    "start_time": "2022-10-11T20:08:07.643Z"
   },
   {
    "duration": 8,
    "start_time": "2022-10-11T20:08:14.715Z"
   },
   {
    "duration": 10,
    "start_time": "2022-10-11T20:08:17.965Z"
   },
   {
    "duration": 11,
    "start_time": "2022-10-11T20:08:36.994Z"
   },
   {
    "duration": 7,
    "start_time": "2022-10-11T20:10:21.883Z"
   },
   {
    "duration": 17,
    "start_time": "2022-10-11T20:10:24.283Z"
   },
   {
    "duration": 14,
    "start_time": "2022-10-11T20:10:50.699Z"
   },
   {
    "duration": 19,
    "start_time": "2022-10-11T20:11:25.610Z"
   },
   {
    "duration": 8,
    "start_time": "2022-10-11T20:11:27.946Z"
   },
   {
    "duration": 18,
    "start_time": "2022-10-11T20:11:31.683Z"
   },
   {
    "duration": 24,
    "start_time": "2022-10-11T20:11:39.419Z"
   },
   {
    "duration": 14,
    "start_time": "2022-10-11T20:11:44.955Z"
   },
   {
    "duration": 96,
    "start_time": "2022-10-11T20:14:01.771Z"
   },
   {
    "duration": 19,
    "start_time": "2022-10-11T20:14:06.961Z"
   },
   {
    "duration": 11,
    "start_time": "2022-10-11T20:15:07.435Z"
   },
   {
    "duration": 10,
    "start_time": "2022-10-11T20:15:37.450Z"
   },
   {
    "duration": 10,
    "start_time": "2022-10-11T20:15:39.466Z"
   },
   {
    "duration": 12,
    "start_time": "2022-10-11T20:18:38.386Z"
   },
   {
    "duration": 17,
    "start_time": "2022-10-11T20:19:14.139Z"
   },
   {
    "duration": 14,
    "start_time": "2022-10-11T20:19:38.819Z"
   },
   {
    "duration": 18,
    "start_time": "2022-10-11T20:19:48.722Z"
   },
   {
    "duration": 18,
    "start_time": "2022-10-11T20:20:02.170Z"
   },
   {
    "duration": 13,
    "start_time": "2022-10-11T20:20:53.595Z"
   },
   {
    "duration": 17,
    "start_time": "2022-10-11T20:20:58.755Z"
   },
   {
    "duration": 13,
    "start_time": "2022-10-11T20:21:05.699Z"
   },
   {
    "duration": 9,
    "start_time": "2022-10-11T20:21:20.561Z"
   },
   {
    "duration": 11,
    "start_time": "2022-10-11T20:22:03.106Z"
   },
   {
    "duration": 9,
    "start_time": "2022-10-11T20:22:42.137Z"
   },
   {
    "duration": 29,
    "start_time": "2022-10-11T20:22:47.098Z"
   },
   {
    "duration": 9,
    "start_time": "2022-10-11T20:22:54.825Z"
   },
   {
    "duration": 12,
    "start_time": "2022-10-11T20:23:00.890Z"
   },
   {
    "duration": 14,
    "start_time": "2022-10-11T20:23:34.946Z"
   },
   {
    "duration": 13,
    "start_time": "2022-10-11T20:24:14.131Z"
   },
   {
    "duration": 19,
    "start_time": "2022-10-11T20:24:41.818Z"
   },
   {
    "duration": 14,
    "start_time": "2022-10-11T20:24:55.241Z"
   },
   {
    "duration": 5,
    "start_time": "2022-10-11T20:25:45.066Z"
   },
   {
    "duration": 5,
    "start_time": "2022-10-11T20:25:56.585Z"
   },
   {
    "duration": 16,
    "start_time": "2022-10-11T20:26:46.161Z"
   },
   {
    "duration": 17,
    "start_time": "2022-10-11T20:27:20.200Z"
   },
   {
    "duration": 11,
    "start_time": "2022-10-11T20:27:34.882Z"
   },
   {
    "duration": 17,
    "start_time": "2022-10-11T20:27:47.352Z"
   },
   {
    "duration": 19,
    "start_time": "2022-10-11T20:28:57.736Z"
   },
   {
    "duration": 13,
    "start_time": "2022-10-11T20:29:10.634Z"
   },
   {
    "duration": 74,
    "start_time": "2022-10-11T20:30:16.257Z"
   },
   {
    "duration": 21,
    "start_time": "2022-10-11T20:30:27.896Z"
   },
   {
    "duration": 16,
    "start_time": "2022-10-11T20:30:36.321Z"
   },
   {
    "duration": 18,
    "start_time": "2022-10-11T20:30:51.496Z"
   },
   {
    "duration": 16,
    "start_time": "2022-10-11T20:31:02.032Z"
   },
   {
    "duration": 19,
    "start_time": "2022-10-11T20:31:19.193Z"
   },
   {
    "duration": 18,
    "start_time": "2022-10-11T20:31:29.145Z"
   },
   {
    "duration": 19,
    "start_time": "2022-10-11T20:31:54.280Z"
   },
   {
    "duration": 16,
    "start_time": "2022-10-11T20:31:59.408Z"
   },
   {
    "duration": 18,
    "start_time": "2022-10-11T20:32:05.418Z"
   },
   {
    "duration": 17,
    "start_time": "2022-10-11T20:32:31.985Z"
   },
   {
    "duration": 2,
    "start_time": "2022-10-11T20:32:35.105Z"
   },
   {
    "duration": 12,
    "start_time": "2022-10-11T20:32:42.560Z"
   },
   {
    "duration": 9,
    "start_time": "2022-10-11T20:33:26.464Z"
   },
   {
    "duration": 9,
    "start_time": "2022-10-11T20:33:35.464Z"
   },
   {
    "duration": 9,
    "start_time": "2022-10-11T20:34:04.408Z"
   },
   {
    "duration": 10,
    "start_time": "2022-10-11T20:34:30.848Z"
   },
   {
    "duration": 17,
    "start_time": "2022-10-11T20:35:13.743Z"
   },
   {
    "duration": 7,
    "start_time": "2022-10-11T20:35:22.168Z"
   },
   {
    "duration": 10,
    "start_time": "2022-10-11T20:36:30.936Z"
   },
   {
    "duration": 8,
    "start_time": "2022-10-11T20:36:34.855Z"
   },
   {
    "duration": 11,
    "start_time": "2022-10-11T20:36:37.623Z"
   },
   {
    "duration": 7,
    "start_time": "2022-10-11T20:36:44.528Z"
   },
   {
    "duration": 9,
    "start_time": "2022-10-11T20:37:23.463Z"
   },
   {
    "duration": 19,
    "start_time": "2022-10-11T20:40:36.480Z"
   },
   {
    "duration": 12,
    "start_time": "2022-10-11T20:42:42.720Z"
   },
   {
    "duration": 17,
    "start_time": "2022-10-11T20:43:36.063Z"
   },
   {
    "duration": 18,
    "start_time": "2022-10-11T20:43:52.712Z"
   },
   {
    "duration": 6,
    "start_time": "2022-10-11T20:44:12.577Z"
   },
   {
    "duration": 18,
    "start_time": "2022-10-11T20:44:17.144Z"
   },
   {
    "duration": 11,
    "start_time": "2022-10-11T20:44:25.152Z"
   },
   {
    "duration": 8,
    "start_time": "2022-10-11T20:44:38.120Z"
   },
   {
    "duration": 10,
    "start_time": "2022-10-11T20:44:58.680Z"
   },
   {
    "duration": 8,
    "start_time": "2022-10-11T20:45:17.720Z"
   },
   {
    "duration": 11,
    "start_time": "2022-10-11T20:45:21.184Z"
   },
   {
    "duration": 13,
    "start_time": "2022-10-11T20:46:25.423Z"
   },
   {
    "duration": 1115,
    "start_time": "2022-10-11T20:46:46.687Z"
   },
   {
    "duration": 12,
    "start_time": "2022-10-11T20:47:21.456Z"
   },
   {
    "duration": 8,
    "start_time": "2022-10-11T20:47:40.144Z"
   },
   {
    "duration": 28,
    "start_time": "2022-10-11T20:47:41.407Z"
   },
   {
    "duration": 12,
    "start_time": "2022-10-11T20:47:49.488Z"
   },
   {
    "duration": 6,
    "start_time": "2022-10-11T20:48:00.520Z"
   },
   {
    "duration": 17,
    "start_time": "2022-10-11T20:48:01.351Z"
   },
   {
    "duration": 13,
    "start_time": "2022-10-11T20:48:04.655Z"
   },
   {
    "duration": 3,
    "start_time": "2022-10-11T20:49:20.238Z"
   },
   {
    "duration": 11,
    "start_time": "2022-10-11T20:49:22.743Z"
   },
   {
    "duration": 6,
    "start_time": "2022-10-11T20:49:33.422Z"
   },
   {
    "duration": 27,
    "start_time": "2022-10-11T20:49:53.631Z"
   },
   {
    "duration": 8,
    "start_time": "2022-10-11T20:50:11.836Z"
   },
   {
    "duration": 7,
    "start_time": "2022-10-11T20:50:12.615Z"
   },
   {
    "duration": 7,
    "start_time": "2022-10-11T20:51:29.631Z"
   },
   {
    "duration": 577,
    "start_time": "2022-10-11T20:51:57.996Z"
   },
   {
    "duration": 69,
    "start_time": "2022-10-11T20:51:58.575Z"
   },
   {
    "duration": 10,
    "start_time": "2022-10-11T20:51:58.645Z"
   },
   {
    "duration": 4,
    "start_time": "2022-10-11T20:51:58.657Z"
   },
   {
    "duration": 45,
    "start_time": "2022-10-11T20:51:58.662Z"
   },
   {
    "duration": 11,
    "start_time": "2022-10-11T20:51:58.708Z"
   },
   {
    "duration": 13,
    "start_time": "2022-10-11T20:51:58.720Z"
   },
   {
    "duration": 14,
    "start_time": "2022-10-11T20:51:58.734Z"
   },
   {
    "duration": 17,
    "start_time": "2022-10-11T20:51:58.750Z"
   },
   {
    "duration": 22,
    "start_time": "2022-10-11T20:51:58.770Z"
   },
   {
    "duration": 6,
    "start_time": "2022-10-11T20:51:58.794Z"
   },
   {
    "duration": 8,
    "start_time": "2022-10-11T20:51:58.801Z"
   },
   {
    "duration": 11,
    "start_time": "2022-10-11T20:51:58.811Z"
   },
   {
    "duration": 15,
    "start_time": "2022-10-11T20:51:58.824Z"
   },
   {
    "duration": 17,
    "start_time": "2022-10-11T20:51:58.840Z"
   },
   {
    "duration": 27,
    "start_time": "2022-10-11T20:51:58.859Z"
   },
   {
    "duration": 248,
    "start_time": "2022-10-11T20:51:58.887Z"
   },
   {
    "duration": 7,
    "start_time": "2022-10-11T20:51:59.137Z"
   },
   {
    "duration": 51,
    "start_time": "2022-10-11T20:51:59.146Z"
   },
   {
    "duration": 7,
    "start_time": "2022-10-11T20:51:59.199Z"
   },
   {
    "duration": 22,
    "start_time": "2022-10-11T20:51:59.208Z"
   },
   {
    "duration": 11,
    "start_time": "2022-10-11T20:51:59.232Z"
   },
   {
    "duration": 13,
    "start_time": "2022-10-11T20:51:59.244Z"
   },
   {
    "duration": 30,
    "start_time": "2022-10-11T20:51:59.258Z"
   },
   {
    "duration": 7,
    "start_time": "2022-10-11T20:51:59.290Z"
   },
   {
    "duration": 11,
    "start_time": "2022-10-11T20:52:43.252Z"
   },
   {
    "duration": 157,
    "start_time": "2022-10-11T20:52:46.474Z"
   },
   {
    "duration": 7,
    "start_time": "2022-10-11T20:52:54.290Z"
   },
   {
    "duration": 18,
    "start_time": "2022-10-11T20:52:55.115Z"
   },
   {
    "duration": 15,
    "start_time": "2022-10-11T20:52:59.716Z"
   },
   {
    "duration": 7,
    "start_time": "2022-10-11T20:53:46.971Z"
   },
   {
    "duration": 9,
    "start_time": "2022-10-11T20:58:00.370Z"
   },
   {
    "duration": 4,
    "start_time": "2022-10-11T20:58:08.084Z"
   },
   {
    "duration": 2,
    "start_time": "2022-10-11T20:58:59.882Z"
   },
   {
    "duration": 3,
    "start_time": "2022-10-11T20:59:08.882Z"
   },
   {
    "duration": 67,
    "start_time": "2022-10-11T20:59:15.434Z"
   },
   {
    "duration": 8,
    "start_time": "2022-10-11T20:59:27.593Z"
   },
   {
    "duration": 12,
    "start_time": "2022-10-11T20:59:36.258Z"
   },
   {
    "duration": 5,
    "start_time": "2022-10-11T20:59:42.346Z"
   },
   {
    "duration": 4,
    "start_time": "2022-10-11T20:59:54.114Z"
   },
   {
    "duration": 655,
    "start_time": "2022-10-11T21:00:17.259Z"
   },
   {
    "duration": 71,
    "start_time": "2022-10-11T21:00:17.916Z"
   },
   {
    "duration": 12,
    "start_time": "2022-10-11T21:00:17.988Z"
   },
   {
    "duration": 4,
    "start_time": "2022-10-11T21:00:18.002Z"
   },
   {
    "duration": 48,
    "start_time": "2022-10-11T21:00:18.007Z"
   },
   {
    "duration": 30,
    "start_time": "2022-10-11T21:00:18.056Z"
   },
   {
    "duration": 11,
    "start_time": "2022-10-11T21:00:18.088Z"
   },
   {
    "duration": 18,
    "start_time": "2022-10-11T21:00:18.101Z"
   },
   {
    "duration": 20,
    "start_time": "2022-10-11T21:00:18.121Z"
   },
   {
    "duration": 11,
    "start_time": "2022-10-11T21:00:18.144Z"
   },
   {
    "duration": 6,
    "start_time": "2022-10-11T21:00:18.157Z"
   },
   {
    "duration": 6,
    "start_time": "2022-10-11T21:00:18.185Z"
   },
   {
    "duration": 26,
    "start_time": "2022-10-11T21:00:18.193Z"
   },
   {
    "duration": 11,
    "start_time": "2022-10-11T21:00:18.221Z"
   },
   {
    "duration": 18,
    "start_time": "2022-10-11T21:00:18.234Z"
   },
   {
    "duration": 7,
    "start_time": "2022-10-11T21:00:18.254Z"
   },
   {
    "duration": 166,
    "start_time": "2022-10-11T21:00:18.263Z"
   },
   {
    "duration": 11,
    "start_time": "2022-10-11T21:00:18.431Z"
   },
   {
    "duration": 178,
    "start_time": "2022-10-11T21:00:18.444Z"
   },
   {
    "duration": 6,
    "start_time": "2022-10-11T21:00:18.623Z"
   },
   {
    "duration": 23,
    "start_time": "2022-10-11T21:00:18.630Z"
   },
   {
    "duration": 15,
    "start_time": "2022-10-11T21:00:18.655Z"
   },
   {
    "duration": 20,
    "start_time": "2022-10-11T21:00:18.672Z"
   },
   {
    "duration": 16,
    "start_time": "2022-10-11T21:00:18.694Z"
   },
   {
    "duration": 22,
    "start_time": "2022-10-11T21:00:18.712Z"
   },
   {
    "duration": 14,
    "start_time": "2022-10-11T21:00:18.736Z"
   },
   {
    "duration": 16,
    "start_time": "2022-10-11T21:00:18.752Z"
   },
   {
    "duration": 14,
    "start_time": "2022-10-11T21:00:18.771Z"
   },
   {
    "duration": 6,
    "start_time": "2022-10-11T21:00:58.026Z"
   },
   {
    "duration": 19,
    "start_time": "2022-10-11T21:01:02.281Z"
   },
   {
    "duration": 4,
    "start_time": "2022-10-11T21:01:50.945Z"
   },
   {
    "duration": 19,
    "start_time": "2022-10-11T21:02:00.739Z"
   },
   {
    "duration": 68,
    "start_time": "2022-10-11T21:02:36.770Z"
   },
   {
    "duration": 3,
    "start_time": "2022-10-11T21:02:43.554Z"
   },
   {
    "duration": 10,
    "start_time": "2022-10-11T21:02:47.338Z"
   },
   {
    "duration": 18,
    "start_time": "2022-10-11T21:02:51.850Z"
   },
   {
    "duration": 11,
    "start_time": "2022-10-11T21:03:57.241Z"
   },
   {
    "duration": 9,
    "start_time": "2022-10-11T21:04:13.586Z"
   },
   {
    "duration": 9,
    "start_time": "2022-10-11T21:05:39.881Z"
   },
   {
    "duration": 9,
    "start_time": "2022-10-11T21:07:29.217Z"
   },
   {
    "duration": 16,
    "start_time": "2022-10-11T21:07:32.096Z"
   },
   {
    "duration": 6,
    "start_time": "2022-10-11T21:08:40.945Z"
   },
   {
    "duration": 16,
    "start_time": "2022-10-11T21:08:55.673Z"
   },
   {
    "duration": 27,
    "start_time": "2022-10-11T21:09:12.179Z"
   },
   {
    "duration": 91,
    "start_time": "2022-10-11T21:09:31.112Z"
   },
   {
    "duration": 21,
    "start_time": "2022-10-11T21:09:35.305Z"
   },
   {
    "duration": 8,
    "start_time": "2022-10-11T21:10:09.433Z"
   },
   {
    "duration": 9,
    "start_time": "2022-10-11T21:10:13.337Z"
   },
   {
    "duration": 21,
    "start_time": "2022-10-11T21:10:15.177Z"
   },
   {
    "duration": 4,
    "start_time": "2022-10-11T21:10:21.656Z"
   },
   {
    "duration": 7,
    "start_time": "2022-10-11T21:10:23.401Z"
   },
   {
    "duration": 19,
    "start_time": "2022-10-11T21:10:25.473Z"
   },
   {
    "duration": 9,
    "start_time": "2022-10-11T21:11:09.809Z"
   },
   {
    "duration": 27,
    "start_time": "2022-10-11T21:11:17.289Z"
   },
   {
    "duration": 13,
    "start_time": "2022-10-11T21:12:55.251Z"
   },
   {
    "duration": 15,
    "start_time": "2022-10-11T21:13:04.201Z"
   },
   {
    "duration": 16,
    "start_time": "2022-10-11T21:13:09.545Z"
   },
   {
    "duration": 11,
    "start_time": "2022-10-11T21:13:23.287Z"
   },
   {
    "duration": 595,
    "start_time": "2022-10-11T21:13:30.233Z"
   },
   {
    "duration": 70,
    "start_time": "2022-10-11T21:13:30.830Z"
   },
   {
    "duration": 10,
    "start_time": "2022-10-11T21:13:30.902Z"
   },
   {
    "duration": 31,
    "start_time": "2022-10-11T21:13:30.914Z"
   },
   {
    "duration": 64,
    "start_time": "2022-10-11T21:13:30.947Z"
   },
   {
    "duration": 10,
    "start_time": "2022-10-11T21:13:31.013Z"
   },
   {
    "duration": 38,
    "start_time": "2022-10-11T21:13:31.025Z"
   },
   {
    "duration": 28,
    "start_time": "2022-10-11T21:13:31.064Z"
   },
   {
    "duration": 39,
    "start_time": "2022-10-11T21:13:31.093Z"
   },
   {
    "duration": 45,
    "start_time": "2022-10-11T21:13:31.134Z"
   },
   {
    "duration": 44,
    "start_time": "2022-10-11T21:13:31.181Z"
   },
   {
    "duration": 32,
    "start_time": "2022-10-11T21:13:31.226Z"
   },
   {
    "duration": 54,
    "start_time": "2022-10-11T21:13:31.259Z"
   },
   {
    "duration": 40,
    "start_time": "2022-10-11T21:13:31.316Z"
   },
   {
    "duration": 39,
    "start_time": "2022-10-11T21:13:31.357Z"
   },
   {
    "duration": 42,
    "start_time": "2022-10-11T21:13:31.397Z"
   },
   {
    "duration": 168,
    "start_time": "2022-10-11T21:13:31.440Z"
   },
   {
    "duration": 9,
    "start_time": "2022-10-11T21:13:31.610Z"
   },
   {
    "duration": 169,
    "start_time": "2022-10-11T21:13:31.621Z"
   },
   {
    "duration": 5,
    "start_time": "2022-10-11T21:13:31.792Z"
   },
   {
    "duration": 36,
    "start_time": "2022-10-11T21:13:31.798Z"
   },
   {
    "duration": 18,
    "start_time": "2022-10-11T21:13:31.836Z"
   },
   {
    "duration": 30,
    "start_time": "2022-10-11T21:13:31.855Z"
   },
   {
    "duration": 24,
    "start_time": "2022-10-11T21:13:31.886Z"
   },
   {
    "duration": 18,
    "start_time": "2022-10-11T21:13:31.912Z"
   },
   {
    "duration": 17,
    "start_time": "2022-10-11T21:13:31.931Z"
   },
   {
    "duration": 16,
    "start_time": "2022-10-11T21:13:31.949Z"
   },
   {
    "duration": 14,
    "start_time": "2022-10-11T21:13:31.966Z"
   },
   {
    "duration": 38,
    "start_time": "2022-10-11T21:13:31.982Z"
   },
   {
    "duration": 2,
    "start_time": "2022-10-11T21:15:20.403Z"
   },
   {
    "duration": 67,
    "start_time": "2022-10-11T21:15:23.018Z"
   },
   {
    "duration": 9,
    "start_time": "2022-10-11T21:15:44.179Z"
   },
   {
    "duration": 3287,
    "start_time": "2022-10-11T21:15:58.299Z"
   },
   {
    "duration": 29,
    "start_time": "2022-10-11T21:16:22.597Z"
   },
   {
    "duration": 574,
    "start_time": "2022-10-11T21:16:30.526Z"
   },
   {
    "duration": 71,
    "start_time": "2022-10-11T21:16:31.102Z"
   },
   {
    "duration": 10,
    "start_time": "2022-10-11T21:16:31.174Z"
   },
   {
    "duration": 14,
    "start_time": "2022-10-11T21:16:31.186Z"
   },
   {
    "duration": 60,
    "start_time": "2022-10-11T21:16:31.201Z"
   },
   {
    "duration": 11,
    "start_time": "2022-10-11T21:16:31.262Z"
   },
   {
    "duration": 18,
    "start_time": "2022-10-11T21:16:31.274Z"
   },
   {
    "duration": 16,
    "start_time": "2022-10-11T21:16:31.293Z"
   },
   {
    "duration": 32,
    "start_time": "2022-10-11T21:16:31.311Z"
   },
   {
    "duration": 15,
    "start_time": "2022-10-11T21:16:31.346Z"
   },
   {
    "duration": 7,
    "start_time": "2022-10-11T21:16:31.362Z"
   },
   {
    "duration": 10,
    "start_time": "2022-10-11T21:16:31.370Z"
   },
   {
    "duration": 15,
    "start_time": "2022-10-11T21:16:31.381Z"
   },
   {
    "duration": 12,
    "start_time": "2022-10-11T21:16:31.398Z"
   },
   {
    "duration": 13,
    "start_time": "2022-10-11T21:16:31.411Z"
   },
   {
    "duration": 8,
    "start_time": "2022-10-11T21:16:31.426Z"
   },
   {
    "duration": 157,
    "start_time": "2022-10-11T21:16:31.435Z"
   },
   {
    "duration": 2,
    "start_time": "2022-10-11T21:16:31.594Z"
   },
   {
    "duration": 15,
    "start_time": "2022-10-11T21:16:31.597Z"
   },
   {
    "duration": 20,
    "start_time": "2022-10-11T21:16:31.613Z"
   },
   {
    "duration": 12,
    "start_time": "2022-10-11T21:16:31.634Z"
   },
   {
    "duration": 94,
    "start_time": "2022-10-11T21:16:31.647Z"
   },
   {
    "duration": 10,
    "start_time": "2022-10-11T21:17:26.030Z"
   },
   {
    "duration": 14,
    "start_time": "2022-10-11T21:17:28.206Z"
   },
   {
    "duration": 25,
    "start_time": "2022-10-11T21:18:03.358Z"
   },
   {
    "duration": 9,
    "start_time": "2022-10-11T21:18:36.516Z"
   },
   {
    "duration": 14,
    "start_time": "2022-10-11T21:18:37.917Z"
   },
   {
    "duration": 23,
    "start_time": "2022-10-11T21:18:40.901Z"
   },
   {
    "duration": 6,
    "start_time": "2022-10-11T21:21:16.085Z"
   },
   {
    "duration": 33,
    "start_time": "2022-10-11T21:22:45.541Z"
   },
   {
    "duration": 28,
    "start_time": "2022-10-11T21:23:01.469Z"
   },
   {
    "duration": 29,
    "start_time": "2022-10-11T21:24:02.652Z"
   },
   {
    "duration": 29,
    "start_time": "2022-10-11T21:24:28.932Z"
   },
   {
    "duration": 29,
    "start_time": "2022-10-11T21:25:17.317Z"
   },
   {
    "duration": 30,
    "start_time": "2022-10-11T21:26:44.173Z"
   },
   {
    "duration": 171,
    "start_time": "2022-10-11T21:27:05.997Z"
   },
   {
    "duration": 31,
    "start_time": "2022-10-11T21:28:53.644Z"
   },
   {
    "duration": 32,
    "start_time": "2022-10-11T21:29:20.957Z"
   },
   {
    "duration": 9,
    "start_time": "2022-10-11T21:31:07.180Z"
   },
   {
    "duration": 27,
    "start_time": "2022-10-11T21:32:09.684Z"
   },
   {
    "duration": 21,
    "start_time": "2022-10-11T21:32:28.165Z"
   },
   {
    "duration": 583,
    "start_time": "2022-10-11T21:33:30.916Z"
   },
   {
    "duration": 69,
    "start_time": "2022-10-11T21:33:31.501Z"
   },
   {
    "duration": 10,
    "start_time": "2022-10-11T21:33:31.572Z"
   },
   {
    "duration": 22,
    "start_time": "2022-10-11T21:33:31.584Z"
   },
   {
    "duration": 58,
    "start_time": "2022-10-11T21:33:31.608Z"
   },
   {
    "duration": 11,
    "start_time": "2022-10-11T21:33:31.668Z"
   },
   {
    "duration": 22,
    "start_time": "2022-10-11T21:33:31.680Z"
   },
   {
    "duration": 19,
    "start_time": "2022-10-11T21:33:31.704Z"
   },
   {
    "duration": 23,
    "start_time": "2022-10-11T21:33:31.725Z"
   },
   {
    "duration": 20,
    "start_time": "2022-10-11T21:33:31.749Z"
   },
   {
    "duration": 9,
    "start_time": "2022-10-11T21:33:31.770Z"
   },
   {
    "duration": 8,
    "start_time": "2022-10-11T21:33:31.781Z"
   },
   {
    "duration": 10,
    "start_time": "2022-10-11T21:33:31.790Z"
   },
   {
    "duration": 14,
    "start_time": "2022-10-11T21:33:31.802Z"
   },
   {
    "duration": 23,
    "start_time": "2022-10-11T21:33:31.818Z"
   },
   {
    "duration": 11,
    "start_time": "2022-10-11T21:33:31.843Z"
   },
   {
    "duration": 15,
    "start_time": "2022-10-11T21:33:31.855Z"
   },
   {
    "duration": 44,
    "start_time": "2022-10-11T21:33:31.872Z"
   },
   {
    "duration": 20,
    "start_time": "2022-10-11T21:33:31.918Z"
   },
   {
    "duration": 128,
    "start_time": "2022-10-11T21:33:31.939Z"
   },
   {
    "duration": 407,
    "start_time": "2022-10-11T21:35:29.985Z"
   },
   {
    "duration": 312,
    "start_time": "2022-10-11T21:35:44.585Z"
   },
   {
    "duration": 14,
    "start_time": "2022-10-11T21:36:04.328Z"
   },
   {
    "duration": 14,
    "start_time": "2022-10-11T21:36:53.161Z"
   },
   {
    "duration": 17,
    "start_time": "2022-10-11T21:37:34.017Z"
   },
   {
    "duration": 6,
    "start_time": "2022-10-11T21:37:57.697Z"
   },
   {
    "duration": 10,
    "start_time": "2022-10-11T21:38:58.617Z"
   },
   {
    "duration": 227,
    "start_time": "2022-10-11T21:39:21.712Z"
   },
   {
    "duration": 147,
    "start_time": "2022-10-11T21:39:24.369Z"
   },
   {
    "duration": 180,
    "start_time": "2022-10-11T21:39:33.544Z"
   },
   {
    "duration": 154,
    "start_time": "2022-10-11T21:39:37.169Z"
   },
   {
    "duration": 161,
    "start_time": "2022-10-11T21:40:35.161Z"
   },
   {
    "duration": 157,
    "start_time": "2022-10-11T21:40:55.872Z"
   },
   {
    "duration": 194,
    "start_time": "2022-10-11T21:42:36.193Z"
   },
   {
    "duration": 142,
    "start_time": "2022-10-11T21:43:05.641Z"
   },
   {
    "duration": 139,
    "start_time": "2022-10-11T21:43:09.192Z"
   },
   {
    "duration": 242,
    "start_time": "2022-10-11T21:43:45.561Z"
   },
   {
    "duration": 174,
    "start_time": "2022-10-11T21:44:00.561Z"
   },
   {
    "duration": 184,
    "start_time": "2022-10-11T21:44:07.672Z"
   },
   {
    "duration": 11,
    "start_time": "2022-10-11T21:44:18.016Z"
   },
   {
    "duration": 191,
    "start_time": "2022-10-11T21:45:44.080Z"
   },
   {
    "duration": 240,
    "start_time": "2022-10-11T21:47:10.175Z"
   },
   {
    "duration": 203,
    "start_time": "2022-10-11T21:47:29.175Z"
   },
   {
    "duration": 180,
    "start_time": "2022-10-11T21:48:05.319Z"
   },
   {
    "duration": 16,
    "start_time": "2022-10-11T22:26:18.483Z"
   },
   {
    "duration": 580,
    "start_time": "2022-10-11T22:26:42.090Z"
   },
   {
    "duration": 71,
    "start_time": "2022-10-11T22:26:42.672Z"
   },
   {
    "duration": 12,
    "start_time": "2022-10-11T22:26:42.744Z"
   },
   {
    "duration": 3,
    "start_time": "2022-10-11T22:26:42.759Z"
   },
   {
    "duration": 48,
    "start_time": "2022-10-11T22:26:42.764Z"
   },
   {
    "duration": 12,
    "start_time": "2022-10-11T22:26:42.814Z"
   },
   {
    "duration": 10,
    "start_time": "2022-10-11T22:26:42.828Z"
   },
   {
    "duration": 9,
    "start_time": "2022-10-11T22:26:42.840Z"
   },
   {
    "duration": 34,
    "start_time": "2022-10-11T22:26:42.851Z"
   },
   {
    "duration": 9,
    "start_time": "2022-10-11T22:26:42.888Z"
   },
   {
    "duration": 6,
    "start_time": "2022-10-11T22:26:42.898Z"
   },
   {
    "duration": 6,
    "start_time": "2022-10-11T22:26:42.906Z"
   },
   {
    "duration": 10,
    "start_time": "2022-10-11T22:26:42.914Z"
   },
   {
    "duration": 12,
    "start_time": "2022-10-11T22:26:42.926Z"
   },
   {
    "duration": 36,
    "start_time": "2022-10-11T22:26:42.949Z"
   },
   {
    "duration": 7,
    "start_time": "2022-10-11T22:26:42.987Z"
   },
   {
    "duration": 9,
    "start_time": "2022-10-11T22:26:42.996Z"
   },
   {
    "duration": 35,
    "start_time": "2022-10-11T22:26:43.007Z"
   },
   {
    "duration": 20,
    "start_time": "2022-10-11T22:26:43.044Z"
   },
   {
    "duration": 26,
    "start_time": "2022-10-11T22:26:43.065Z"
   },
   {
    "duration": 266,
    "start_time": "2022-10-11T22:26:43.093Z"
   },
   {
    "duration": 177,
    "start_time": "2022-10-11T22:28:53.073Z"
   },
   {
    "duration": 224,
    "start_time": "2022-10-11T22:29:21.450Z"
   },
   {
    "duration": 5,
    "start_time": "2022-10-11T22:34:54.362Z"
   },
   {
    "duration": 12,
    "start_time": "2022-10-11T22:34:57.882Z"
   },
   {
    "duration": 66,
    "start_time": "2022-10-11T22:36:27.345Z"
   },
   {
    "duration": 226,
    "start_time": "2022-10-11T22:36:31.626Z"
   },
   {
    "duration": 289,
    "start_time": "2022-10-11T22:37:59.258Z"
   },
   {
    "duration": 272,
    "start_time": "2022-10-11T22:38:14.315Z"
   },
   {
    "duration": 251,
    "start_time": "2022-10-11T22:38:17.042Z"
   },
   {
    "duration": 12,
    "start_time": "2022-10-11T22:49:29.394Z"
   },
   {
    "duration": 544,
    "start_time": "2022-10-11T22:53:33.427Z"
   },
   {
    "duration": 76,
    "start_time": "2022-10-11T22:53:33.973Z"
   },
   {
    "duration": 10,
    "start_time": "2022-10-11T22:53:34.051Z"
   },
   {
    "duration": 6,
    "start_time": "2022-10-11T22:53:34.062Z"
   },
   {
    "duration": 51,
    "start_time": "2022-10-11T22:53:34.069Z"
   },
   {
    "duration": 10,
    "start_time": "2022-10-11T22:53:34.122Z"
   },
   {
    "duration": 31,
    "start_time": "2022-10-11T22:53:34.133Z"
   },
   {
    "duration": 28,
    "start_time": "2022-10-11T22:53:34.166Z"
   },
   {
    "duration": 36,
    "start_time": "2022-10-11T22:53:34.196Z"
   },
   {
    "duration": 12,
    "start_time": "2022-10-11T22:53:34.235Z"
   },
   {
    "duration": 24,
    "start_time": "2022-10-11T22:53:34.249Z"
   },
   {
    "duration": 7,
    "start_time": "2022-10-11T22:53:34.274Z"
   },
   {
    "duration": 17,
    "start_time": "2022-10-11T22:53:34.283Z"
   },
   {
    "duration": 24,
    "start_time": "2022-10-11T22:53:34.301Z"
   },
   {
    "duration": 13,
    "start_time": "2022-10-11T22:53:34.327Z"
   },
   {
    "duration": 6,
    "start_time": "2022-10-11T22:53:34.342Z"
   },
   {
    "duration": 6,
    "start_time": "2022-10-11T22:53:34.350Z"
   },
   {
    "duration": 37,
    "start_time": "2022-10-11T22:53:34.357Z"
   },
   {
    "duration": 19,
    "start_time": "2022-10-11T22:53:34.395Z"
   },
   {
    "duration": 8,
    "start_time": "2022-10-11T22:53:34.415Z"
   },
   {
    "duration": 267,
    "start_time": "2022-10-11T22:53:34.424Z"
   },
   {
    "duration": 193,
    "start_time": "2022-10-11T22:53:34.692Z"
   },
   {
    "duration": 7,
    "start_time": "2022-10-11T22:53:34.886Z"
   },
   {
    "duration": 356,
    "start_time": "2022-10-11T22:53:34.894Z"
   },
   {
    "duration": 11,
    "start_time": "2022-10-11T22:53:35.252Z"
   },
   {
    "duration": 199,
    "start_time": "2022-10-11T22:56:27.633Z"
   },
   {
    "duration": 175,
    "start_time": "2022-10-11T22:57:20.050Z"
   },
   {
    "duration": 192,
    "start_time": "2022-10-11T22:57:41.617Z"
   },
   {
    "duration": 171,
    "start_time": "2022-10-11T22:57:45.921Z"
   },
   {
    "duration": 181,
    "start_time": "2022-10-11T22:57:49.632Z"
   },
   {
    "duration": 183,
    "start_time": "2022-10-11T22:57:53.785Z"
   },
   {
    "duration": 181,
    "start_time": "2022-10-11T22:58:00.561Z"
   },
   {
    "duration": 194,
    "start_time": "2022-10-11T22:59:42.705Z"
   },
   {
    "duration": 174,
    "start_time": "2022-10-11T22:59:49.353Z"
   },
   {
    "duration": 12,
    "start_time": "2022-10-11T23:02:25.840Z"
   },
   {
    "duration": 256,
    "start_time": "2022-10-11T23:02:56.320Z"
   },
   {
    "duration": 326,
    "start_time": "2022-10-11T23:05:13.392Z"
   },
   {
    "duration": 262,
    "start_time": "2022-10-11T23:05:21.416Z"
   },
   {
    "duration": 228,
    "start_time": "2022-10-11T23:05:28.936Z"
   },
   {
    "duration": 289,
    "start_time": "2022-10-11T23:06:53.080Z"
   },
   {
    "duration": 12,
    "start_time": "2022-10-11T23:10:29.032Z"
   },
   {
    "duration": 11,
    "start_time": "2022-10-11T23:13:23.584Z"
   },
   {
    "duration": 386,
    "start_time": "2022-10-11T23:13:51.489Z"
   },
   {
    "duration": 325,
    "start_time": "2022-10-11T23:14:09.136Z"
   },
   {
    "duration": 10,
    "start_time": "2022-10-11T23:14:12.263Z"
   },
   {
    "duration": 11,
    "start_time": "2022-10-11T23:14:26.280Z"
   },
   {
    "duration": 11,
    "start_time": "2022-10-11T23:14:34.872Z"
   },
   {
    "duration": 111,
    "start_time": "2022-10-11T23:15:21.576Z"
   },
   {
    "duration": 11,
    "start_time": "2022-10-11T23:15:31.632Z"
   },
   {
    "duration": 12,
    "start_time": "2022-10-11T23:15:36.792Z"
   },
   {
    "duration": 10,
    "start_time": "2022-10-11T23:15:40.936Z"
   },
   {
    "duration": 7,
    "start_time": "2022-10-11T23:16:24.488Z"
   },
   {
    "duration": 10,
    "start_time": "2022-10-11T23:16:29.184Z"
   },
   {
    "duration": 104,
    "start_time": "2022-10-11T23:16:31.191Z"
   },
   {
    "duration": 107,
    "start_time": "2022-10-11T23:17:17.528Z"
   },
   {
    "duration": 128,
    "start_time": "2022-10-11T23:17:31.176Z"
   },
   {
    "duration": 129,
    "start_time": "2022-10-11T23:17:36.255Z"
   },
   {
    "duration": 119,
    "start_time": "2022-10-11T23:17:40.888Z"
   },
   {
    "duration": 145,
    "start_time": "2022-10-11T23:17:46.848Z"
   },
   {
    "duration": 130,
    "start_time": "2022-10-11T23:18:23.544Z"
   },
   {
    "duration": 209,
    "start_time": "2022-10-11T23:19:36.824Z"
   },
   {
    "duration": 562,
    "start_time": "2022-10-11T23:23:33.533Z"
   },
   {
    "duration": 71,
    "start_time": "2022-10-11T23:23:34.097Z"
   },
   {
    "duration": 11,
    "start_time": "2022-10-11T23:23:34.170Z"
   },
   {
    "duration": 4,
    "start_time": "2022-10-11T23:23:34.183Z"
   },
   {
    "duration": 55,
    "start_time": "2022-10-11T23:23:34.189Z"
   },
   {
    "duration": 12,
    "start_time": "2022-10-11T23:23:34.245Z"
   },
   {
    "duration": 15,
    "start_time": "2022-10-11T23:23:34.258Z"
   },
   {
    "duration": 26,
    "start_time": "2022-10-11T23:23:34.274Z"
   },
   {
    "duration": 19,
    "start_time": "2022-10-11T23:23:34.301Z"
   },
   {
    "duration": 13,
    "start_time": "2022-10-11T23:23:34.322Z"
   },
   {
    "duration": 15,
    "start_time": "2022-10-11T23:23:34.337Z"
   },
   {
    "duration": 19,
    "start_time": "2022-10-11T23:23:34.354Z"
   },
   {
    "duration": 11,
    "start_time": "2022-10-11T23:23:34.375Z"
   },
   {
    "duration": 8,
    "start_time": "2022-10-11T23:23:34.389Z"
   },
   {
    "duration": 11,
    "start_time": "2022-10-11T23:23:34.399Z"
   },
   {
    "duration": 7,
    "start_time": "2022-10-11T23:23:34.411Z"
   },
   {
    "duration": 9,
    "start_time": "2022-10-11T23:23:34.419Z"
   },
   {
    "duration": 36,
    "start_time": "2022-10-11T23:23:34.430Z"
   },
   {
    "duration": 20,
    "start_time": "2022-10-11T23:23:34.484Z"
   },
   {
    "duration": 6,
    "start_time": "2022-10-11T23:23:34.506Z"
   },
   {
    "duration": 257,
    "start_time": "2022-10-11T23:23:34.514Z"
   },
   {
    "duration": 195,
    "start_time": "2022-10-11T23:23:34.773Z"
   },
   {
    "duration": 5,
    "start_time": "2022-10-11T23:23:34.970Z"
   },
   {
    "duration": 314,
    "start_time": "2022-10-11T23:23:34.977Z"
   },
   {
    "duration": 222,
    "start_time": "2022-10-11T23:23:35.293Z"
   },
   {
    "duration": 290,
    "start_time": "2022-10-11T23:23:35.516Z"
   },
   {
    "duration": 11,
    "start_time": "2022-10-11T23:23:35.808Z"
   },
   {
    "duration": 140,
    "start_time": "2022-10-11T23:23:35.821Z"
   },
   {
    "duration": 5,
    "start_time": "2022-10-11T23:24:27.879Z"
   },
   {
    "duration": 102,
    "start_time": "2022-10-11T23:26:29.831Z"
   },
   {
    "duration": 75,
    "start_time": "2022-10-11T23:27:29.159Z"
   },
   {
    "duration": 116,
    "start_time": "2022-10-11T23:27:47.976Z"
   },
   {
    "duration": 126,
    "start_time": "2022-10-11T23:28:14.609Z"
   },
   {
    "duration": 126,
    "start_time": "2022-10-11T23:28:20.335Z"
   },
   {
    "duration": 593,
    "start_time": "2022-10-11T23:29:05.680Z"
   },
   {
    "duration": 70,
    "start_time": "2022-10-11T23:29:06.275Z"
   },
   {
    "duration": 10,
    "start_time": "2022-10-11T23:29:06.346Z"
   },
   {
    "duration": 38,
    "start_time": "2022-10-11T23:29:06.357Z"
   },
   {
    "duration": 57,
    "start_time": "2022-10-11T23:29:06.397Z"
   },
   {
    "duration": 12,
    "start_time": "2022-10-11T23:29:06.456Z"
   },
   {
    "duration": 13,
    "start_time": "2022-10-11T23:29:06.469Z"
   },
   {
    "duration": 11,
    "start_time": "2022-10-11T23:29:06.484Z"
   },
   {
    "duration": 43,
    "start_time": "2022-10-11T23:29:06.497Z"
   },
   {
    "duration": 35,
    "start_time": "2022-10-11T23:29:06.542Z"
   },
   {
    "duration": 28,
    "start_time": "2022-10-11T23:29:06.579Z"
   },
   {
    "duration": 38,
    "start_time": "2022-10-11T23:29:06.609Z"
   },
   {
    "duration": 50,
    "start_time": "2022-10-11T23:29:06.649Z"
   },
   {
    "duration": 44,
    "start_time": "2022-10-11T23:29:06.702Z"
   },
   {
    "duration": 18,
    "start_time": "2022-10-11T23:29:06.747Z"
   },
   {
    "duration": 23,
    "start_time": "2022-10-11T23:29:06.766Z"
   },
   {
    "duration": 29,
    "start_time": "2022-10-11T23:29:06.790Z"
   },
   {
    "duration": 49,
    "start_time": "2022-10-11T23:29:06.820Z"
   },
   {
    "duration": 29,
    "start_time": "2022-10-11T23:29:06.871Z"
   },
   {
    "duration": 15,
    "start_time": "2022-10-11T23:29:06.902Z"
   },
   {
    "duration": 295,
    "start_time": "2022-10-11T23:29:06.919Z"
   },
   {
    "duration": 183,
    "start_time": "2022-10-11T23:29:07.216Z"
   },
   {
    "duration": 6,
    "start_time": "2022-10-11T23:29:07.401Z"
   },
   {
    "duration": 370,
    "start_time": "2022-10-11T23:29:07.408Z"
   },
   {
    "duration": 185,
    "start_time": "2022-10-11T23:29:07.779Z"
   },
   {
    "duration": 304,
    "start_time": "2022-10-11T23:29:07.966Z"
   },
   {
    "duration": 17,
    "start_time": "2022-10-11T23:29:08.271Z"
   },
   {
    "duration": 140,
    "start_time": "2022-10-11T23:29:08.289Z"
   },
   {
    "duration": 128,
    "start_time": "2022-10-11T23:29:08.430Z"
   },
   {
    "duration": 5,
    "start_time": "2022-10-11T23:29:08.559Z"
   },
   {
    "duration": 70,
    "start_time": "2022-10-11T23:29:54.199Z"
   },
   {
    "duration": 8,
    "start_time": "2022-10-11T23:31:35.518Z"
   },
   {
    "duration": 12,
    "start_time": "2022-10-11T23:31:44.712Z"
   },
   {
    "duration": 137,
    "start_time": "2022-10-11T23:32:04.214Z"
   },
   {
    "duration": 139,
    "start_time": "2022-10-11T23:32:06.102Z"
   },
   {
    "duration": 158,
    "start_time": "2022-10-11T23:33:51.734Z"
   },
   {
    "duration": 137,
    "start_time": "2022-10-11T23:34:15.566Z"
   },
   {
    "duration": 76,
    "start_time": "2022-10-11T23:38:32.926Z"
   },
   {
    "duration": 6,
    "start_time": "2022-10-11T23:38:36.797Z"
   },
   {
    "duration": 617,
    "start_time": "2022-10-11T23:41:29.186Z"
   },
   {
    "duration": 70,
    "start_time": "2022-10-11T23:41:29.805Z"
   },
   {
    "duration": 9,
    "start_time": "2022-10-11T23:41:29.877Z"
   },
   {
    "duration": 3,
    "start_time": "2022-10-11T23:41:29.888Z"
   },
   {
    "duration": 43,
    "start_time": "2022-10-11T23:41:29.893Z"
   },
   {
    "duration": 12,
    "start_time": "2022-10-11T23:41:29.938Z"
   },
   {
    "duration": 13,
    "start_time": "2022-10-11T23:41:29.951Z"
   },
   {
    "duration": 27,
    "start_time": "2022-10-11T23:41:29.965Z"
   },
   {
    "duration": 15,
    "start_time": "2022-10-11T23:41:29.994Z"
   },
   {
    "duration": 15,
    "start_time": "2022-10-11T23:41:30.010Z"
   },
   {
    "duration": 12,
    "start_time": "2022-10-11T23:41:30.027Z"
   },
   {
    "duration": 15,
    "start_time": "2022-10-11T23:41:30.041Z"
   },
   {
    "duration": 20,
    "start_time": "2022-10-11T23:41:30.058Z"
   },
   {
    "duration": 45,
    "start_time": "2022-10-11T23:41:30.081Z"
   },
   {
    "duration": 20,
    "start_time": "2022-10-11T23:41:30.128Z"
   },
   {
    "duration": 5,
    "start_time": "2022-10-11T23:41:30.150Z"
   },
   {
    "duration": 9,
    "start_time": "2022-10-11T23:41:30.157Z"
   },
   {
    "duration": 36,
    "start_time": "2022-10-11T23:41:30.168Z"
   },
   {
    "duration": 26,
    "start_time": "2022-10-11T23:41:30.205Z"
   },
   {
    "duration": 8,
    "start_time": "2022-10-11T23:41:30.232Z"
   },
   {
    "duration": 283,
    "start_time": "2022-10-11T23:41:30.242Z"
   },
   {
    "duration": 188,
    "start_time": "2022-10-11T23:41:30.527Z"
   },
   {
    "duration": 6,
    "start_time": "2022-10-11T23:41:30.717Z"
   },
   {
    "duration": 361,
    "start_time": "2022-10-11T23:41:30.724Z"
   },
   {
    "duration": 174,
    "start_time": "2022-10-11T23:41:31.087Z"
   },
   {
    "duration": 309,
    "start_time": "2022-10-11T23:41:31.263Z"
   },
   {
    "duration": 13,
    "start_time": "2022-10-11T23:41:31.573Z"
   },
   {
    "duration": 131,
    "start_time": "2022-10-11T23:41:31.587Z"
   },
   {
    "duration": 135,
    "start_time": "2022-10-11T23:41:31.719Z"
   },
   {
    "duration": 5,
    "start_time": "2022-10-11T23:41:31.856Z"
   },
   {
    "duration": 146,
    "start_time": "2022-10-11T23:41:31.862Z"
   },
   {
    "duration": 143,
    "start_time": "2022-10-11T23:41:32.010Z"
   },
   {
    "duration": 5,
    "start_time": "2022-10-11T23:41:32.154Z"
   },
   {
    "duration": 6,
    "start_time": "2022-10-11T23:42:01.341Z"
   },
   {
    "duration": 138,
    "start_time": "2022-10-11T23:42:17.526Z"
   },
   {
    "duration": 141,
    "start_time": "2022-10-11T23:42:23.612Z"
   },
   {
    "duration": 564,
    "start_time": "2022-10-11T23:53:59.005Z"
   },
   {
    "duration": 70,
    "start_time": "2022-10-11T23:53:59.571Z"
   },
   {
    "duration": 10,
    "start_time": "2022-10-11T23:53:59.643Z"
   },
   {
    "duration": 3,
    "start_time": "2022-10-11T23:53:59.655Z"
   },
   {
    "duration": 45,
    "start_time": "2022-10-11T23:53:59.660Z"
   },
   {
    "duration": 11,
    "start_time": "2022-10-11T23:53:59.706Z"
   },
   {
    "duration": 17,
    "start_time": "2022-10-11T23:53:59.718Z"
   },
   {
    "duration": 9,
    "start_time": "2022-10-11T23:53:59.736Z"
   },
   {
    "duration": 14,
    "start_time": "2022-10-11T23:53:59.747Z"
   },
   {
    "duration": 22,
    "start_time": "2022-10-11T23:53:59.763Z"
   },
   {
    "duration": 5,
    "start_time": "2022-10-11T23:53:59.787Z"
   },
   {
    "duration": 6,
    "start_time": "2022-10-11T23:53:59.793Z"
   },
   {
    "duration": 9,
    "start_time": "2022-10-11T23:53:59.801Z"
   },
   {
    "duration": 9,
    "start_time": "2022-10-11T23:53:59.811Z"
   },
   {
    "duration": 11,
    "start_time": "2022-10-11T23:53:59.821Z"
   },
   {
    "duration": 6,
    "start_time": "2022-10-11T23:53:59.833Z"
   },
   {
    "duration": 7,
    "start_time": "2022-10-11T23:53:59.840Z"
   },
   {
    "duration": 63,
    "start_time": "2022-10-11T23:53:59.848Z"
   },
   {
    "duration": 19,
    "start_time": "2022-10-11T23:53:59.912Z"
   },
   {
    "duration": 8,
    "start_time": "2022-10-11T23:53:59.932Z"
   },
   {
    "duration": 273,
    "start_time": "2022-10-11T23:53:59.941Z"
   },
   {
    "duration": 200,
    "start_time": "2022-10-11T23:54:00.216Z"
   },
   {
    "duration": 6,
    "start_time": "2022-10-11T23:54:00.417Z"
   },
   {
    "duration": 363,
    "start_time": "2022-10-11T23:54:00.425Z"
   },
   {
    "duration": 186,
    "start_time": "2022-10-11T23:54:00.789Z"
   },
   {
    "duration": 296,
    "start_time": "2022-10-11T23:54:00.976Z"
   },
   {
    "duration": 15,
    "start_time": "2022-10-11T23:54:01.273Z"
   },
   {
    "duration": 176,
    "start_time": "2022-10-11T23:54:01.290Z"
   },
   {
    "duration": 127,
    "start_time": "2022-10-11T23:54:01.467Z"
   },
   {
    "duration": 4,
    "start_time": "2022-10-11T23:54:01.596Z"
   },
   {
    "duration": 185,
    "start_time": "2022-10-11T23:54:01.601Z"
   },
   {
    "duration": 152,
    "start_time": "2022-10-11T23:54:01.788Z"
   },
   {
    "duration": 4,
    "start_time": "2022-10-11T23:54:01.942Z"
   },
   {
    "duration": 562,
    "start_time": "2022-10-12T16:44:47.123Z"
   },
   {
    "duration": 83,
    "start_time": "2022-10-12T16:44:47.687Z"
   },
   {
    "duration": 11,
    "start_time": "2022-10-12T16:44:47.771Z"
   },
   {
    "duration": 4,
    "start_time": "2022-10-12T16:44:47.784Z"
   },
   {
    "duration": 57,
    "start_time": "2022-10-12T16:44:47.790Z"
   },
   {
    "duration": 12,
    "start_time": "2022-10-12T16:44:47.849Z"
   },
   {
    "duration": 22,
    "start_time": "2022-10-12T16:44:47.863Z"
   },
   {
    "duration": 18,
    "start_time": "2022-10-12T16:44:47.887Z"
   },
   {
    "duration": 26,
    "start_time": "2022-10-12T16:44:47.907Z"
   },
   {
    "duration": 15,
    "start_time": "2022-10-12T16:44:47.935Z"
   },
   {
    "duration": 14,
    "start_time": "2022-10-12T16:44:47.951Z"
   },
   {
    "duration": 8,
    "start_time": "2022-10-12T16:44:47.966Z"
   },
   {
    "duration": 16,
    "start_time": "2022-10-12T16:44:47.976Z"
   },
   {
    "duration": 15,
    "start_time": "2022-10-12T16:44:47.994Z"
   },
   {
    "duration": 13,
    "start_time": "2022-10-12T16:44:48.010Z"
   },
   {
    "duration": 10,
    "start_time": "2022-10-12T16:44:48.025Z"
   },
   {
    "duration": 8,
    "start_time": "2022-10-12T16:44:48.036Z"
   },
   {
    "duration": 43,
    "start_time": "2022-10-12T16:44:48.046Z"
   },
   {
    "duration": 21,
    "start_time": "2022-10-12T16:44:48.090Z"
   },
   {
    "duration": 8,
    "start_time": "2022-10-12T16:44:48.112Z"
   },
   {
    "duration": 282,
    "start_time": "2022-10-12T16:44:48.121Z"
   },
   {
    "duration": 189,
    "start_time": "2022-10-12T16:44:48.404Z"
   },
   {
    "duration": 6,
    "start_time": "2022-10-12T16:44:48.595Z"
   },
   {
    "duration": 372,
    "start_time": "2022-10-12T16:44:48.602Z"
   },
   {
    "duration": 202,
    "start_time": "2022-10-12T16:44:48.975Z"
   },
   {
    "duration": 294,
    "start_time": "2022-10-12T16:44:49.179Z"
   },
   {
    "duration": 13,
    "start_time": "2022-10-12T16:44:49.475Z"
   },
   {
    "duration": 139,
    "start_time": "2022-10-12T16:44:49.491Z"
   },
   {
    "duration": 124,
    "start_time": "2022-10-12T16:44:49.631Z"
   },
   {
    "duration": 4,
    "start_time": "2022-10-12T16:44:49.757Z"
   },
   {
    "duration": 153,
    "start_time": "2022-10-12T16:44:49.763Z"
   },
   {
    "duration": 141,
    "start_time": "2022-10-12T16:44:49.918Z"
   },
   {
    "duration": 5,
    "start_time": "2022-10-12T16:44:50.060Z"
   },
   {
    "duration": 14,
    "start_time": "2022-10-12T17:45:27.710Z"
   },
   {
    "duration": 12,
    "start_time": "2022-10-12T17:53:28.060Z"
   },
   {
    "duration": 72,
    "start_time": "2022-10-12T17:54:31.898Z"
   },
   {
    "duration": 16,
    "start_time": "2022-10-12T17:54:41.082Z"
   },
   {
    "duration": 7,
    "start_time": "2022-10-12T17:54:44.365Z"
   },
   {
    "duration": 9,
    "start_time": "2022-10-12T17:54:47.234Z"
   },
   {
    "duration": 10,
    "start_time": "2022-10-12T17:55:13.533Z"
   },
   {
    "duration": 5,
    "start_time": "2022-10-12T17:57:51.534Z"
   },
   {
    "duration": 12,
    "start_time": "2022-10-12T17:58:09.988Z"
   },
   {
    "duration": 9,
    "start_time": "2022-10-12T17:58:21.725Z"
   },
   {
    "duration": 80,
    "start_time": "2022-10-12T17:58:31.101Z"
   },
   {
    "duration": 7,
    "start_time": "2022-10-12T17:58:33.565Z"
   },
   {
    "duration": 87,
    "start_time": "2022-10-12T17:58:36.773Z"
   },
   {
    "duration": 82,
    "start_time": "2022-10-12T17:58:40.700Z"
   },
   {
    "duration": 7,
    "start_time": "2022-10-12T17:58:43.940Z"
   },
   {
    "duration": 8,
    "start_time": "2022-10-12T17:58:45.626Z"
   },
   {
    "duration": 4,
    "start_time": "2022-10-12T17:58:49.701Z"
   },
   {
    "duration": 10,
    "start_time": "2022-10-12T17:59:11.197Z"
   },
   {
    "duration": 10,
    "start_time": "2022-10-12T17:59:32.141Z"
   },
   {
    "duration": 7,
    "start_time": "2022-10-12T17:59:47.173Z"
   },
   {
    "duration": 7,
    "start_time": "2022-10-12T18:00:07.077Z"
   },
   {
    "duration": 4,
    "start_time": "2022-10-12T18:00:18.565Z"
   },
   {
    "duration": 5,
    "start_time": "2022-10-12T18:00:27.694Z"
   },
   {
    "duration": 8,
    "start_time": "2022-10-12T18:00:31.957Z"
   },
   {
    "duration": 8,
    "start_time": "2022-10-12T18:01:08.891Z"
   },
   {
    "duration": 12,
    "start_time": "2022-10-12T18:01:30.605Z"
   },
   {
    "duration": 9,
    "start_time": "2022-10-12T18:01:40.021Z"
   },
   {
    "duration": 10,
    "start_time": "2022-10-12T18:03:46.908Z"
   },
   {
    "duration": 11,
    "start_time": "2022-10-12T18:07:17.364Z"
   },
   {
    "duration": 8,
    "start_time": "2022-10-12T18:07:43.115Z"
   },
   {
    "duration": 8,
    "start_time": "2022-10-12T18:09:56.179Z"
   },
   {
    "duration": 522,
    "start_time": "2022-10-12T18:10:16.763Z"
   },
   {
    "duration": 19,
    "start_time": "2022-10-12T18:10:22.724Z"
   },
   {
    "duration": 19,
    "start_time": "2022-10-12T18:11:37.356Z"
   },
   {
    "duration": 19,
    "start_time": "2022-10-12T18:11:46.634Z"
   },
   {
    "duration": 19,
    "start_time": "2022-10-12T18:12:01.851Z"
   },
   {
    "duration": 4,
    "start_time": "2022-10-12T18:12:11.316Z"
   },
   {
    "duration": 18,
    "start_time": "2022-10-12T18:13:32.948Z"
   },
   {
    "duration": 4,
    "start_time": "2022-10-12T18:15:39.563Z"
   },
   {
    "duration": 5,
    "start_time": "2022-10-12T18:16:06.946Z"
   },
   {
    "duration": 5,
    "start_time": "2022-10-12T18:16:36.163Z"
   },
   {
    "duration": 21,
    "start_time": "2022-10-12T18:16:37.849Z"
   },
   {
    "duration": 11,
    "start_time": "2022-10-12T18:27:08.598Z"
   },
   {
    "duration": 8,
    "start_time": "2022-10-12T18:27:37.610Z"
   },
   {
    "duration": 7,
    "start_time": "2022-10-12T18:28:11.297Z"
   },
   {
    "duration": 7,
    "start_time": "2022-10-12T18:28:17.985Z"
   },
   {
    "duration": 8,
    "start_time": "2022-10-12T18:29:15.461Z"
   },
   {
    "duration": 13,
    "start_time": "2022-10-12T18:38:58.271Z"
   },
   {
    "duration": 15,
    "start_time": "2022-10-12T18:39:51.796Z"
   },
   {
    "duration": 8,
    "start_time": "2022-10-12T18:40:31.727Z"
   },
   {
    "duration": 7,
    "start_time": "2022-10-12T18:40:49.488Z"
   },
   {
    "duration": 6,
    "start_time": "2022-10-12T18:41:34.279Z"
   },
   {
    "duration": 7,
    "start_time": "2022-10-12T18:41:43.128Z"
   },
   {
    "duration": 5,
    "start_time": "2022-10-12T18:41:55.391Z"
   },
   {
    "duration": 5,
    "start_time": "2022-10-12T18:42:10.071Z"
   },
   {
    "duration": 6,
    "start_time": "2022-10-12T18:42:28.215Z"
   },
   {
    "duration": 5,
    "start_time": "2022-10-12T18:42:32.488Z"
   },
   {
    "duration": 6,
    "start_time": "2022-10-12T18:42:36.207Z"
   },
   {
    "duration": 7,
    "start_time": "2022-10-12T18:43:12.951Z"
   },
   {
    "duration": 11,
    "start_time": "2022-10-12T18:46:04.782Z"
   },
   {
    "duration": 76,
    "start_time": "2022-10-12T18:46:53.918Z"
   },
   {
    "duration": 35,
    "start_time": "2022-10-12T18:48:01.030Z"
   },
   {
    "duration": 10,
    "start_time": "2022-10-12T18:48:41.006Z"
   },
   {
    "duration": 5,
    "start_time": "2022-10-12T18:48:49.295Z"
   },
   {
    "duration": 4,
    "start_time": "2022-10-12T18:48:54.887Z"
   },
   {
    "duration": 14,
    "start_time": "2022-10-12T18:49:41.159Z"
   },
   {
    "duration": 8,
    "start_time": "2022-10-12T18:49:45.262Z"
   },
   {
    "duration": 6,
    "start_time": "2022-10-12T18:50:36.343Z"
   },
   {
    "duration": 6,
    "start_time": "2022-10-12T18:50:47.246Z"
   },
   {
    "duration": 7,
    "start_time": "2022-10-12T18:51:08.054Z"
   },
   {
    "duration": 9,
    "start_time": "2022-10-12T18:51:14.959Z"
   },
   {
    "duration": 6,
    "start_time": "2022-10-12T18:51:21.839Z"
   },
   {
    "duration": 13,
    "start_time": "2022-10-12T18:51:52.299Z"
   },
   {
    "duration": 42,
    "start_time": "2022-10-12T18:52:05.438Z"
   },
   {
    "duration": 7,
    "start_time": "2022-10-12T18:52:13.326Z"
   },
   {
    "duration": 8,
    "start_time": "2022-10-12T18:52:25.919Z"
   },
   {
    "duration": 10,
    "start_time": "2022-10-12T18:53:36.766Z"
   },
   {
    "duration": 11,
    "start_time": "2022-10-12T18:54:44.517Z"
   },
   {
    "duration": 5,
    "start_time": "2022-10-12T18:54:47.854Z"
   },
   {
    "duration": 6,
    "start_time": "2022-10-12T18:54:50.829Z"
   },
   {
    "duration": 18,
    "start_time": "2022-10-12T18:55:12.574Z"
   },
   {
    "duration": 28,
    "start_time": "2022-10-12T18:55:20.454Z"
   },
   {
    "duration": 6,
    "start_time": "2022-10-12T18:55:35.661Z"
   },
   {
    "duration": 12,
    "start_time": "2022-10-12T19:00:12.573Z"
   },
   {
    "duration": 9,
    "start_time": "2022-10-12T19:00:27.962Z"
   },
   {
    "duration": 15,
    "start_time": "2022-10-12T19:00:33.781Z"
   },
   {
    "duration": 14,
    "start_time": "2022-10-12T19:00:39.005Z"
   },
   {
    "duration": 13,
    "start_time": "2022-10-12T19:00:42.557Z"
   },
   {
    "duration": 13,
    "start_time": "2022-10-12T19:00:46.501Z"
   },
   {
    "duration": 15,
    "start_time": "2022-10-12T19:01:04.854Z"
   },
   {
    "duration": 16,
    "start_time": "2022-10-12T19:01:12.278Z"
   },
   {
    "duration": 12,
    "start_time": "2022-10-12T19:01:33.630Z"
   },
   {
    "duration": 9,
    "start_time": "2022-10-12T19:02:06.541Z"
   },
   {
    "duration": 13,
    "start_time": "2022-10-12T19:02:17.894Z"
   },
   {
    "duration": 7,
    "start_time": "2022-10-12T19:02:33.085Z"
   },
   {
    "duration": 8,
    "start_time": "2022-10-12T19:02:35.256Z"
   },
   {
    "duration": 6,
    "start_time": "2022-10-12T19:02:52.189Z"
   },
   {
    "duration": 6,
    "start_time": "2022-10-12T19:02:53.012Z"
   },
   {
    "duration": 13,
    "start_time": "2022-10-12T19:03:44.062Z"
   },
   {
    "duration": 10,
    "start_time": "2022-10-12T19:05:13.623Z"
   },
   {
    "duration": 10,
    "start_time": "2022-10-12T19:05:15.748Z"
   },
   {
    "duration": 34,
    "start_time": "2022-10-12T19:17:30.556Z"
   },
   {
    "duration": 35,
    "start_time": "2022-10-12T19:17:37.052Z"
   },
   {
    "duration": 37,
    "start_time": "2022-10-12T19:18:20.588Z"
   },
   {
    "duration": 12,
    "start_time": "2022-10-12T19:18:52.436Z"
   },
   {
    "duration": 40,
    "start_time": "2022-10-12T19:18:56.172Z"
   },
   {
    "duration": 307,
    "start_time": "2022-10-12T19:18:58.083Z"
   },
   {
    "duration": 274,
    "start_time": "2022-10-12T19:20:27.324Z"
   },
   {
    "duration": 316,
    "start_time": "2022-10-12T19:20:41.379Z"
   },
   {
    "duration": 45,
    "start_time": "2022-10-12T19:22:30.267Z"
   },
   {
    "duration": 992,
    "start_time": "2022-10-12T19:26:02.116Z"
   },
   {
    "duration": 72,
    "start_time": "2022-10-12T19:26:03.110Z"
   },
   {
    "duration": 11,
    "start_time": "2022-10-12T19:26:03.183Z"
   },
   {
    "duration": 5,
    "start_time": "2022-10-12T19:26:03.195Z"
   },
   {
    "duration": 46,
    "start_time": "2022-10-12T19:26:03.201Z"
   },
   {
    "duration": 13,
    "start_time": "2022-10-12T19:26:03.248Z"
   },
   {
    "duration": 28,
    "start_time": "2022-10-12T19:26:03.262Z"
   },
   {
    "duration": 10,
    "start_time": "2022-10-12T19:26:03.292Z"
   },
   {
    "duration": 14,
    "start_time": "2022-10-12T19:26:03.303Z"
   },
   {
    "duration": 8,
    "start_time": "2022-10-12T19:26:03.319Z"
   },
   {
    "duration": 4,
    "start_time": "2022-10-12T19:26:03.329Z"
   },
   {
    "duration": 7,
    "start_time": "2022-10-12T19:26:03.334Z"
   },
   {
    "duration": 10,
    "start_time": "2022-10-12T19:26:03.342Z"
   },
   {
    "duration": 32,
    "start_time": "2022-10-12T19:26:03.354Z"
   },
   {
    "duration": 11,
    "start_time": "2022-10-12T19:26:03.387Z"
   },
   {
    "duration": 7,
    "start_time": "2022-10-12T19:26:03.400Z"
   },
   {
    "duration": 13,
    "start_time": "2022-10-12T19:26:03.414Z"
   },
   {
    "duration": 33,
    "start_time": "2022-10-12T19:26:03.428Z"
   },
   {
    "duration": 35,
    "start_time": "2022-10-12T19:26:03.462Z"
   },
   {
    "duration": 7,
    "start_time": "2022-10-12T19:26:03.498Z"
   },
   {
    "duration": 279,
    "start_time": "2022-10-12T19:26:03.506Z"
   },
   {
    "duration": 204,
    "start_time": "2022-10-12T19:26:03.786Z"
   },
   {
    "duration": 7,
    "start_time": "2022-10-12T19:26:03.991Z"
   },
   {
    "duration": 297,
    "start_time": "2022-10-12T19:26:04.000Z"
   },
   {
    "duration": 197,
    "start_time": "2022-10-12T19:26:04.299Z"
   },
   {
    "duration": 290,
    "start_time": "2022-10-12T19:26:04.498Z"
   },
   {
    "duration": 6,
    "start_time": "2022-10-12T19:26:04.789Z"
   },
   {
    "duration": 136,
    "start_time": "2022-10-12T19:26:04.798Z"
   },
   {
    "duration": 153,
    "start_time": "2022-10-12T19:26:04.935Z"
   },
   {
    "duration": 5,
    "start_time": "2022-10-12T19:26:05.089Z"
   },
   {
    "duration": 150,
    "start_time": "2022-10-12T19:26:05.095Z"
   },
   {
    "duration": 223,
    "start_time": "2022-10-12T19:26:05.246Z"
   },
   {
    "duration": 4,
    "start_time": "2022-10-12T19:26:05.471Z"
   },
   {
    "duration": 10,
    "start_time": "2022-10-12T19:26:05.484Z"
   },
   {
    "duration": 7,
    "start_time": "2022-10-12T19:26:05.495Z"
   },
   {
    "duration": 24,
    "start_time": "2022-10-12T19:26:05.503Z"
   },
   {
    "duration": 3,
    "start_time": "2022-10-12T19:26:05.529Z"
   },
   {
    "duration": 8,
    "start_time": "2022-10-12T19:26:05.534Z"
   },
   {
    "duration": 6,
    "start_time": "2022-10-12T19:26:05.544Z"
   },
   {
    "duration": 34,
    "start_time": "2022-10-12T19:26:05.551Z"
   },
   {
    "duration": 6,
    "start_time": "2022-10-12T19:26:05.586Z"
   },
   {
    "duration": 14,
    "start_time": "2022-10-12T19:26:05.593Z"
   },
   {
    "duration": 18,
    "start_time": "2022-10-12T19:26:05.608Z"
   },
   {
    "duration": 3,
    "start_time": "2022-10-12T19:26:05.628Z"
   },
   {
    "duration": 14,
    "start_time": "2022-10-12T19:26:05.633Z"
   },
   {
    "duration": 13,
    "start_time": "2022-10-12T19:26:05.649Z"
   },
   {
    "duration": 60,
    "start_time": "2022-10-12T19:26:05.664Z"
   },
   {
    "duration": 263,
    "start_time": "2022-10-12T19:26:05.725Z"
   },
   {
    "duration": 301,
    "start_time": "2022-10-12T19:26:05.990Z"
   },
   {
    "duration": 1063,
    "start_time": "2022-10-12T19:27:14.174Z"
   },
   {
    "duration": 75,
    "start_time": "2022-10-12T19:27:15.239Z"
   },
   {
    "duration": 11,
    "start_time": "2022-10-12T19:27:15.315Z"
   },
   {
    "duration": 6,
    "start_time": "2022-10-12T19:27:15.328Z"
   },
   {
    "duration": 61,
    "start_time": "2022-10-12T19:27:15.337Z"
   },
   {
    "duration": 11,
    "start_time": "2022-10-12T19:27:15.400Z"
   },
   {
    "duration": 19,
    "start_time": "2022-10-12T19:27:15.412Z"
   },
   {
    "duration": 14,
    "start_time": "2022-10-12T19:27:15.432Z"
   },
   {
    "duration": 20,
    "start_time": "2022-10-12T19:27:15.448Z"
   },
   {
    "duration": 18,
    "start_time": "2022-10-12T19:27:15.469Z"
   },
   {
    "duration": 12,
    "start_time": "2022-10-12T19:27:15.488Z"
   },
   {
    "duration": 8,
    "start_time": "2022-10-12T19:27:15.502Z"
   },
   {
    "duration": 14,
    "start_time": "2022-10-12T19:27:15.511Z"
   },
   {
    "duration": 20,
    "start_time": "2022-10-12T19:27:15.528Z"
   },
   {
    "duration": 17,
    "start_time": "2022-10-12T19:27:15.549Z"
   },
   {
    "duration": 7,
    "start_time": "2022-10-12T19:27:15.568Z"
   },
   {
    "duration": 5,
    "start_time": "2022-10-12T19:27:15.585Z"
   },
   {
    "duration": 36,
    "start_time": "2022-10-12T19:27:15.592Z"
   },
   {
    "duration": 23,
    "start_time": "2022-10-12T19:27:15.629Z"
   },
   {
    "duration": 34,
    "start_time": "2022-10-12T19:27:15.653Z"
   },
   {
    "duration": 274,
    "start_time": "2022-10-12T19:27:15.689Z"
   },
   {
    "duration": 199,
    "start_time": "2022-10-12T19:27:15.965Z"
   },
   {
    "duration": 6,
    "start_time": "2022-10-12T19:27:16.165Z"
   },
   {
    "duration": 352,
    "start_time": "2022-10-12T19:27:16.172Z"
   },
   {
    "duration": 194,
    "start_time": "2022-10-12T19:27:16.527Z"
   },
   {
    "duration": 280,
    "start_time": "2022-10-12T19:27:16.723Z"
   },
   {
    "duration": 6,
    "start_time": "2022-10-12T19:27:17.005Z"
   },
   {
    "duration": 165,
    "start_time": "2022-10-12T19:27:17.014Z"
   },
   {
    "duration": 160,
    "start_time": "2022-10-12T19:27:17.184Z"
   },
   {
    "duration": 5,
    "start_time": "2022-10-12T19:27:17.345Z"
   },
   {
    "duration": 159,
    "start_time": "2022-10-12T19:27:17.351Z"
   },
   {
    "duration": 219,
    "start_time": "2022-10-12T19:27:17.511Z"
   },
   {
    "duration": 4,
    "start_time": "2022-10-12T19:27:17.732Z"
   },
   {
    "duration": 11,
    "start_time": "2022-10-12T19:27:17.738Z"
   },
   {
    "duration": 8,
    "start_time": "2022-10-12T19:27:17.750Z"
   },
   {
    "duration": 40,
    "start_time": "2022-10-12T19:27:17.759Z"
   },
   {
    "duration": 6,
    "start_time": "2022-10-12T19:27:17.802Z"
   },
   {
    "duration": 10,
    "start_time": "2022-10-12T19:27:17.809Z"
   },
   {
    "duration": 7,
    "start_time": "2022-10-12T19:27:17.821Z"
   },
   {
    "duration": 9,
    "start_time": "2022-10-12T19:27:17.829Z"
   },
   {
    "duration": 11,
    "start_time": "2022-10-12T19:27:17.841Z"
   },
   {
    "duration": 11,
    "start_time": "2022-10-12T19:27:17.853Z"
   },
   {
    "duration": 33,
    "start_time": "2022-10-12T19:27:17.865Z"
   },
   {
    "duration": 16,
    "start_time": "2022-10-12T19:27:17.900Z"
   },
   {
    "duration": 19,
    "start_time": "2022-10-12T19:27:17.917Z"
   },
   {
    "duration": 21,
    "start_time": "2022-10-12T19:27:17.937Z"
   },
   {
    "duration": 40,
    "start_time": "2022-10-12T19:27:17.959Z"
   },
   {
    "duration": 296,
    "start_time": "2022-10-12T19:27:18.000Z"
   },
   {
    "duration": 279,
    "start_time": "2022-10-12T19:27:18.297Z"
   },
   {
    "duration": 9,
    "start_time": "2022-10-12T20:08:31.101Z"
   },
   {
    "duration": 12,
    "start_time": "2022-10-12T20:08:46.943Z"
   },
   {
    "duration": 10,
    "start_time": "2022-10-12T20:10:37.490Z"
   },
   {
    "duration": 10,
    "start_time": "2022-10-12T20:10:41.249Z"
   },
   {
    "duration": 10,
    "start_time": "2022-10-12T20:11:10.090Z"
   },
   {
    "duration": 3,
    "start_time": "2022-10-12T20:14:22.081Z"
   },
   {
    "duration": 93,
    "start_time": "2022-10-12T20:14:37.281Z"
   },
   {
    "duration": 8,
    "start_time": "2022-10-12T20:14:59.520Z"
   },
   {
    "duration": 88,
    "start_time": "2022-10-12T20:15:15.328Z"
   },
   {
    "duration": 10,
    "start_time": "2022-10-12T20:16:08.824Z"
   },
   {
    "duration": 99,
    "start_time": "2022-10-12T20:16:25.778Z"
   },
   {
    "duration": 12,
    "start_time": "2022-10-12T20:17:01.465Z"
   },
   {
    "duration": 11,
    "start_time": "2022-10-12T20:17:08.728Z"
   },
   {
    "duration": 9,
    "start_time": "2022-10-12T20:17:14.256Z"
   },
   {
    "duration": 10,
    "start_time": "2022-10-12T20:17:21.928Z"
   },
   {
    "duration": 9,
    "start_time": "2022-10-12T20:17:25.649Z"
   },
   {
    "duration": 10,
    "start_time": "2022-10-12T20:17:28.168Z"
   },
   {
    "duration": 9,
    "start_time": "2022-10-12T20:17:42.017Z"
   },
   {
    "duration": 10,
    "start_time": "2022-10-12T20:17:46.608Z"
   },
   {
    "duration": 12,
    "start_time": "2022-10-12T20:18:00.416Z"
   },
   {
    "duration": 12,
    "start_time": "2022-10-12T20:19:43.216Z"
   },
   {
    "duration": 13,
    "start_time": "2022-10-12T20:19:54.360Z"
   },
   {
    "duration": 149,
    "start_time": "2022-10-12T20:20:15.201Z"
   },
   {
    "duration": 4,
    "start_time": "2022-10-12T20:21:27.200Z"
   },
   {
    "duration": 73,
    "start_time": "2022-10-12T20:26:33.471Z"
   },
   {
    "duration": 77,
    "start_time": "2022-10-12T20:27:45.607Z"
   },
   {
    "duration": 3,
    "start_time": "2022-10-12T20:38:00.698Z"
   },
   {
    "duration": 3,
    "start_time": "2022-10-12T20:38:03.768Z"
   },
   {
    "duration": 5,
    "start_time": "2022-10-12T20:38:06.664Z"
   },
   {
    "duration": 4,
    "start_time": "2022-10-12T20:38:09.752Z"
   },
   {
    "duration": 11,
    "start_time": "2022-10-12T20:38:12.585Z"
   },
   {
    "duration": 7,
    "start_time": "2022-10-12T20:38:31.952Z"
   },
   {
    "duration": 7,
    "start_time": "2022-10-12T20:38:59.416Z"
   },
   {
    "duration": 987,
    "start_time": "2022-10-12T20:44:43.926Z"
   },
   {
    "duration": 73,
    "start_time": "2022-10-12T20:44:44.914Z"
   },
   {
    "duration": 10,
    "start_time": "2022-10-12T20:44:44.988Z"
   },
   {
    "duration": 21,
    "start_time": "2022-10-12T20:44:45.000Z"
   },
   {
    "duration": 68,
    "start_time": "2022-10-12T20:44:45.023Z"
   },
   {
    "duration": 12,
    "start_time": "2022-10-12T20:44:45.092Z"
   },
   {
    "duration": 13,
    "start_time": "2022-10-12T20:44:45.105Z"
   },
   {
    "duration": 12,
    "start_time": "2022-10-12T20:44:45.119Z"
   },
   {
    "duration": 16,
    "start_time": "2022-10-12T20:44:45.132Z"
   },
   {
    "duration": 9,
    "start_time": "2022-10-12T20:44:45.151Z"
   },
   {
    "duration": 6,
    "start_time": "2022-10-12T20:44:45.184Z"
   },
   {
    "duration": 5,
    "start_time": "2022-10-12T20:44:45.192Z"
   },
   {
    "duration": 9,
    "start_time": "2022-10-12T20:44:45.199Z"
   },
   {
    "duration": 8,
    "start_time": "2022-10-12T20:44:45.209Z"
   },
   {
    "duration": 10,
    "start_time": "2022-10-12T20:44:45.218Z"
   },
   {
    "duration": 5,
    "start_time": "2022-10-12T20:44:45.230Z"
   },
   {
    "duration": 7,
    "start_time": "2022-10-12T20:44:45.236Z"
   },
   {
    "duration": 68,
    "start_time": "2022-10-12T20:44:45.244Z"
   },
   {
    "duration": 20,
    "start_time": "2022-10-12T20:44:45.313Z"
   },
   {
    "duration": 7,
    "start_time": "2022-10-12T20:44:45.334Z"
   },
   {
    "duration": 267,
    "start_time": "2022-10-12T20:44:45.343Z"
   },
   {
    "duration": 193,
    "start_time": "2022-10-12T20:44:45.612Z"
   },
   {
    "duration": 7,
    "start_time": "2022-10-12T20:44:45.807Z"
   },
   {
    "duration": 269,
    "start_time": "2022-10-12T20:44:45.816Z"
   },
   {
    "duration": 176,
    "start_time": "2022-10-12T20:44:46.087Z"
   },
   {
    "duration": 315,
    "start_time": "2022-10-12T20:44:46.264Z"
   },
   {
    "duration": 7,
    "start_time": "2022-10-12T20:44:46.585Z"
   },
   {
    "duration": 140,
    "start_time": "2022-10-12T20:44:46.596Z"
   },
   {
    "duration": 126,
    "start_time": "2022-10-12T20:44:46.737Z"
   },
   {
    "duration": 5,
    "start_time": "2022-10-12T20:44:46.864Z"
   },
   {
    "duration": 156,
    "start_time": "2022-10-12T20:44:46.884Z"
   },
   {
    "duration": 211,
    "start_time": "2022-10-12T20:44:47.042Z"
   },
   {
    "duration": 5,
    "start_time": "2022-10-12T20:44:47.255Z"
   },
   {
    "duration": 28,
    "start_time": "2022-10-12T20:44:47.262Z"
   },
   {
    "duration": 8,
    "start_time": "2022-10-12T20:44:47.292Z"
   },
   {
    "duration": 23,
    "start_time": "2022-10-12T20:44:47.301Z"
   },
   {
    "duration": 5,
    "start_time": "2022-10-12T20:44:47.326Z"
   },
   {
    "duration": 10,
    "start_time": "2022-10-12T20:44:47.333Z"
   },
   {
    "duration": 7,
    "start_time": "2022-10-12T20:44:47.344Z"
   },
   {
    "duration": 36,
    "start_time": "2022-10-12T20:44:47.353Z"
   },
   {
    "duration": 12,
    "start_time": "2022-10-12T20:44:47.391Z"
   },
   {
    "duration": 10,
    "start_time": "2022-10-12T20:44:47.405Z"
   },
   {
    "duration": 18,
    "start_time": "2022-10-12T20:44:47.417Z"
   },
   {
    "duration": 4,
    "start_time": "2022-10-12T20:44:47.437Z"
   },
   {
    "duration": 10,
    "start_time": "2022-10-12T20:44:47.443Z"
   },
   {
    "duration": 78,
    "start_time": "2022-10-12T20:44:47.455Z"
   },
   {
    "duration": 50,
    "start_time": "2022-10-12T20:44:47.535Z"
   },
   {
    "duration": 293,
    "start_time": "2022-10-12T20:44:47.586Z"
   },
   {
    "duration": 288,
    "start_time": "2022-10-12T20:44:47.885Z"
   },
   {
    "duration": 42,
    "start_time": "2022-10-13T18:21:10.918Z"
   },
   {
    "duration": 1172,
    "start_time": "2022-10-13T18:21:17.976Z"
   },
   {
    "duration": 229,
    "start_time": "2022-10-13T18:21:19.150Z"
   },
   {
    "duration": 11,
    "start_time": "2022-10-13T18:21:19.381Z"
   },
   {
    "duration": 3,
    "start_time": "2022-10-13T18:21:19.394Z"
   },
   {
    "duration": 49,
    "start_time": "2022-10-13T18:21:19.398Z"
   },
   {
    "duration": 11,
    "start_time": "2022-10-13T18:21:19.449Z"
   },
   {
    "duration": 11,
    "start_time": "2022-10-13T18:21:19.462Z"
   },
   {
    "duration": 10,
    "start_time": "2022-10-13T18:21:19.474Z"
   },
   {
    "duration": 15,
    "start_time": "2022-10-13T18:21:19.505Z"
   },
   {
    "duration": 9,
    "start_time": "2022-10-13T18:21:19.522Z"
   },
   {
    "duration": 5,
    "start_time": "2022-10-13T18:21:19.532Z"
   },
   {
    "duration": 7,
    "start_time": "2022-10-13T18:21:19.538Z"
   },
   {
    "duration": 14,
    "start_time": "2022-10-13T18:21:19.546Z"
   },
   {
    "duration": 8,
    "start_time": "2022-10-13T18:21:19.562Z"
   },
   {
    "duration": 34,
    "start_time": "2022-10-13T18:21:19.572Z"
   },
   {
    "duration": 6,
    "start_time": "2022-10-13T18:21:19.607Z"
   },
   {
    "duration": 15,
    "start_time": "2022-10-13T18:21:19.615Z"
   },
   {
    "duration": 39,
    "start_time": "2022-10-13T18:21:19.631Z"
   },
   {
    "duration": 33,
    "start_time": "2022-10-13T18:21:19.672Z"
   },
   {
    "duration": 9,
    "start_time": "2022-10-13T18:21:19.707Z"
   },
   {
    "duration": 275,
    "start_time": "2022-10-13T18:21:19.717Z"
   },
   {
    "duration": 201,
    "start_time": "2022-10-13T18:21:19.994Z"
   },
   {
    "duration": 12,
    "start_time": "2022-10-13T18:21:20.196Z"
   },
   {
    "duration": 324,
    "start_time": "2022-10-13T18:21:20.209Z"
   },
   {
    "duration": 189,
    "start_time": "2022-10-13T18:21:20.535Z"
   },
   {
    "duration": 271,
    "start_time": "2022-10-13T18:21:20.726Z"
   },
   {
    "duration": 10,
    "start_time": "2022-10-13T18:21:20.998Z"
   },
   {
    "duration": 136,
    "start_time": "2022-10-13T18:21:21.011Z"
   },
   {
    "duration": 127,
    "start_time": "2022-10-13T18:21:21.149Z"
   },
   {
    "duration": 5,
    "start_time": "2022-10-13T18:21:21.278Z"
   },
   {
    "duration": 149,
    "start_time": "2022-10-13T18:21:21.284Z"
   },
   {
    "duration": 204,
    "start_time": "2022-10-13T18:21:21.434Z"
   },
   {
    "duration": 4,
    "start_time": "2022-10-13T18:21:21.639Z"
   },
   {
    "duration": 11,
    "start_time": "2022-10-13T18:21:21.645Z"
   },
   {
    "duration": 6,
    "start_time": "2022-10-13T18:21:21.657Z"
   },
   {
    "duration": 20,
    "start_time": "2022-10-13T18:21:21.665Z"
   },
   {
    "duration": 21,
    "start_time": "2022-10-13T18:21:21.686Z"
   },
   {
    "duration": 10,
    "start_time": "2022-10-13T18:21:21.708Z"
   },
   {
    "duration": 6,
    "start_time": "2022-10-13T18:21:21.719Z"
   },
   {
    "duration": 8,
    "start_time": "2022-10-13T18:21:21.726Z"
   },
   {
    "duration": 9,
    "start_time": "2022-10-13T18:21:21.735Z"
   },
   {
    "duration": 9,
    "start_time": "2022-10-13T18:21:21.745Z"
   },
   {
    "duration": 16,
    "start_time": "2022-10-13T18:21:21.756Z"
   },
   {
    "duration": 31,
    "start_time": "2022-10-13T18:21:21.774Z"
   },
   {
    "duration": 11,
    "start_time": "2022-10-13T18:21:21.807Z"
   },
   {
    "duration": 10,
    "start_time": "2022-10-13T18:21:21.821Z"
   },
   {
    "duration": 38,
    "start_time": "2022-10-13T18:21:21.832Z"
   },
   {
    "duration": 321,
    "start_time": "2022-10-13T18:21:21.872Z"
   },
   {
    "duration": 312,
    "start_time": "2022-10-13T18:21:22.195Z"
   }
  ],
  "kernelspec": {
   "display_name": "Python 3 (ipykernel)",
   "language": "python",
   "name": "python3"
  },
  "language_info": {
   "codemirror_mode": {
    "name": "ipython",
    "version": 3
   },
   "file_extension": ".py",
   "mimetype": "text/x-python",
   "name": "python",
   "nbconvert_exporter": "python",
   "pygments_lexer": "ipython3",
   "version": "3.9.5"
  },
  "toc": {
   "base_numbering": 1,
   "nav_menu": {},
   "number_sections": true,
   "sideBar": true,
   "skip_h1_title": true,
   "title_cell": "Table of Contents",
   "title_sidebar": "Contents",
   "toc_cell": false,
   "toc_position": {
    "height": "calc(100% - 180px)",
    "left": "10px",
    "top": "150px",
    "width": "366.188px"
   },
   "toc_section_display": true,
   "toc_window_display": false
  }
 },
 "nbformat": 4,
 "nbformat_minor": 2
}
